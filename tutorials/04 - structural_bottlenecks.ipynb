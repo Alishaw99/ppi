{
 "cells": [
  {
   "cell_type": "markdown",
   "id": "15ce1fec",
   "metadata": {},
   "source": [
    "# <center>Structural bottlenecks</center>\n",
    "\n",
    "Prepared by Omar A. Guerrero (oguerrero@turing.ac.uk, <a href=\"https://twitter.com/guerrero_oa\">@guerrero_oa</a>)\n",
    "\n",
    "The previous tutorial explained how to simulate a budgetary intervention, and the results suggest that, for this example, the indicators respond modestly to lnear increments in government expenditure. In this tutorial, I will explain how to expand on the idea of expenditure sensitivity in order to quantify structural bottlenecks, a concept that is often discussed in the development economics and SDG literature, but that is rarely formalised. In addition, I will show you how to perform a larger set of Monte Carlo simulations while disributing their work load across multiple cores or processors."
   ]
  },
  {
   "cell_type": "markdown",
   "id": "11fd9f88",
   "metadata": {},
   "source": [
    "## Importing Python libraries to manipulate and visualise data"
   ]
  },
  {
   "cell_type": "code",
   "execution_count": 1,
   "id": "bb8e3fd2",
   "metadata": {},
   "outputs": [],
   "source": [
    "import pandas as pd\n",
    "import numpy as np\n",
    "import matplotlib.pyplot as plt"
   ]
  },
  {
   "cell_type": "markdown",
   "id": "0e61a059",
   "metadata": {},
   "source": [
    "## Importing PPI functions"
   ]
  },
  {
   "cell_type": "code",
   "execution_count": 2,
   "id": "8b72c611",
   "metadata": {},
   "outputs": [],
   "source": [
    "import requests\n",
    "url = 'https://raw.githubusercontent.com/oguerrer/ppi/main/source_code/ppi.py'\n",
    "r = requests.get(url)\n",
    "with open('ppi.py', 'w') as f:\n",
    "    f.write(r.text)\n",
    "import ppi"
   ]
  },
  {
   "cell_type": "markdown",
   "id": "7579814a",
   "metadata": {},
   "source": [
    "## Load data"
   ]
  },
  {
   "cell_type": "code",
   "execution_count": 6,
   "id": "040ceb3a",
   "metadata": {},
   "outputs": [],
   "source": [
    "# INDICATORS\n",
    "df_indis = pd.read_csv('https://raw.githubusercontent.com/oguerrer/ppi/main/tutorials/clean_data/data_indicators.csv')\n",
    "N = len(df_indis) # number of indicators\n",
    "I0 = df_indis.IF.values # initial values\n",
    "R = df_indis.instrumental # instrumental indicators\n",
    "qm = df_indis.qm.values # quality of monitoring\n",
    "rl = df_indis.rl.values # quality of the rule of law\n",
    "indis_index = dict([(code, i) for i, code in enumerate(df_indis.seriesCode)]) # used to build the network matrix\n",
    "Imax = df_indis.maxVals.values\n",
    "Imin = df_indis.minVals.values\n",
    "goals = np.random.rand(N)*(Imax - I0) + I0\n",
    "\n",
    "# PARAMETERS\n",
    "df_params = pd.read_csv('https://raw.githubusercontent.com/oguerrer/ppi/main/tutorials/clean_data/parameters.csv')\n",
    "alphas = df_params.alpha.values\n",
    "alphas_prime = df_params.alpha_prime.values\n",
    "betas = df_params.beta.values\n",
    "\n",
    "# NETWORK\n",
    "df_net = pd.read_csv('https://raw.githubusercontent.com/oguerrer/ppi/main/tutorials/clean_data/data_network.csv')\n",
    "A = np.zeros((N, N)) # adjacency matrix\n",
    "for index, row in df_net.iterrows():\n",
    "    i = indis_index[row.origin]\n",
    "    j = indis_index[row.destination]\n",
    "    w = row.weight\n",
    "    A[i,j] = w\n",
    "\n",
    "# DISBURSEMENT SCHEDULE (make sure that the disbursement schedule is consistent with T, otherwise PPI will simulate the T of the calibration)\n",
    "T = 30\n",
    "df_exp = pd.read_csv('https://raw.githubusercontent.com/oguerrer/ppi/main/tutorials/clean_data/data_expenditure.csv')\n",
    "Bs_retrospective = df_exp.values[:,1::] # disbursement schedule (assumes that the expenditure programmes are properly sorted)\n",
    "# Create a new disbursement schedule assuming that expenditure will be the same as the last period of the sample\n",
    "Bs = np.tile(Bs_retrospective[:,-1], (T,1)).T\n",
    "\n",
    "# RELATIONAL TABLE\n",
    "df_rela = pd.read_csv('https://raw.githubusercontent.com/oguerrer/ppi/main/tutorials/clean_data/data_relational_table.csv')\n",
    "B_dict = {}\n",
    "for index, row in df_rela.iterrows():\n",
    "    B_dict[indis_index[row.seriesCode]] = [programme for programme in row.values[1::][row.values[1::].astype(str)!='nan']]"
   ]
  },
  {
   "cell_type": "markdown",
   "id": "7e23ebab",
   "metadata": {},
   "source": [
    "## Bottlenecks\n",
    "\n",
    "In the book, we develop two definitions of structural bottlenecks:\n",
    "\n",
    "1. Idiosyncratic bottlenecks: Those that focus on the structural constraints of a single indicator.\n",
    "2. Systemic bottlenecks: Those that \"clog\" the development of other policy issues through indirect impacts.\n",
    "\n",
    "In this tutorial, I will focus on the first type: <strong>idiosyncratic bottlenecks</strong>. An idiosyncratic bottleneck bottleneck manifests when a–historically poor-performing indicator–responds poorly to budgetary interventions. An indicator may not respond to an expenditure programme because it experiences strong structural constraints (e.g., badly designed policies) that can only be lifted through long-term structural reforms (e.g., redesigning the relevant government programmes), not just by spending more resources. Alternatively, a particular network structure may also be responsible for a poor response if other development dimensions exert a negative influence on the indicator.\n",
    "\n",
    "Regardless of the reason behind a poor response, a necessary condition to identify an indicator with an idiosyncratic bottleneck is a historically bad performance. This is so because and indicator could be insensitive to budget interventions due to decreasing marginal returns, as opposed to ill-concieved programmes.\n",
    "\n",
    "\n",
    "### The budgetary frontier\n",
    "\n",
    "To identify an idiosyncratric bottleneck you need to think of a hypothetical budgetary intervention that would lift all financial obstacles and negative spillovers. Effectively, such scenario would mean that the probability of success of the intervened indicator is always 1. This hypothetical scenario is called the <strong>budgetary frontier</strong>, and was originally developed in https://doi.org/10.1007/s11625-022-01095-1. The idea is that, if a government operates on the budgetary frontier, and there are still indicators that respond poorly, it means that they are being constrained by long-term structural factors.\n",
    "\n",
    "To perform frontier analysis, the `run_ppi` function offers the optional parameter `frontier`. This parameter consists of a vector specifying the probability of success that one would like to exogenously impose to each indicator. Hence, for this tutorial, I will impose a value of 1 for all indicators.\n",
    "\n",
    "\n",
    "### Parallelisation\n",
    "\n",
    "Instead of calling the `run_ppi` function in an explicit `for` loop, I will use `run_ppi_parallel`, which allows to perform multiple Monte Carlo simulations and distribute their load across four cores or processors. This functions takes the same inputs as `run_ppi` with a couple of additional ones to specify the number of simulations. First, I will run the baseline simulation and, then, the frontier one."
   ]
  },
  {
   "cell_type": "code",
   "execution_count": 29,
   "id": "bf95c54a",
   "metadata": {},
   "outputs": [],
   "source": [
    "parallel_processes=4\n",
    "sample_size=1000 # now we increase the sample size to 1000\n",
    "\n",
    "# first the baseline\n",
    "outputs_baseline = ppi.run_ppi_parallel(I0, alphas, alphas_prime, betas, A=A, R=R, qm=qm, rl=rl,\n",
    "                                        Imax=Imax, Imin=Imin, Bs=Bs, B_dict=B_dict, T=T, G=goals,\n",
    "                                        parallel_processes=parallel_processes, sample_size=sample_size)\n",
    "\n",
    "# now the frontier\n",
    "# notice that Bs and B_dict will be overridden by frontier\n",
    "frontier = 1\n",
    "outputs_frontier = ppi.run_ppi_parallel(I0, alphas, alphas_prime, betas, A=A, R=R, qm=qm, rl=rl,\n",
    "                                        Imax=Imax, Imin=Imin, Bs=Bs, B_dict=B_dict, T=T, G=goals, frontier=frontier,\n",
    "                                        parallel_processes=parallel_processes, sample_size=sample_size)"
   ]
  },
  {
   "cell_type": "markdown",
   "id": "2cd44b47",
   "metadata": {},
   "source": [
    "Now we unpack the outputs and obtain the average time series of the baseliene and the counterfactual."
   ]
  },
  {
   "cell_type": "code",
   "execution_count": 20,
   "id": "9d032ec8",
   "metadata": {},
   "outputs": [],
   "source": [
    "tsI_sample, tsC_sample, tsF_sample, tsP_sample, tsS_sample, tsG_sample = outputs_baseline\n",
    "tsI_baseline = np.mean(tsI_sample, axis=0)\n",
    "\n",
    "tsI_sample, tsC_sample, tsF_sample, tsP_sample, tsS_sample, tsG_sample = outputs_frontier\n",
    "tsI_frontier = np.mean(tsI_sample, axis=0)"
   ]
  },
  {
   "cell_type": "markdown",
   "id": "c45fbfbf",
   "metadata": {},
   "source": [
    "Time to visualise the difference in gaps."
   ]
  },
  {
   "cell_type": "code",
   "execution_count": 27,
   "id": "e1e0aada",
   "metadata": {},
   "outputs": [
    {
     "data": {
      "text/plain": [
       "(0.6129739012806091, 0.6149664614532312)"
      ]
     },
     "execution_count": 27,
     "metadata": {},
     "output_type": "execute_result"
    }
   ],
   "source": [
    "tsI_baseline[index,T-1], tsI_frontier[index,T-1]"
   ]
  },
  {
   "cell_type": "code",
   "execution_count": 28,
   "id": "6e281fc2",
   "metadata": {},
   "outputs": [
    {
     "data": {
      "image/png": "[encoded data removed]",
      "text/plain": [
       "<Figure size 432x432 with 1 Axes>"
      ]
     },
     "metadata": {
      "needs_background": "light"
     },
     "output_type": "display_data"
    }
   ],
   "source": [
    "plt.figure(figsize=(6, 6))\n",
    "for index, row in df_indis.iterrows():\n",
    "    goal = goals[index]\n",
    "    if goal > tsI_baseline[index,T-1]:\n",
    "        plt.plot(goal-tsI_baseline[index,T-1], goal-tsI_frontier[index,T-1],\n",
    "                 '.', mec='w', mfc=row.color, markersize=20)\n",
    "plt.gca().spines['right'].set_visible(False)\n",
    "plt.gca().spines['top'].set_visible(False)\n",
    "plt.xlabel('baseline development gap')\n",
    "plt.ylabel('development gap on the budgetary frontier')\n",
    "plt.tight_layout()"
   ]
  },
  {
   "cell_type": "code",
   "execution_count": null,
   "id": "3a6f0e09",
   "metadata": {},
   "outputs": [],
   "source": []
  }
 ],
 "metadata": {
  "kernelspec": {
   "display_name": "Python 3 (ipykernel)",
   "language": "python",
   "name": "python3"
  },
  "language_info": {
   "codemirror_mode": {
    "name": "ipython",
    "version": 3
   },
   "file_extension": ".py",
   "mimetype": "text/x-python",
   "name": "python",
   "nbconvert_exporter": "python",
   "pygments_lexer": "ipython3",
   "version": "3.9.12"
  }
 },
 "nbformat": 4,
 "nbformat_minor": 5
}
