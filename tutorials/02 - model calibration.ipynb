{
 "cells": [
  {
   "cell_type": "markdown",
   "id": "af4bfe6e",
   "metadata": {},
   "source": [
    "# <center>Model calibration</center>\n",
    "\n",
    "Prepared by Omar A. Guerrero (oguerrero@turing.ac.uk, <a href=\"https://twitter.com/guerrero_oa\">@guerrero_oa</a>)\n",
    "\n",
    "In this tutorial I will calibrate the free parameters of PPI's model. First, I will load all the data that I have prepared in the previous tutorials. Then, I extract the relevant information and put it in adequate data structures. Finally, I run the calibration function and save the results with the parameter values."
   ]
  },
  {
   "cell_type": "markdown",
   "id": "0077e294",
   "metadata": {},
   "source": [
    "## Importing Python libraries to manipulate data"
   ]
  },
  {
   "cell_type": "code",
   "execution_count": 1,
   "id": "fb9d93d1",
   "metadata": {},
   "outputs": [],
   "source": [
    "import pandas as pd\n",
    "import numpy as np"
   ]
  },
  {
   "cell_type": "markdown",
   "id": "5f56449b",
   "metadata": {},
   "source": [
    "## Importing PPI functions\n",
    "\n",
    "In this tutorial, I will import the PPI source code directly from its repository. This means that I will place a request to GitHub, download the `ppi.py` file, and copy it locally into the folder where these tutorials are saved. Then, I will import ppi. This approach is useful if you want to run this tutorial in a cloud computing service.\n",
    "\n",
    "An alternative would be to manually copy the `ppi.py` file into the folder where this tutorial is located."
   ]
  },
  {
   "cell_type": "code",
   "execution_count": 2,
   "id": "88cfa647",
   "metadata": {},
   "outputs": [],
   "source": [
    "import requests # the Python library that helps placing requests to websites\n",
    "url = 'https://raw.githubusercontent.com/oguerrer/ppi/main/source_code/ppi.py'\n",
    "r = requests.get(url)\n",
    "with open('ppi.py', 'w') as f:\n",
    "    f.write(r.text)\n",
    "import ppi"
   ]
  },
  {
   "cell_type": "markdown",
   "id": "4e2963d9",
   "metadata": {},
   "source": [
    "## Load data"
   ]
  },
  {
   "cell_type": "markdown",
   "id": "f642dd32",
   "metadata": {},
   "source": [
    "### Indicators"
   ]
  },
  {
   "cell_type": "code",
   "execution_count": 3,
   "id": "9e07398c",
   "metadata": {},
   "outputs": [],
   "source": [
    "df_indis = pd.read_csv('https://raw.githubusercontent.com/oguerrer/ppi/main/tutorials/clean_data/data_indicators.csv')\n",
    "\n",
    "N = len(df_indis) # number of indicators\n",
    "I0 = df_indis.I0.values # initial values\n",
    "IF = df_indis.IF.values # final values\n",
    "success_rates = df_indis.successRates.values # success rates\n",
    "R = df_indis.instrumental # instrumental indicators\n",
    "qm = df_indis.qm.values # quality of monitoring\n",
    "rl = df_indis.rl.values # quality of the rule of law\n",
    "indis_index = dict([(code, i) for i, code in enumerate(df_indis.seriesCode)]) # used to build the network matrix"
   ]
  },
  {
   "cell_type": "markdown",
   "id": "49f8cf95",
   "metadata": {},
   "source": [
    "### Interdependency network"
   ]
  },
  {
   "cell_type": "code",
   "execution_count": 4,
   "id": "2cb786f7",
   "metadata": {},
   "outputs": [],
   "source": [
    "df_net = pd.read_csv('https://raw.githubusercontent.com/oguerrer/ppi/main/tutorials/clean_data/data_network.csv')\n",
    "\n",
    "A = np.zeros((N, N)) # adjacency matrix\n",
    "for index, row in df_net.iterrows():\n",
    "    i = indis_index[row.origin]\n",
    "    j = indis_index[row.destination]\n",
    "    w = row.weight\n",
    "    A[i,j] = w"
   ]
  },
  {
   "cell_type": "markdown",
   "id": "f69236e0",
   "metadata": {},
   "source": [
    "### Budget"
   ]
  },
  {
   "cell_type": "code",
   "execution_count": 5,
   "id": "8b9779e8",
   "metadata": {},
   "outputs": [],
   "source": [
    "df_exp = pd.read_csv('https://raw.githubusercontent.com/oguerrer/ppi/main/tutorials/clean_data/data_expenditure.csv')\n",
    "\n",
    "Bs = df_exp.values[:,1::] # disbursement schedule (assumes that the expenditure programmes are properly sorted)"
   ]
  },
  {
   "cell_type": "markdown",
   "id": "ed4e8a07",
   "metadata": {},
   "source": [
    "### Budget-indicator mapping"
   ]
  },
  {
   "cell_type": "code",
   "execution_count": 6,
   "id": "007a8c6e",
   "metadata": {},
   "outputs": [],
   "source": [
    "df_rela = pd.read_csv('https://raw.githubusercontent.com/oguerrer/ppi/main/tutorials/clean_data/data_relational_table.csv')\n",
    "\n",
    "B_dict = {} # PPI needs the relational table in the form of a Python dictionary\n",
    "for index, row in df_rela.iterrows():\n",
    "    B_dict[indis_index[row.seriesCode]] = [programme for programme in row.values[1::][row.values[1::].astype(str)!='nan']]"
   ]
  },
  {
   "cell_type": "markdown",
   "id": "3c410c35",
   "metadata": {},
   "source": [
    "## Calibrate\n",
    "\n",
    "Now I run the calibration function to show that it works. Before that, let me explain a couple of new inputs that the user needs to provide:\n",
    "\n",
    "* <strong>threshold</strong>: How well should the model be fit.\n",
    "* <strong>parallel_processes</strong>: The number of processes (workers) to be ran in parallel.\n",
    "* <strong>verbose</strong>: Whether to print or not the outputs as the calibration progresses.\n",
    "* <strong>low_precision_counts</strong>: The number of iterations that use few Monte Carlo simulations.\n",
    "\n",
    "The <strong>threshold</strong> parameter indicates the quality of the goodness of fit. More specifically, how good should the worst-fitted indicator be. The best possible fit is close to 1, but cannot be exactly 1 due to the stochasticity of the model. The higher the threshold, the mode Monte Carlo simulations are needed and, thus, the more time and computational resources are needed to complete the calibration.\n",
    "\n",
    "Parameter <strong>parallel_processes</strong> is used to enhance efficiency. Since each Monte Carlo simulation is independent of each other, this workload can be distributed across multiple cores or processors. Today, most personal devices have the capability of handling this distributed load, so here I show how to calibrate the model using 4 parallel processes. It is recommended that you know how many cores or processors your equipment has, and that <strong>parallel_processes</strong> does not exceed that number. Otherwise, the performance of the calibration may be sub-optimal.\n",
    "\n",
    "Finally, the <strong>low_precision_counts</strong> parameter helps accelerating the calibration. At the beginning of the calibration, the algorithm proposes a random set of parameters for the model. Because this proposal is unrelated to the true parameters, the errors tend to be large. In the presence of large errors, one can improve the goodness of fit without needing too much precision in each evaluation (i.e., without running too many Monte Carlo simulations). Hence, this parameter determines how many low-precision iterations of the algorithm should be run before proceeding to the high-precision ones. This accelerates the calibration procedure substantially."
   ]
  },
  {
   "cell_type": "code",
   "execution_count": 7,
   "id": "0970d585",
   "metadata": {},
   "outputs": [
    {
     "name": "stdout",
     "output_type": "stream",
     "text": [
      "Iteration: 1 .    Worst goodness of fit: -884997.9999982293\n",
      "Iteration: 2 .    Worst goodness of fit: -577124.9999988454\n",
      "Iteration: 3 .    Worst goodness of fit: -258749.99999948233\n",
      "Iteration: 4 .    Worst goodness of fit: -69046.87499986183\n",
      "Iteration: 5 .    Worst goodness of fit: -16415.96874996715\n",
      "Iteration: 6 .    Worst goodness of fit: -18878.906249962227\n",
      "Iteration: 7 .    Worst goodness of fit: -9081.496093731826\n",
      "Iteration: 8 .    Worst goodness of fit: -7633.300781234727\n",
      "Iteration: 9 .    Worst goodness of fit: -1031.6051151677336\n",
      "Iteration: 10 .    Worst goodness of fit: -2239.5629882767694\n",
      "Iteration: 11 .    Worst goodness of fit: -1275.3666381810376\n",
      "Iteration: 12 .    Worst goodness of fit: -1229.164123532697\n",
      "Iteration: 13 .    Worst goodness of fit: -245.50137329052043\n",
      "Iteration: 14 .    Worst goodness of fit: -409.83724594034214\n",
      "Iteration: 15 .    Worst goodness of fit: -119.75190448736628\n",
      "Iteration: 16 .    Worst goodness of fit: -222.1255302424755\n",
      "Iteration: 17 .    Worst goodness of fit: -123.2389103171704\n",
      "Iteration: 18 .    Worst goodness of fit: -66.87229871736497\n",
      "Iteration: 19 .    Worst goodness of fit: -31.399486914210257\n",
      "Iteration: 20 .    Worst goodness of fit: -21.61251101638523\n",
      "Iteration: 21 .    Worst goodness of fit: -7.981350507567223\n",
      "Iteration: 22 .    Worst goodness of fit: -9.548275382238893\n",
      "Iteration: 23 .    Worst goodness of fit: -0.9799693147592254\n",
      "Iteration: 24 .    Worst goodness of fit: -3.634737659005623\n",
      "Iteration: 25 .    Worst goodness of fit: -0.21760416589107012\n",
      "Iteration: 26 .    Worst goodness of fit: -1.1325445170233377\n",
      "Iteration: 27 .    Worst goodness of fit: -0.018312154096398414\n",
      "Iteration: 28 .    Worst goodness of fit: 0.05662597093825528\n",
      "Iteration: 29 .    Worst goodness of fit: 0.09127827311527037\n",
      "Iteration: 30 .    Worst goodness of fit: 0.21534062948227006\n",
      "Iteration: 31 .    Worst goodness of fit: 0.19942851401644224\n",
      "Iteration: 32 .    Worst goodness of fit: 0.03647090825968513\n",
      "Iteration: 33 .    Worst goodness of fit: -1.0520784634726463\n",
      "Iteration: 34 .    Worst goodness of fit: 0.28545602586908825\n",
      "Iteration: 35 .    Worst goodness of fit: 0.12881870316428057\n",
      "Iteration: 36 .    Worst goodness of fit: 0.07066451258855677\n",
      "Iteration: 37 .    Worst goodness of fit: 0.15590599957581885\n",
      "Iteration: 38 .    Worst goodness of fit: 0.34889856883246895\n",
      "Iteration: 39 .    Worst goodness of fit: 0.25210173010900605\n",
      "Iteration: 40 .    Worst goodness of fit: 0.29746703117789475\n",
      "Iteration: 41 .    Worst goodness of fit: 0.42128619464519457\n",
      "Iteration: 42 .    Worst goodness of fit: 0.029305370762082394\n",
      "Iteration: 43 .    Worst goodness of fit: 0.25240005015723965\n",
      "Iteration: 44 .    Worst goodness of fit: -0.8738309851282129\n",
      "Iteration: 45 .    Worst goodness of fit: 0.25451092648172446\n",
      "Iteration: 46 .    Worst goodness of fit: 0.13685651196417337\n",
      "Iteration: 47 .    Worst goodness of fit: 0.2224936364509844\n",
      "Iteration: 48 .    Worst goodness of fit: 0.3122292952334287\n",
      "Iteration: 49 .    Worst goodness of fit: 0.31509933044985083\n",
      "Iteration: 50 .    Worst goodness of fit: 0.3774890123661869\n",
      "Iteration: 51 .    Worst goodness of fit: 0.4959456763791653\n",
      "Iteration: 52 .    Worst goodness of fit: 0.2324542624162519\n",
      "Iteration: 53 .    Worst goodness of fit: 0.3672476133831559\n",
      "Iteration: 54 .    Worst goodness of fit: 0.49037844164076116\n",
      "Iteration: 55 .    Worst goodness of fit: 0.7662246272582267\n"
     ]
    }
   ],
   "source": [
    "T = Bs.shape[1]\n",
    "parallel_processes = 4 # number of cores to use\n",
    "threshold = 0.6 # the quality of the calibration (I choose a medium quality for illustration purposes)\n",
    "low_precision_counts = 50 # number of low-quality iterations to accelerate the calibration\n",
    "\n",
    "parameters = ppi.calibrate(I0, IF, success_rates, A=A, R=R, qm=qm, rl=rl, Bs=Bs, B_dict=B_dict,\n",
    "              T=T, threshold=threshold, parallel_processes=parallel_processes, verbose=True,\n",
    "             low_precision_counts=low_precision_counts)"
   ]
  },
  {
   "cell_type": "markdown",
   "id": "b2572ad1",
   "metadata": {},
   "source": [
    "## Calibration outputs\n",
    "\n",
    "The output of the calibration function is a matrix with the following columns:\n",
    "\n",
    "* <strong>alpha</strong>: the parameters related to structural constraints\n",
    "* <strong>alpha_prime</strong>: the parameters related to structural costs\n",
    "* <strong>beta</strong>: the parameters related to the probability of success\n",
    "* <strong>T</strong>: the number of simulation periods\n",
    "* <strong>error_alpha</strong>: the errors associated to the parameters $\\alpha$ and $\\alpha'$\n",
    "* <strong>error_beta</strong>: the errors associated to the parameters $\\beta$\n",
    "* <strong>GoF_alpha</strong>: the goodness-of-fit associated to the parameters $\\alpha$ and $\\alpha'$\n",
    "* <strong>GoF_beta</strong>: the goodness-of-fit associated to the parameters $\\beta$\n",
    "\n",
    "The top row of this matrix contains the column names, so I just need to transform these data into a DataFrame to export it."
   ]
  },
  {
   "cell_type": "code",
   "execution_count": 8,
   "id": "f3b9a271",
   "metadata": {},
   "outputs": [],
   "source": [
    "df_params = pd.DataFrame(parameters[1::], columns=parameters[0])"
   ]
  },
  {
   "cell_type": "code",
   "execution_count": 9,
   "id": "e2426f52",
   "metadata": {},
   "outputs": [
    {
     "data": {
      "text/html": [
       "<div>\n",
       "<style scoped>\n",
       "    .dataframe tbody tr th:only-of-type {\n",
       "        vertical-align: middle;\n",
       "    }\n",
       "\n",
       "    .dataframe tbody tr th {\n",
       "        vertical-align: top;\n",
       "    }\n",
       "\n",
       "    .dataframe thead th {\n",
       "        text-align: right;\n",
       "    }\n",
       "</style>\n",
       "<table border=\"1\" class=\"dataframe\">\n",
       "  <thead>\n",
       "    <tr style=\"text-align: right;\">\n",
       "      <th></th>\n",
       "      <th>alpha</th>\n",
       "      <th>alpha_prime</th>\n",
       "      <th>beta</th>\n",
       "      <th>T</th>\n",
       "      <th>error_alpha</th>\n",
       "      <th>error_beta</th>\n",
       "      <th>GoF_alpha</th>\n",
       "      <th>GoF_beta</th>\n",
       "    </tr>\n",
       "  </thead>\n",
       "  <tbody>\n",
       "    <tr>\n",
       "      <th>0</th>\n",
       "      <td>0.0004160375084310876</td>\n",
       "      <td>0.0006508570919842643</td>\n",
       "      <td>0.2560677978821674</td>\n",
       "      <td>69</td>\n",
       "      <td>0.00032311062937473434</td>\n",
       "      <td>0.0002214162897034716</td>\n",
       "      <td>0.9914599271736543</td>\n",
       "      <td>0.9975644208132618</td>\n",
       "    </tr>\n",
       "    <tr>\n",
       "      <th>1</th>\n",
       "      <td>0.015186232316362649</td>\n",
       "      <td>0.006767448848394903</td>\n",
       "      <td>0.023827176944713032</td>\n",
       "      <td>nan</td>\n",
       "      <td>-0.004079931773181222</td>\n",
       "      <td>-0.0003386916855898439</td>\n",
       "      <td>0.9893482793896377</td>\n",
       "      <td>0.9932261662882031</td>\n",
       "    </tr>\n",
       "    <tr>\n",
       "      <th>2</th>\n",
       "      <td>5.0718790269478984e-05</td>\n",
       "      <td>9.592408982727756e-09</td>\n",
       "      <td>0.008935064040105732</td>\n",
       "      <td>nan</td>\n",
       "      <td>-1.450300745831079e-05</td>\n",
       "      <td>-0.0023095002567662393</td>\n",
       "      <td>0.9549906665086598</td>\n",
       "      <td>0.9745954971755714</td>\n",
       "    </tr>\n",
       "    <tr>\n",
       "      <th>3</th>\n",
       "      <td>0.0005598669035583465</td>\n",
       "      <td>4.748120418437077e-07</td>\n",
       "      <td>0.026805936696062037</td>\n",
       "      <td>nan</td>\n",
       "      <td>0.00021026788076483616</td>\n",
       "      <td>0.0018678857921385905</td>\n",
       "      <td>0.9824937521289827</td>\n",
       "      <td>0.9941295017961359</td>\n",
       "    </tr>\n",
       "    <tr>\n",
       "      <th>4</th>\n",
       "      <td>0.0031083730487796476</td>\n",
       "      <td>9.914938177115819e-08</td>\n",
       "      <td>0.0381706043767838</td>\n",
       "      <td>nan</td>\n",
       "      <td>-0.001327694255550682</td>\n",
       "      <td>-0.001977510004863514</td>\n",
       "      <td>0.9861080345061235</td>\n",
       "      <td>0.9956494779893003</td>\n",
       "    </tr>\n",
       "    <tr>\n",
       "      <th>...</th>\n",
       "      <td>...</td>\n",
       "      <td>...</td>\n",
       "      <td>...</td>\n",
       "      <td>...</td>\n",
       "      <td>...</td>\n",
       "      <td>...</td>\n",
       "      <td>...</td>\n",
       "      <td>...</td>\n",
       "    </tr>\n",
       "    <tr>\n",
       "      <th>67</th>\n",
       "      <td>0.00010288489146151233</td>\n",
       "      <td>1.1023655255482158e-05</td>\n",
       "      <td>0.30156840087434417</td>\n",
       "      <td>nan</td>\n",
       "      <td>7.7503001768231e-05</td>\n",
       "      <td>0.007573292365387285</td>\n",
       "      <td>0.9848033329866214</td>\n",
       "      <td>0.9907437537756377</td>\n",
       "    </tr>\n",
       "    <tr>\n",
       "      <th>68</th>\n",
       "      <td>0.0017225703081263938</td>\n",
       "      <td>3.5388228911014877e-06</td>\n",
       "      <td>0.07260178181306441</td>\n",
       "      <td>nan</td>\n",
       "      <td>9.365069796279935e-05</td>\n",
       "      <td>0.0011904047925987982</td>\n",
       "      <td>0.9964192380190694</td>\n",
       "      <td>0.9947622189125653</td>\n",
       "    </tr>\n",
       "    <tr>\n",
       "      <th>69</th>\n",
       "      <td>0.0013060222236043009</td>\n",
       "      <td>1.1564332969827137e-05</td>\n",
       "      <td>0.10260898931155919</td>\n",
       "      <td>nan</td>\n",
       "      <td>0.0001974295963703132</td>\n",
       "      <td>-0.0013522092516069506</td>\n",
       "      <td>0.9966874228796927</td>\n",
       "      <td>0.9981407122790404</td>\n",
       "    </tr>\n",
       "    <tr>\n",
       "      <th>70</th>\n",
       "      <td>0.007688246106591582</td>\n",
       "      <td>3.050820206121638e-05</td>\n",
       "      <td>0.08449902291376084</td>\n",
       "      <td>nan</td>\n",
       "      <td>-0.005018903005729269</td>\n",
       "      <td>-0.007865413739898464</td>\n",
       "      <td>0.983216242317258</td>\n",
       "      <td>0.9866892998247873</td>\n",
       "    </tr>\n",
       "    <tr>\n",
       "      <th>71</th>\n",
       "      <td>3.9244647902612564e-10</td>\n",
       "      <td>0.003922362152081268</td>\n",
       "      <td>0.1246611182479704</td>\n",
       "      <td>nan</td>\n",
       "      <td>-0.001721494311056837</td>\n",
       "      <td>-0.008909432501294723</td>\n",
       "      <td>0.9760415525460636</td>\n",
       "      <td>0.9896838149985009</td>\n",
       "    </tr>\n",
       "  </tbody>\n",
       "</table>\n",
       "<p>72 rows × 8 columns</p>\n",
       "</div>"
      ],
      "text/plain": [
       "                     alpha             alpha_prime                  beta    T  \\\n",
       "0    0.0004160375084310876   0.0006508570919842643    0.2560677978821674   69   \n",
       "1     0.015186232316362649    0.006767448848394903  0.023827176944713032  nan   \n",
       "2   5.0718790269478984e-05   9.592408982727756e-09  0.008935064040105732  nan   \n",
       "3    0.0005598669035583465   4.748120418437077e-07  0.026805936696062037  nan   \n",
       "4    0.0031083730487796476   9.914938177115819e-08    0.0381706043767838  nan   \n",
       "..                     ...                     ...                   ...  ...   \n",
       "67  0.00010288489146151233  1.1023655255482158e-05   0.30156840087434417  nan   \n",
       "68   0.0017225703081263938  3.5388228911014877e-06   0.07260178181306441  nan   \n",
       "69   0.0013060222236043009  1.1564332969827137e-05   0.10260898931155919  nan   \n",
       "70    0.007688246106591582   3.050820206121638e-05   0.08449902291376084  nan   \n",
       "71  3.9244647902612564e-10    0.003922362152081268    0.1246611182479704  nan   \n",
       "\n",
       "               error_alpha              error_beta           GoF_alpha  \\\n",
       "0   0.00032311062937473434   0.0002214162897034716  0.9914599271736543   \n",
       "1    -0.004079931773181222  -0.0003386916855898439  0.9893482793896377   \n",
       "2   -1.450300745831079e-05  -0.0023095002567662393  0.9549906665086598   \n",
       "3   0.00021026788076483616   0.0018678857921385905  0.9824937521289827   \n",
       "4    -0.001327694255550682   -0.001977510004863514  0.9861080345061235   \n",
       "..                     ...                     ...                 ...   \n",
       "67     7.7503001768231e-05    0.007573292365387285  0.9848033329866214   \n",
       "68   9.365069796279935e-05   0.0011904047925987982  0.9964192380190694   \n",
       "69   0.0001974295963703132  -0.0013522092516069506  0.9966874228796927   \n",
       "70   -0.005018903005729269   -0.007865413739898464   0.983216242317258   \n",
       "71   -0.001721494311056837   -0.008909432501294723  0.9760415525460636   \n",
       "\n",
       "              GoF_beta  \n",
       "0   0.9975644208132618  \n",
       "1   0.9932261662882031  \n",
       "2   0.9745954971755714  \n",
       "3   0.9941295017961359  \n",
       "4   0.9956494779893003  \n",
       "..                 ...  \n",
       "67  0.9907437537756377  \n",
       "68  0.9947622189125653  \n",
       "69  0.9981407122790404  \n",
       "70  0.9866892998247873  \n",
       "71  0.9896838149985009  \n",
       "\n",
       "[72 rows x 8 columns]"
      ]
     },
     "execution_count": 9,
     "metadata": {},
     "output_type": "execute_result"
    }
   ],
   "source": [
    "df_params"
   ]
  },
  {
   "cell_type": "markdown",
   "id": "99a69b6e",
   "metadata": {},
   "source": [
    "## Save parameters data"
   ]
  },
  {
   "cell_type": "code",
   "execution_count": 10,
   "id": "28fbf495",
   "metadata": {},
   "outputs": [],
   "source": [
    "df_params.to_csv('clean_data/parameters.csv', index=False)"
   ]
  }
 ],
 "metadata": {
  "kernelspec": {
   "display_name": "Python 3 (ipykernel)",
   "language": "python",
   "name": "python3"
  },
  "language_info": {
   "codemirror_mode": {
    "name": "ipython",
    "version": 3
   },
   "file_extension": ".py",
   "mimetype": "text/x-python",
   "name": "python",
   "nbconvert_exporter": "python",
   "pygments_lexer": "ipython3",
   "version": "3.9.12"
  }
 },
 "nbformat": 4,
 "nbformat_minor": 5
}
