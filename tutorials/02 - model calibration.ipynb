{
 "cells": [
  {
   "cell_type": "markdown",
   "id": "af4bfe6e",
   "metadata": {},
   "source": [
    "# <center>Model calibration</center>\n",
    "\n",
    "Prepared by Omar A. Guerrero (oguerrero@turing.ac.uk, <a href=\"https://twitter.com/guerrero_oa\">@guerrero_oa</a>)\n",
    "\n",
    "In this tutorial I will calibrate the free parameters of PPI's model. First, I will load all the data that we have prepared in the previous tutorials. Then, I extract the relevant information and put it in adequate data structures. Finally, I run the calibration function and save the results with the parameter values."
   ]
  },
  {
   "cell_type": "markdown",
   "id": "0077e294",
   "metadata": {},
   "source": [
    "## Importing Python's libraries to manipulate data"
   ]
  },
  {
   "cell_type": "code",
   "execution_count": 1,
   "id": "fb9d93d1",
   "metadata": {},
   "outputs": [],
   "source": [
    "import pandas as pd\n",
    "import numpy as np"
   ]
  },
  {
   "cell_type": "markdown",
   "id": "5f56449b",
   "metadata": {},
   "source": [
    "## Importing PPI's functions\n",
    "\n",
    "In this example, we will import the PPI source code directly from the repository. This means that we will place a request to GitHub, download the `ppi.py` file, and copy it locally into the folder where these tutorials are saved. Then, we will import ppi."
   ]
  },
  {
   "cell_type": "code",
   "execution_count": 2,
   "id": "88cfa647",
   "metadata": {},
   "outputs": [],
   "source": [
    "import requests\n",
    "url = 'https://raw.githubusercontent.com/oguerrer/ppi/main/source_code/ppi.py'\n",
    "r = requests.get(url)\n",
    "with open('ppi.py', 'w') as f:\n",
    "    f.write(r.text)\n",
    "import ppi"
   ]
  },
  {
   "cell_type": "markdown",
   "id": "4e2963d9",
   "metadata": {},
   "source": [
    "## Load data"
   ]
  },
  {
   "cell_type": "markdown",
   "id": "f642dd32",
   "metadata": {},
   "source": [
    "### Indicators"
   ]
  },
  {
   "cell_type": "code",
   "execution_count": 3,
   "id": "9e07398c",
   "metadata": {},
   "outputs": [],
   "source": [
    "df_indis = pd.read_csv('https://raw.githubusercontent.com/oguerrer/ppi/main/tutorials/clean_data/data_indicators.csv')\n",
    "\n",
    "N = len(df_indis)\n",
    "I0 = df_indis.I0.values # initial values\n",
    "IF = df_indis.IF.values # final values\n",
    "success_rates = df_indis.successRates.values # success rates\n",
    "R = df_indis.instrumental # instrumental indicators\n",
    "qm = df_indis.qm.values # quality of monitoring\n",
    "rl = df_indis.rl.values # quality of the rule of law\n",
    "indis_index = dict([(code, i) for i, code in enumerate(df_indis.seriesCode)]) # used to build the network matrix"
   ]
  },
  {
   "cell_type": "markdown",
   "id": "49f8cf95",
   "metadata": {},
   "source": [
    "### Interdependency network"
   ]
  },
  {
   "cell_type": "code",
   "execution_count": 4,
   "id": "2cb786f7",
   "metadata": {},
   "outputs": [],
   "source": [
    "df_net = pd.read_csv('https://raw.githubusercontent.com/oguerrer/ppi/main/tutorials/clean_data/data_network.csv')\n",
    "\n",
    "A = np.zeros((N, N)) # adjacency matrix\n",
    "for index, row in df_net.iterrows():\n",
    "    i = indis_index[row.origin]\n",
    "    j = indis_index[row.destination]\n",
    "    w = row.weight\n",
    "    A[i,j] = w"
   ]
  },
  {
   "cell_type": "markdown",
   "id": "f69236e0",
   "metadata": {},
   "source": [
    "### Budget"
   ]
  },
  {
   "cell_type": "code",
   "execution_count": 5,
   "id": "8b9779e8",
   "metadata": {},
   "outputs": [],
   "source": [
    "df_exp = pd.read_csv('https://raw.githubusercontent.com/oguerrer/ppi/main/tutorials/clean_data/data_expenditure.csv')\n",
    "\n",
    "Bs = df_exp.values[:,1::] # disbursement schedule (assumes that the expenditure programmes are properly sorted)"
   ]
  },
  {
   "cell_type": "markdown",
   "id": "ed4e8a07",
   "metadata": {},
   "source": [
    "### Budget-indicator mapping"
   ]
  },
  {
   "cell_type": "code",
   "execution_count": 6,
   "id": "007a8c6e",
   "metadata": {},
   "outputs": [],
   "source": [
    "df_rela = pd.read_csv('https://raw.githubusercontent.com/oguerrer/ppi/main/tutorials/clean_data/data_relational_table.csv')\n",
    "\n",
    "B_dict = {}\n",
    "for index, row in df_rela.iterrows():\n",
    "    B_dict[indis_index[row.seriesCode]] = [programme for programme in row.values[1::][row.values[1::].astype(str)!='nan']]"
   ]
  },
  {
   "cell_type": "markdown",
   "id": "3c410c35",
   "metadata": {},
   "source": [
    "## Calibrate\n",
    "\n",
    "Now we run the calibration function."
   ]
  },
  {
   "cell_type": "code",
   "execution_count": 7,
   "id": "0970d585",
   "metadata": {},
   "outputs": [
    {
     "name": "stdout",
     "output_type": "stream",
     "text": [
      "Iteration: 1 .    Worst goodness of fit: -1001997.9999979953\n",
      "Iteration: 2 .    Worst goodness of fit: -542999.9999989135\n",
      "Iteration: 3 .    Worst goodness of fit: -272249.9999994553\n",
      "Iteration: 4 .    Worst goodness of fit: -80859.37499983821\n",
      "Iteration: 5 .    Worst goodness of fit: -13134.314655174227\n",
      "Iteration: 6 .    Worst goodness of fit: -25154.296874949672\n",
      "Iteration: 7 .    Worst goodness of fit: -5666.945312488657\n",
      "Iteration: 8 .    Worst goodness of fit: -9986.572265605018\n",
      "Iteration: 9 .    Worst goodness of fit: -3587.233398430318\n",
      "Iteration: 10 .    Worst goodness of fit: -3329.6813964777134\n",
      "Iteration: 11 .    Worst goodness of fit: -1618.3460693326952\n",
      "Iteration: 12 .    Worst goodness of fit: -1268.096923825588\n",
      "Iteration: 13 .    Worst goodness of fit: -708.5236053452579\n",
      "Iteration: 14 .    Worst goodness of fit: -490.13614654442955\n",
      "Iteration: 15 .    Worst goodness of fit: -139.044497489647\n",
      "Iteration: 16 .    Worst goodness of fit: -202.96329259831828\n",
      "Iteration: 17 .    Worst goodness of fit: -87.06529843789401\n",
      "Iteration: 18 .    Worst goodness of fit: -62.76610493647414\n",
      "Iteration: 19 .    Worst goodness of fit: -23.260424241373073\n",
      "Iteration: 20 .    Worst goodness of fit: -27.771801687721474\n",
      "Iteration: 21 .    Worst goodness of fit: -9.5074247587242\n",
      "Iteration: 22 .    Worst goodness of fit: -8.97084188180112\n",
      "Iteration: 23 .    Worst goodness of fit: -2.134229879953998\n",
      "Iteration: 24 .    Worst goodness of fit: -3.5806032683395825\n",
      "Iteration: 25 .    Worst goodness of fit: 0.1944702326200558\n",
      "Iteration: 26 .    Worst goodness of fit: -0.9580681322855376\n",
      "Iteration: 27 .    Worst goodness of fit: -0.054932858649778815\n",
      "Iteration: 28 .    Worst goodness of fit: -0.07962568937368486\n",
      "Iteration: 29 .    Worst goodness of fit: 0.2615109209467815\n",
      "Iteration: 30 .    Worst goodness of fit: 0.16839114284134427\n",
      "Iteration: 31 .    Worst goodness of fit: 0.324169645835911\n",
      "Iteration: 32 .    Worst goodness of fit: 0.0024906671465070307\n",
      "Iteration: 33 .    Worst goodness of fit: 0.26833774143171274\n",
      "Iteration: 34 .    Worst goodness of fit: 0.3915809642028574\n",
      "Iteration: 35 .    Worst goodness of fit: 0.30613168377163424\n",
      "Iteration: 36 .    Worst goodness of fit: 0.29342760759211595\n",
      "Iteration: 37 .    Worst goodness of fit: 0.03192111291052835\n",
      "Iteration: 38 .    Worst goodness of fit: 0.1738600934428446\n",
      "Iteration: 39 .    Worst goodness of fit: 0.325873025385073\n",
      "Iteration: 40 .    Worst goodness of fit: 0.020449609134483793\n",
      "Iteration: 41 .    Worst goodness of fit: -0.1743801628024828\n",
      "Iteration: 42 .    Worst goodness of fit: 0.10207477319951963\n",
      "Iteration: 43 .    Worst goodness of fit: 0.04971645593629326\n",
      "Iteration: 44 .    Worst goodness of fit: 0.2790839130788163\n",
      "Iteration: 45 .    Worst goodness of fit: 0.23458783732898103\n",
      "Iteration: 46 .    Worst goodness of fit: -0.14872806378447012\n",
      "Iteration: 47 .    Worst goodness of fit: 0.2729079453507266\n",
      "Iteration: 48 .    Worst goodness of fit: 0.14688953496236556\n",
      "Iteration: 49 .    Worst goodness of fit: 0.1791156235949498\n",
      "Iteration: 50 .    Worst goodness of fit: 0.13330165493189017\n",
      "Iteration: 51 .    Worst goodness of fit: 0.1395357474125407\n",
      "Iteration: 52 .    Worst goodness of fit: 0.3330734068766297\n",
      "Iteration: 53 .    Worst goodness of fit: 0.45162096958285736\n",
      "Iteration: 54 .    Worst goodness of fit: 0.6751370285607994\n"
     ]
    }
   ],
   "source": [
    "T = Bs.shape[1]\n",
    "parallel_processes = 4 # number of cores to use\n",
    "threshold = 0.6 # the quality of the calibration (maximum is near to 1, but cannot be exactly 1)\n",
    "low_precision_counts = 50 # number of low-quality evaluations to accelerate the calibration\n",
    "\n",
    "parameters = ppi.calibrate(I0, IF, success_rates, A=A, R=R, qm=qm, rl=rl, Bs=Bs, B_dict=B_dict,\n",
    "              T=T, threshold=threshold, parallel_processes=parallel_processes, verbose=True,\n",
    "             low_precision_counts=low_precision_counts)"
   ]
  },
  {
   "cell_type": "markdown",
   "id": "b2572ad1",
   "metadata": {},
   "source": [
    "## Calibration outputs\n",
    "\n",
    "The output of the calibration function is a matrix with the following columns:\n",
    "\n",
    "* <strong>alpha</strong>: the parameters related to structural constraints\n",
    "* <strong>alpha_prime</strong>: the parameters related to structural costs\n",
    "* <strong>beta</strong>: the parameters related to the probability of success\n",
    "* <strong>T</strong>: the number of simulation periods\n",
    "* <strong>error_alpha</strong>: the errors associated to the parameters $\\alpha$ and $\\alpha'$\n",
    "* <strong>error_beta</strong>: the errors associated to the parameters $\\beta$\n",
    "* <strong>GoF_alpha</strong>: the goodness-of-fit associated to the parameters $\\alpha$ and $\\alpha'$\n",
    "* <strong>GoF_beta</strong>: the goodness-of-fit associated to the parameters $\\beta$\n",
    "\n",
    "The top row of this matrix contains the column names, so we just need to transform these data into a DataFrame to export it."
   ]
  },
  {
   "cell_type": "code",
   "execution_count": 8,
   "id": "f3b9a271",
   "metadata": {},
   "outputs": [],
   "source": [
    "df_params = pd.DataFrame(parameters[1::], columns=parameters[0])"
   ]
  },
  {
   "cell_type": "code",
   "execution_count": 9,
   "id": "e2426f52",
   "metadata": {},
   "outputs": [
    {
     "data": {
      "text/html": [
       "<div>\n",
       "<style scoped>\n",
       "    .dataframe tbody tr th:only-of-type {\n",
       "        vertical-align: middle;\n",
       "    }\n",
       "\n",
       "    .dataframe tbody tr th {\n",
       "        vertical-align: top;\n",
       "    }\n",
       "\n",
       "    .dataframe thead th {\n",
       "        text-align: right;\n",
       "    }\n",
       "</style>\n",
       "<table border=\"1\" class=\"dataframe\">\n",
       "  <thead>\n",
       "    <tr style=\"text-align: right;\">\n",
       "      <th></th>\n",
       "      <th>alpha</th>\n",
       "      <th>alpha_prime</th>\n",
       "      <th>beta</th>\n",
       "      <th>T</th>\n",
       "      <th>error_alpha</th>\n",
       "      <th>error_beta</th>\n",
       "      <th>GoF_alpha</th>\n",
       "      <th>GoF_beta</th>\n",
       "    </tr>\n",
       "  </thead>\n",
       "  <tbody>\n",
       "    <tr>\n",
       "      <th>0</th>\n",
       "      <td>0.0006914864849720172</td>\n",
       "      <td>0.0001411719489458943</td>\n",
       "      <td>4.062665381496762</td>\n",
       "      <td>69</td>\n",
       "      <td>0.00027290938102411677</td>\n",
       "      <td>-0.0010236690048245345</td>\n",
       "      <td>0.9927867863912461</td>\n",
       "      <td>0.998873964094693</td>\n",
       "    </tr>\n",
       "    <tr>\n",
       "      <th>1</th>\n",
       "      <td>0.014823565007829427</td>\n",
       "      <td>0.00665974997601431</td>\n",
       "      <td>0.025020350080921936</td>\n",
       "      <td>nan</td>\n",
       "      <td>0.0057170362311179945</td>\n",
       "      <td>0.000739213180067512</td>\n",
       "      <td>0.9850741933839483</td>\n",
       "      <td>0.9852157363986498</td>\n",
       "    </tr>\n",
       "    <tr>\n",
       "      <th>2</th>\n",
       "      <td>1.2860895596767461e-05</td>\n",
       "      <td>5.630848127249099e-06</td>\n",
       "      <td>0.005937247260426563</td>\n",
       "      <td>nan</td>\n",
       "      <td>3.246354062447752e-06</td>\n",
       "      <td>0.0007771058031149358</td>\n",
       "      <td>0.9899251080820574</td>\n",
       "      <td>0.9844578839377013</td>\n",
       "    </tr>\n",
       "    <tr>\n",
       "      <th>3</th>\n",
       "      <td>2.558860500477453e-11</td>\n",
       "      <td>0.00043111752070483793</td>\n",
       "      <td>0.048107912386163694</td>\n",
       "      <td>nan</td>\n",
       "      <td>-0.003901935414531459</td>\n",
       "      <td>0.0026116755437503025</td>\n",
       "      <td>0.6751370285607994</td>\n",
       "      <td>0.9961695425358329</td>\n",
       "    </tr>\n",
       "    <tr>\n",
       "      <th>4</th>\n",
       "      <td>1.6436926554673566e-08</td>\n",
       "      <td>0.002962208068994018</td>\n",
       "      <td>0.05423206162982836</td>\n",
       "      <td>nan</td>\n",
       "      <td>-0.0021031707965057933</td>\n",
       "      <td>-0.0031544870545776593</td>\n",
       "      <td>0.9779940479439154</td>\n",
       "      <td>0.9942167737332743</td>\n",
       "    </tr>\n",
       "    <tr>\n",
       "      <th>...</th>\n",
       "      <td>...</td>\n",
       "      <td>...</td>\n",
       "      <td>...</td>\n",
       "      <td>...</td>\n",
       "      <td>...</td>\n",
       "      <td>...</td>\n",
       "      <td>...</td>\n",
       "      <td>...</td>\n",
       "    </tr>\n",
       "    <tr>\n",
       "      <th>67</th>\n",
       "      <td>2.9741922725515965e-05</td>\n",
       "      <td>9.757757828839203e-05</td>\n",
       "      <td>0.06617568130983184</td>\n",
       "      <td>nan</td>\n",
       "      <td>7.235219160067752e-05</td>\n",
       "      <td>0.0029128814464307873</td>\n",
       "      <td>0.985813295764573</td>\n",
       "      <td>0.9839791520446307</td>\n",
       "    </tr>\n",
       "    <tr>\n",
       "      <th>68</th>\n",
       "      <td>0.0017050085448073362</td>\n",
       "      <td>3.0724388492517046e-07</td>\n",
       "      <td>0.07584611299256455</td>\n",
       "      <td>nan</td>\n",
       "      <td>5.048291675352479e-05</td>\n",
       "      <td>0.0007700315882878395</td>\n",
       "      <td>0.9980697708300122</td>\n",
       "      <td>0.9966118610115335</td>\n",
       "    </tr>\n",
       "    <tr>\n",
       "      <th>69</th>\n",
       "      <td>0.0013024846306095906</td>\n",
       "      <td>8.806632393357385e-06</td>\n",
       "      <td>0.10201348765063789</td>\n",
       "      <td>nan</td>\n",
       "      <td>0.00043284906543633594</td>\n",
       "      <td>-0.0005291684505533967</td>\n",
       "      <td>0.9927374317879809</td>\n",
       "      <td>0.9992723933804891</td>\n",
       "    </tr>\n",
       "    <tr>\n",
       "      <th>70</th>\n",
       "      <td>0.007663437327177917</td>\n",
       "      <td>5.75374663162938e-05</td>\n",
       "      <td>0.06511600763322598</td>\n",
       "      <td>nan</td>\n",
       "      <td>-0.008733377704283507</td>\n",
       "      <td>-0.0036313344528603464</td>\n",
       "      <td>0.9707946348089951</td>\n",
       "      <td>0.9938546647720825</td>\n",
       "    </tr>\n",
       "    <tr>\n",
       "      <th>71</th>\n",
       "      <td>6.662151474007939e-10</td>\n",
       "      <td>0.0038059796659205003</td>\n",
       "      <td>0.09782331386209814</td>\n",
       "      <td>nan</td>\n",
       "      <td>0.005845694884288211</td>\n",
       "      <td>0.016303314078117026</td>\n",
       "      <td>0.9186440682275716</td>\n",
       "      <td>0.9811224784358645</td>\n",
       "    </tr>\n",
       "  </tbody>\n",
       "</table>\n",
       "<p>72 rows × 8 columns</p>\n",
       "</div>"
      ],
      "text/plain": [
       "                     alpha             alpha_prime                  beta    T  \\\n",
       "0    0.0006914864849720172   0.0001411719489458943     4.062665381496762   69   \n",
       "1     0.014823565007829427     0.00665974997601431  0.025020350080921936  nan   \n",
       "2   1.2860895596767461e-05   5.630848127249099e-06  0.005937247260426563  nan   \n",
       "3    2.558860500477453e-11  0.00043111752070483793  0.048107912386163694  nan   \n",
       "4   1.6436926554673566e-08    0.002962208068994018   0.05423206162982836  nan   \n",
       "..                     ...                     ...                   ...  ...   \n",
       "67  2.9741922725515965e-05   9.757757828839203e-05   0.06617568130983184  nan   \n",
       "68   0.0017050085448073362  3.0724388492517046e-07   0.07584611299256455  nan   \n",
       "69   0.0013024846306095906   8.806632393357385e-06   0.10201348765063789  nan   \n",
       "70    0.007663437327177917    5.75374663162938e-05   0.06511600763322598  nan   \n",
       "71   6.662151474007939e-10   0.0038059796659205003   0.09782331386209814  nan   \n",
       "\n",
       "               error_alpha              error_beta           GoF_alpha  \\\n",
       "0   0.00027290938102411677  -0.0010236690048245345  0.9927867863912461   \n",
       "1    0.0057170362311179945    0.000739213180067512  0.9850741933839483   \n",
       "2    3.246354062447752e-06   0.0007771058031149358  0.9899251080820574   \n",
       "3    -0.003901935414531459   0.0026116755437503025  0.6751370285607994   \n",
       "4   -0.0021031707965057933  -0.0031544870545776593  0.9779940479439154   \n",
       "..                     ...                     ...                 ...   \n",
       "67   7.235219160067752e-05   0.0029128814464307873   0.985813295764573   \n",
       "68   5.048291675352479e-05   0.0007700315882878395  0.9980697708300122   \n",
       "69  0.00043284906543633594  -0.0005291684505533967  0.9927374317879809   \n",
       "70   -0.008733377704283507  -0.0036313344528603464  0.9707946348089951   \n",
       "71    0.005845694884288211    0.016303314078117026  0.9186440682275716   \n",
       "\n",
       "              GoF_beta  \n",
       "0    0.998873964094693  \n",
       "1   0.9852157363986498  \n",
       "2   0.9844578839377013  \n",
       "3   0.9961695425358329  \n",
       "4   0.9942167737332743  \n",
       "..                 ...  \n",
       "67  0.9839791520446307  \n",
       "68  0.9966118610115335  \n",
       "69  0.9992723933804891  \n",
       "70  0.9938546647720825  \n",
       "71  0.9811224784358645  \n",
       "\n",
       "[72 rows x 8 columns]"
      ]
     },
     "execution_count": 9,
     "metadata": {},
     "output_type": "execute_result"
    }
   ],
   "source": [
    "df_params"
   ]
  },
  {
   "cell_type": "markdown",
   "id": "99a69b6e",
   "metadata": {},
   "source": [
    "## Save parameters data"
   ]
  },
  {
   "cell_type": "code",
   "execution_count": 10,
   "id": "28fbf495",
   "metadata": {},
   "outputs": [],
   "source": [
    "df_params.to_csv('clean_data/parameters.csv', index=False)"
   ]
  },
  {
   "cell_type": "code",
   "execution_count": null,
   "id": "6d2c76e7",
   "metadata": {},
   "outputs": [],
   "source": []
  }
 ],
 "metadata": {
  "kernelspec": {
   "display_name": "Python 3 (ipykernel)",
   "language": "python",
   "name": "python3"
  },
  "language_info": {
   "codemirror_mode": {
    "name": "ipython",
    "version": 3
   },
   "file_extension": ".py",
   "mimetype": "text/x-python",
   "name": "python",
   "nbconvert_exporter": "python",
   "pygments_lexer": "ipython3",
   "version": "3.9.12"
  }
 },
 "nbformat": 4,
 "nbformat_minor": 5
}
