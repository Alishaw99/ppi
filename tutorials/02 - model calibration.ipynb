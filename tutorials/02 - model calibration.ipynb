{
 "cells": [
  {
   "cell_type": "markdown",
   "id": "af4bfe6e",
   "metadata": {},
   "source": [
    "# <center>Model calibration</center>\n",
    "\n",
    "Prepared by Omar A. Guerrero (oguerrero@turing.ac.uk, <a href=\"https://twitter.com/guerrero_oa\">@guerrero_oa</a>)\n",
    "\n",
    "In this tutorial I will calibrate the free parameters of PPI's model. First, I will load all the data that I have prepared in the previous tutorials. Then, I extract the relevant information and put it in adequate data structures. Finally, I run the calibration function and save the results with the parameter values."
   ]
  },
  {
   "cell_type": "markdown",
   "id": "0077e294",
   "metadata": {},
   "source": [
    "## Importing Python libraries to manipulate data"
   ]
  },
  {
   "cell_type": "code",
   "execution_count": 1,
   "id": "fb9d93d1",
   "metadata": {},
   "outputs": [
    {
     "name": "stderr",
     "output_type": "stream",
     "text": [
      "C:\\Users\\Ali\\AppData\\Local\\Temp\\ipykernel_18876\\2162656668.py:1: DeprecationWarning: \n",
      "Pyarrow will become a required dependency of pandas in the next major release of pandas (pandas 3.0),\n",
      "(to allow more performant data types, such as the Arrow string type, and better interoperability with other libraries)\n",
      "but was not found to be installed on your system.\n",
      "If this would cause problems for you,\n",
      "please provide us feedback at https://github.com/pandas-dev/pandas/issues/54466\n",
      "        \n",
      "  import pandas as pd\n"
     ]
    }
   ],
   "source": [
    "import pandas as pd\n",
    "import numpy as np"
   ]
  },
  {
   "cell_type": "markdown",
   "id": "5f56449b",
   "metadata": {},
   "source": [
    "## Importing PPI functions\n",
    "\n",
    "In this tutorial, I will import the PPI source code directly from its repository. This means that I will place a request to GitHub, download the `policy_priority_inference.py` file, and copy it locally into the folder where these tutorials are saved. Then, I will import PPI. This approach is useful if you want to run this tutorial in a cloud computing service.\n",
    "\n",
    "An alternative would be to manually copy the `policy_priority_inference.py` file into the folder where this tutorial is located."
   ]
  },
  {
   "cell_type": "code",
   "execution_count": 2,
   "id": "88cfa647",
   "metadata": {},
   "outputs": [],
   "source": [
    "import requests # the Python library that helps placing requests to websites\n",
    "url = 'https://raw.githubusercontent.com/oguerrer/ppi/main/source_code/policy_priority_inference.py'\n",
    "r = requests.get(url)\n",
    "with open('policy_priority_inference.py', 'w') as f:\n",
    "    f.write(r.text)\n",
    "import policy_priority_inference as ppi"
   ]
  },
  {
   "cell_type": "markdown",
   "id": "4e2963d9",
   "metadata": {},
   "source": [
    "## Load data"
   ]
  },
  {
   "cell_type": "markdown",
   "id": "f642dd32",
   "metadata": {},
   "source": [
    "### Indicators"
   ]
  },
  {
   "cell_type": "code",
   "execution_count": 3,
   "id": "9e07398c",
   "metadata": {},
   "outputs": [],
   "source": [
    "df_indis = pd.read_csv('https://raw.githubusercontent.com/oguerrer/ppi/main/tutorials/clean_data/data_indicators.csv')\n",
    "\n",
    "N = len(df_indis) # number of indicators\n",
    "I0 = df_indis.I0.values # initial values\n",
    "IF = df_indis.IF.values # final values\n",
    "success_rates = df_indis.successRates.values # success rates\n",
    "R = df_indis.instrumental # instrumental indicators\n",
    "qm = df_indis.qm.values # quality of monitoring\n",
    "rl = df_indis.rl.values # quality of the rule of law\n",
    "indis_index = dict([(code, i) for i, code in enumerate(df_indis.seriesCode)]) # used to build the network matrix"
   ]
  },
  {
   "cell_type": "markdown",
   "id": "49f8cf95",
   "metadata": {},
   "source": [
    "### Interdependency network"
   ]
  },
  {
   "cell_type": "code",
   "execution_count": 4,
   "id": "2cb786f7",
   "metadata": {},
   "outputs": [],
   "source": [
    "df_net = pd.read_csv('https://raw.githubusercontent.com/oguerrer/ppi/main/tutorials/clean_data/data_network.csv')\n",
    "\n",
    "A = np.zeros((N, N)) # adjacency matrix\n",
    "for index, row in df_net.iterrows():\n",
    "    i = indis_index[row.origin]\n",
    "    j = indis_index[row.destination]\n",
    "    w = row.weight\n",
    "    A[i,j] = w"
   ]
  },
  {
   "cell_type": "markdown",
   "id": "f69236e0",
   "metadata": {},
   "source": [
    "### Budget"
   ]
  },
  {
   "cell_type": "code",
   "execution_count": 5,
   "id": "8b9779e8",
   "metadata": {},
   "outputs": [],
   "source": [
    "df_exp = pd.read_csv('https://raw.githubusercontent.com/oguerrer/ppi/main/tutorials/clean_data/data_expenditure.csv')\n",
    "\n",
    "Bs = df_exp.values[:,1::] # disbursement schedule (assumes that the expenditure programmes are properly sorted)"
   ]
  },
  {
   "cell_type": "markdown",
   "id": "ed4e8a07",
   "metadata": {},
   "source": [
    "### Budget-indicator mapping"
   ]
  },
  {
   "cell_type": "code",
   "execution_count": 6,
   "id": "007a8c6e",
   "metadata": {},
   "outputs": [],
   "source": [
    "df_rela = pd.read_csv('https://raw.githubusercontent.com/oguerrer/ppi/main/tutorials/clean_data/data_relational_table.csv')\n",
    "\n",
    "B_dict = {} # PPI needs the relational table in the form of a Python dictionary\n",
    "for index, row in df_rela.iterrows():\n",
    "    B_dict[indis_index[row.seriesCode]] = [programme for programme in row.values[1::][row.values[1::].astype(str)!='nan']]"
   ]
  },
  {
   "cell_type": "markdown",
   "id": "3c410c35",
   "metadata": {},
   "source": [
    "## Calibrate\n",
    "\n",
    "Now I run the calibration function to show that it works. Before that, let me explain a couple of new inputs that the user needs to provide:\n",
    "\n",
    "* <strong>threshold</strong>: How well should the model be fit.\n",
    "* <strong>parallel_processes</strong>: The number of processes (workers) to be ran in parallel.\n",
    "* <strong>verbose</strong>: Whether to print or not the outputs as the calibration progresses.\n",
    "* <strong>low_precision_counts</strong>: The number of iterations that use few Monte Carlo simulations.\n",
    "\n",
    "The <strong>threshold</strong> parameter indicates the quality of the goodness of fit. More specifically, how good should the worst-fitted indicator be. The best possible fit is close to 1, but cannot be exactly 1 due to the stochasticity of the model. The higher the threshold, the mode Monte Carlo simulations are needed and, thus, the more time and computational resources are needed to complete the calibration.\n",
    "\n",
    "Parameter <strong>parallel_processes</strong> is used to enhance efficiency. Since each Monte Carlo simulation is independent of each other, this workload can be distributed across multiple cores or processors. Today, most personal devices have the capability of handling this distributed load, so here I show how to calibrate the model using 4 parallel processes. It is recommended that you know how many cores or processors your equipment has, and that <strong>parallel_processes</strong> does not exceed that number. Otherwise, the performance of the calibration may be sub-optimal.\n",
    "\n",
    "Finally, the <strong>low_precision_counts</strong> parameter helps accelerating the calibration. At the beginning of the calibration, the algorithm proposes a random set of parameters for the model. Because this proposal is unrelated to the true parameters, the errors tend to be large. In the presence of large errors, one can improve the goodness of fit without needing too much precision in each evaluation (i.e., without running too many Monte Carlo simulations). Hence, this parameter determines how many low-precision iterations of the algorithm should be run before proceeding to the high-precision ones. This accelerates the calibration procedure substantially."
   ]
  },
  {
   "cell_type": "code",
   "execution_count": 7,
   "id": "0970d585",
   "metadata": {},
   "outputs": [
    {
     "name": "stdout",
     "output_type": "stream",
     "text": [
      "Iteration: 1 .    Worst goodness of fit: -1007997.9999979832\n",
      "Iteration: 2 .    Worst goodness of fit: -385499.9999992287\n",
      "Iteration: 3 .    Worst goodness of fit: -266624.9999994665\n",
      "Iteration: 4 .    Worst goodness of fit: -67078.12499986577\n",
      "Iteration: 5 .    Worst goodness of fit: -12568.965517249982\n",
      "Iteration: 6 .    Worst goodness of fit: -24046.874999951888\n",
      "Iteration: 7 .    Worst goodness of fit: -7618.117187484755\n",
      "Iteration: 8 .    Worst goodness of fit: -8602.294921857789\n",
      "Iteration: 9 .    Worst goodness of fit: -1758.0097656214784\n",
      "Iteration: 10 .    Worst goodness of fit: -3173.95019530615\n",
      "Iteration: 11 .    Worst goodness of fit: -932.3872070293802\n",
      "Iteration: 12 .    Worst goodness of fit: -1131.8321228004697\n",
      "Iteration: 13 .    Worst goodness of fit: -98.11291503913164\n",
      "Iteration: 14 .    Worst goodness of fit: -446.33674621492736\n",
      "Iteration: 15 .    Worst goodness of fit: -177.62968349420848\n",
      "Iteration: 16 .    Worst goodness of fit: -167.37627983059772\n",
      "Iteration: 17 .    Worst goodness of fit: -36.42224180690708\n",
      "Iteration: 18 .    Worst goodness of fit: -64.81920182691957\n",
      "Iteration: 19 .    Worst goodness of fit: -2.998734670470569\n",
      "Iteration: 20 .    Worst goodness of fit: -22.767378017260775\n",
      "Iteration: 21 .    Worst goodness of fit: -4.929202005253281\n",
      "Iteration: 22 .    Worst goodness of fit: -7.38289975559724\n",
      "Iteration: 23 .    Worst goodness of fit: -2.8875621287054405\n",
      "Iteration: 24 .    Worst goodness of fit: -3.2016625336772915\n",
      "Iteration: 25 .    Worst goodness of fit: -0.49960220406214084\n",
      "Iteration: 26 .    Worst goodness of fit: -1.4472006627697005\n",
      "Iteration: 27 .    Worst goodness of fit: 0.24789642775055964\n",
      "Iteration: 28 .    Worst goodness of fit: -0.2397080647854717\n",
      "Iteration: 29 .    Worst goodness of fit: 0.22355087547991093\n",
      "Iteration: 30 .    Worst goodness of fit: 0.11712884702741921\n",
      "Iteration: 31 .    Worst goodness of fit: 0.22847145697960325\n",
      "Iteration: 32 .    Worst goodness of fit: 0.17749495679151528\n",
      "Iteration: 33 .    Worst goodness of fit: 0.0971402065624557\n",
      "Iteration: 34 .    Worst goodness of fit: 0.15772525730288223\n",
      "Iteration: 35 .    Worst goodness of fit: -0.04253880224230033\n",
      "Iteration: 36 .    Worst goodness of fit: 0.06730978635465157\n",
      "Iteration: 37 .    Worst goodness of fit: 0.17795660601199026\n",
      "Iteration: 38 .    Worst goodness of fit: 0.24848549091300176\n",
      "Iteration: 39 .    Worst goodness of fit: 0.19409780118078868\n",
      "Iteration: 40 .    Worst goodness of fit: 0.2891062634488888\n",
      "Iteration: 41 .    Worst goodness of fit: 0.34229295728874554\n",
      "Iteration: 42 .    Worst goodness of fit: 0.04934254164501961\n",
      "Iteration: 43 .    Worst goodness of fit: 0.23397138690506403\n",
      "Iteration: 44 .    Worst goodness of fit: 0.2104820163697121\n",
      "Iteration: 45 .    Worst goodness of fit: 0.11566874427132612\n",
      "Iteration: 46 .    Worst goodness of fit: 0.2775219950503537\n",
      "Iteration: 47 .    Worst goodness of fit: 0.24487930958380388\n",
      "Iteration: 48 .    Worst goodness of fit: 0.3540011348269453\n",
      "Iteration: 49 .    Worst goodness of fit: 0.37387076634606464\n",
      "Iteration: 50 .    Worst goodness of fit: 0.40315586772123124\n",
      "Iteration: 51 .    Worst goodness of fit: 0.5023927200665599\n",
      "Iteration: 52 .    Worst goodness of fit: 0.563640123292813\n",
      "Iteration: 53 .    Worst goodness of fit: 0.7936653320113671\n"
     ]
    }
   ],
   "source": [
    "T = Bs.shape[1]\n",
    "parallel_processes = 4 # number of cores to use\n",
    "threshold = 0.6 # the quality of the calibration (I choose a medium quality for illustration purposes)\n",
    "low_precision_counts = 50 # number of low-quality iterations to accelerate the calibration\n",
    "\n",
    "parameters = ppi.calibrate(I0, IF, success_rates, A=A, R=R, qm=qm, rl=rl, Bs=Bs, B_dict=B_dict,\n",
    "              T=T, threshold=threshold, parallel_processes=parallel_processes, verbose=True,\n",
    "             low_precision_counts=low_precision_counts)"
   ]
  },
  {
   "cell_type": "markdown",
   "id": "b2572ad1",
   "metadata": {},
   "source": [
    "## Calibration outputs\n",
    "\n",
    "The output of the calibration function is a matrix with the following columns:\n",
    "\n",
    "* <strong>alpha</strong>: the parameters related to structural constraints\n",
    "* <strong>alpha_prime</strong>: the parameters related to structural costs\n",
    "* <strong>beta</strong>: the parameters related to the probability of success\n",
    "* <strong>T</strong>: the number of simulation periods\n",
    "* <strong>error_alpha</strong>: the errors associated to the parameters $\\alpha$ and $\\alpha'$\n",
    "* <strong>error_beta</strong>: the errors associated to the parameters $\\beta$\n",
    "* <strong>GoF_alpha</strong>: the goodness-of-fit associated to the parameters $\\alpha$ and $\\alpha'$\n",
    "* <strong>GoF_beta</strong>: the goodness-of-fit associated to the parameters $\\beta$\n",
    "\n",
    "The top row of this matrix contains the column names, so I just need to transform these data into a DataFrame to export it."
   ]
  },
  {
   "cell_type": "code",
   "execution_count": 8,
   "id": "f3b9a271",
   "metadata": {},
   "outputs": [],
   "source": [
    "df_params = pd.DataFrame(parameters[1::], columns=parameters[0])"
   ]
  },
  {
   "cell_type": "code",
   "execution_count": 9,
   "id": "e2426f52",
   "metadata": {},
   "outputs": [
    {
     "data": {
      "text/html": [
       "<div>\n",
       "<style scoped>\n",
       "    .dataframe tbody tr th:only-of-type {\n",
       "        vertical-align: middle;\n",
       "    }\n",
       "\n",
       "    .dataframe tbody tr th {\n",
       "        vertical-align: top;\n",
       "    }\n",
       "\n",
       "    .dataframe thead th {\n",
       "        text-align: right;\n",
       "    }\n",
       "</style>\n",
       "<table border=\"1\" class=\"dataframe\">\n",
       "  <thead>\n",
       "    <tr style=\"text-align: right;\">\n",
       "      <th></th>\n",
       "      <th>alpha</th>\n",
       "      <th>alpha_prime</th>\n",
       "      <th>beta</th>\n",
       "      <th>T</th>\n",
       "      <th>error_alpha</th>\n",
       "      <th>error_beta</th>\n",
       "      <th>GoF_alpha</th>\n",
       "      <th>GoF_beta</th>\n",
       "    </tr>\n",
       "  </thead>\n",
       "  <tbody>\n",
       "    <tr>\n",
       "      <th>0</th>\n",
       "      <td>0.0006474859110381443</td>\n",
       "      <td>0.0006660732292570023</td>\n",
       "      <td>0.25479827892429585</td>\n",
       "      <td>69</td>\n",
       "      <td>8.572649510596442e-06</td>\n",
       "      <td>0.0012568948616559217</td>\n",
       "      <td>0.9997734180046106</td>\n",
       "      <td>0.9861741565217849</td>\n",
       "    </tr>\n",
       "    <tr>\n",
       "      <th>1</th>\n",
       "      <td>0.016693998366049866</td>\n",
       "      <td>0.006869697225693183</td>\n",
       "      <td>0.023905896652518736</td>\n",
       "      <td>nan</td>\n",
       "      <td>-0.0012498378217834227</td>\n",
       "      <td>-0.000334479218405459</td>\n",
       "      <td>0.99673697404123</td>\n",
       "      <td>0.9933104156318908</td>\n",
       "    </tr>\n",
       "    <tr>\n",
       "      <th>2</th>\n",
       "      <td>5.220514776330155e-05</td>\n",
       "      <td>2.8187751019016145e-08</td>\n",
       "      <td>0.00892477243214832</td>\n",
       "      <td>nan</td>\n",
       "      <td>-1.624668267552476e-05</td>\n",
       "      <td>-0.0014083808096198025</td>\n",
       "      <td>0.94957926066213</td>\n",
       "      <td>0.9845078110941822</td>\n",
       "    </tr>\n",
       "    <tr>\n",
       "      <th>3</th>\n",
       "      <td>0.0005618259104836907</td>\n",
       "      <td>1.4889570993658732e-07</td>\n",
       "      <td>0.026581090006839857</td>\n",
       "      <td>nan</td>\n",
       "      <td>0.0001941922811424801</td>\n",
       "      <td>0.0034285081058849087</td>\n",
       "      <td>0.9838321564094679</td>\n",
       "      <td>0.989224688810076</td>\n",
       "    </tr>\n",
       "    <tr>\n",
       "      <th>4</th>\n",
       "      <td>0.003095678402648403</td>\n",
       "      <td>1.3116668799851857e-07</td>\n",
       "      <td>0.038404631063747696</td>\n",
       "      <td>nan</td>\n",
       "      <td>-0.0005869026484752737</td>\n",
       "      <td>-0.002160555235041106</td>\n",
       "      <td>0.9938591047548808</td>\n",
       "      <td>0.9952467784829095</td>\n",
       "    </tr>\n",
       "    <tr>\n",
       "      <th>...</th>\n",
       "      <td>...</td>\n",
       "      <td>...</td>\n",
       "      <td>...</td>\n",
       "      <td>...</td>\n",
       "      <td>...</td>\n",
       "      <td>...</td>\n",
       "      <td>...</td>\n",
       "      <td>...</td>\n",
       "    </tr>\n",
       "    <tr>\n",
       "      <th>67</th>\n",
       "      <td>0.00010020158796926763</td>\n",
       "      <td>1.276335037361078e-06</td>\n",
       "      <td>0.3014223297738626</td>\n",
       "      <td>nan</td>\n",
       "      <td>1.0781381073465823e-05</td>\n",
       "      <td>0.00255352335706871</td>\n",
       "      <td>0.9978860037110852</td>\n",
       "      <td>0.9968790270080271</td>\n",
       "    </tr>\n",
       "    <tr>\n",
       "      <th>68</th>\n",
       "      <td>0.0017182207251545975</td>\n",
       "      <td>1.2119548976744114e-06</td>\n",
       "      <td>0.07217107854399601</td>\n",
       "      <td>nan</td>\n",
       "      <td>0.0002720826439816526</td>\n",
       "      <td>0.0018340311576263424</td>\n",
       "      <td>0.9895968400830545</td>\n",
       "      <td>0.991930262906444</td>\n",
       "    </tr>\n",
       "    <tr>\n",
       "      <th>69</th>\n",
       "      <td>0.0012973223635930284</td>\n",
       "      <td>5.180492751538822e-06</td>\n",
       "      <td>0.10165004736346449</td>\n",
       "      <td>nan</td>\n",
       "      <td>-0.0006794662482953462</td>\n",
       "      <td>-0.0006880935887251249</td>\n",
       "      <td>0.98859955959236</td>\n",
       "      <td>0.9990538713155029</td>\n",
       "    </tr>\n",
       "    <tr>\n",
       "      <th>70</th>\n",
       "      <td>0.007762539751282022</td>\n",
       "      <td>7.565063014698403e-06</td>\n",
       "      <td>0.0860880656414727</td>\n",
       "      <td>nan</td>\n",
       "      <td>0.008014797524424577</td>\n",
       "      <td>0.0005905927488067952</td>\n",
       "      <td>0.9731976451083784</td>\n",
       "      <td>0.9990005353481731</td>\n",
       "    </tr>\n",
       "    <tr>\n",
       "      <th>71</th>\n",
       "      <td>4.598034486952071e-10</td>\n",
       "      <td>0.0038903597725732024</td>\n",
       "      <td>0.12524954958525036</td>\n",
       "      <td>nan</td>\n",
       "      <td>-0.0019860252369203746</td>\n",
       "      <td>-0.0024469922170775593</td>\n",
       "      <td>0.9723600124755932</td>\n",
       "      <td>0.9971666405907523</td>\n",
       "    </tr>\n",
       "  </tbody>\n",
       "</table>\n",
       "<p>72 rows × 8 columns</p>\n",
       "</div>"
      ],
      "text/plain": [
       "                     alpha             alpha_prime                  beta    T  \\\n",
       "0    0.0006474859110381443   0.0006660732292570023   0.25479827892429585   69   \n",
       "1     0.016693998366049866    0.006869697225693183  0.023905896652518736  nan   \n",
       "2    5.220514776330155e-05  2.8187751019016145e-08   0.00892477243214832  nan   \n",
       "3    0.0005618259104836907  1.4889570993658732e-07  0.026581090006839857  nan   \n",
       "4     0.003095678402648403  1.3116668799851857e-07  0.038404631063747696  nan   \n",
       "..                     ...                     ...                   ...  ...   \n",
       "67  0.00010020158796926763   1.276335037361078e-06    0.3014223297738626  nan   \n",
       "68   0.0017182207251545975  1.2119548976744114e-06   0.07217107854399601  nan   \n",
       "69   0.0012973223635930284   5.180492751538822e-06   0.10165004736346449  nan   \n",
       "70    0.007762539751282022   7.565063014698403e-06    0.0860880656414727  nan   \n",
       "71   4.598034486952071e-10   0.0038903597725732024   0.12524954958525036  nan   \n",
       "\n",
       "               error_alpha              error_beta           GoF_alpha  \\\n",
       "0    8.572649510596442e-06   0.0012568948616559217  0.9997734180046106   \n",
       "1   -0.0012498378217834227   -0.000334479218405459    0.99673697404123   \n",
       "2   -1.624668267552476e-05  -0.0014083808096198025    0.94957926066213   \n",
       "3    0.0001941922811424801   0.0034285081058849087  0.9838321564094679   \n",
       "4   -0.0005869026484752737   -0.002160555235041106  0.9938591047548808   \n",
       "..                     ...                     ...                 ...   \n",
       "67  1.0781381073465823e-05     0.00255352335706871  0.9978860037110852   \n",
       "68   0.0002720826439816526   0.0018340311576263424  0.9895968400830545   \n",
       "69  -0.0006794662482953462  -0.0006880935887251249    0.98859955959236   \n",
       "70    0.008014797524424577   0.0005905927488067952  0.9731976451083784   \n",
       "71  -0.0019860252369203746  -0.0024469922170775593  0.9723600124755932   \n",
       "\n",
       "              GoF_beta  \n",
       "0   0.9861741565217849  \n",
       "1   0.9933104156318908  \n",
       "2   0.9845078110941822  \n",
       "3    0.989224688810076  \n",
       "4   0.9952467784829095  \n",
       "..                 ...  \n",
       "67  0.9968790270080271  \n",
       "68   0.991930262906444  \n",
       "69  0.9990538713155029  \n",
       "70  0.9990005353481731  \n",
       "71  0.9971666405907523  \n",
       "\n",
       "[72 rows x 8 columns]"
      ]
     },
     "execution_count": 9,
     "metadata": {},
     "output_type": "execute_result"
    }
   ],
   "source": [
    "df_params"
   ]
  },
  {
   "cell_type": "markdown",
   "id": "99a69b6e",
   "metadata": {},
   "source": [
    "## Save parameters data"
   ]
  },
  {
   "cell_type": "code",
   "execution_count": 10,
   "id": "28fbf495",
   "metadata": {},
   "outputs": [],
   "source": [
    "df_params.to_csv('clean_data/parameters.csv', index=False)"
   ]
  }
 ],
 "metadata": {
  "kernelspec": {
   "display_name": "Python 3 (ipykernel)",
   "language": "python",
   "name": "python3"
  },
  "language_info": {
   "codemirror_mode": {
    "name": "ipython",
    "version": 3
   },
   "file_extension": ".py",
   "mimetype": "text/x-python",
   "name": "python",
   "nbconvert_exporter": "python",
   "pygments_lexer": "ipython3",
   "version": "3.10.13"
  }
 },
 "nbformat": 4,
 "nbformat_minor": 5
}
