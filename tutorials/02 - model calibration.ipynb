{
 "cells": [
  {
   "cell_type": "markdown",
   "id": "af4bfe6e",
   "metadata": {},
   "source": [
    "# Model calibration\n",
    "\n",
    "Prepared by Omar A. Guerrero (oguerrero@turing.ac.uk, @guerrero_oa)\n",
    "\n",
    "In this tutorial, we will calibrate the free parameters of PPI's model. First, we will load all the data that we have prepared in the previous tutorials. Then, we extract the relevant information and put it in adecquate data structures. Finally, we run the calibration function and save the results with the parameter values."
   ]
  },
  {
   "cell_type": "markdown",
   "id": "0077e294",
   "metadata": {},
   "source": [
    "## Importing Python's libraries to manipulate and visualise data"
   ]
  },
  {
   "cell_type": "code",
   "execution_count": 1,
   "id": "fb9d93d1",
   "metadata": {},
   "outputs": [],
   "source": [
    "import pandas as pd\n",
    "import numpy as np"
   ]
  },
  {
   "cell_type": "markdown",
   "id": "5f56449b",
   "metadata": {},
   "source": [
    "## Importing PPI's functions\n",
    "\n",
    "In this example, we will import the PPI source code directly from the repository. This means that we will place a request to GitHub, download the `ppi.py` file, and copy it locally into the folder where these tutorials are saved. Then, we will import ppi."
   ]
  },
  {
   "cell_type": "code",
   "execution_count": 2,
   "id": "88cfa647",
   "metadata": {},
   "outputs": [],
   "source": [
    "import requests\n",
    "url = 'https://raw.githubusercontent.com/oguerrer/ppi/main/source_code/ppi.py'\n",
    "r = requests.get(url)\n",
    "with open('ppi.py', 'w') as f:\n",
    "    f.write(r.text)\n",
    "import ppi"
   ]
  },
  {
   "cell_type": "markdown",
   "id": "4e2963d9",
   "metadata": {},
   "source": [
    "## Load data"
   ]
  },
  {
   "cell_type": "markdown",
   "id": "f642dd32",
   "metadata": {},
   "source": [
    "### Indicators"
   ]
  },
  {
   "cell_type": "code",
   "execution_count": 25,
   "id": "ceb85fbd",
   "metadata": {},
   "outputs": [],
   "source": [
    "df_indis = pd.read_csv('https://raw.githubusercontent.com/oguerrer/ppi/main/tutorials/clean_data/data_indicators.csv')\n",
    "\n",
    "N = len(df_indis)\n",
    "I0 = df_indis.I0.values # initial values\n",
    "IF = df_indis.IF.values # final values\n",
    "success_rates = df_indis.successRates.values # success rates\n",
    "R = df_indis.instrumental # instrumental indicators\n",
    "qm = df_indis.qm.values # quality of monitoring\n",
    "rl = df_indis.rl.values # quality of the rule of law\n",
    "indis_index = dict([(code, i) for i, code in enumerate(df_indis.seriesCode)]) # used to build the network matrix"
   ]
  },
  {
   "cell_type": "markdown",
   "id": "49f8cf95",
   "metadata": {},
   "source": [
    "### Interdependency network"
   ]
  },
  {
   "cell_type": "code",
   "execution_count": 9,
   "id": "772c95f1",
   "metadata": {},
   "outputs": [],
   "source": [
    "df_net = pd.read_csv('https://raw.githubusercontent.com/oguerrer/ppi/main/tutorials/clean_data/data_network.csv')\n",
    "\n",
    "A = np.zeros((N, N)) # adjacency matrix\n",
    "for index, row in df_net.iterrows():\n",
    "    i = indis_index[row.origin]\n",
    "    j = indis_index[row.destination]\n",
    "    w = row.weight\n",
    "    A[i,j] = w"
   ]
  },
  {
   "cell_type": "markdown",
   "id": "f69236e0",
   "metadata": {},
   "source": [
    "### Budget"
   ]
  },
  {
   "cell_type": "code",
   "execution_count": 11,
   "id": "86e8b69e",
   "metadata": {},
   "outputs": [],
   "source": [
    "df_exp = pd.read_csv('https://raw.githubusercontent.com/oguerrer/ppi/main/tutorials/clean_data/data_expenditure.csv')\n",
    "\n",
    "Bs = df_exp.values[:,1::] # disbursement schedule (assumes that the expenditure programmes are properly sorted)"
   ]
  },
  {
   "cell_type": "markdown",
   "id": "ed4e8a07",
   "metadata": {},
   "source": [
    "### Budget-indicator mapping"
   ]
  },
  {
   "cell_type": "code",
   "execution_count": 18,
   "id": "007a8c6e",
   "metadata": {},
   "outputs": [
    {
     "data": {
      "text/plain": [
       "{0: [3, 4],\n",
       " 1: [5, 6, 7, 8, 9, 10, 11],\n",
       " 2: [12, 13, 14, 15, 16, 17, 18, 19, 20, 21, 22, 23, 24],\n",
       " 3: [25, 26, 27, 28],\n",
       " 4: [1, 29, 30, 31],\n",
       " 5: [32, 33],\n",
       " 6: [34, 35, 36, 37],\n",
       " 7: [0, 38, 39, 40],\n",
       " 8: [41, 42, 43, 44, 45],\n",
       " 9: [2, 46, 47, 48],\n",
       " 10: [49, 50, 51],\n",
       " 11: [52, 53],\n",
       " 12: [54, 55, 56, 57, 58],\n",
       " 13: [59, 60, 61, 62],\n",
       " 14: [63, 64, 65, 66, 67, 68],\n",
       " 15: [69, 70, 71]}"
      ]
     },
     "execution_count": 18,
     "metadata": {},
     "output_type": "execute_result"
    }
   ],
   "source": [
    "df_rela = pd.read_csv('https://raw.githubusercontent.com/oguerrer/ppi/main/tutorials/clean_data/data_relational_table.csv')\n",
    "\n",
    "B_dict = {}\n",
    "for index, row in df_rela.iterrows():\n",
    "    B_dict[index] = [indis_index[indi] for indi in row.values[1::][row.values[1::].astype(str)!='nan']]"
   ]
  },
  {
   "cell_type": "markdown",
   "id": "bc230215",
   "metadata": {},
   "source": [
    "## Calibrate"
   ]
  },
  {
   "cell_type": "code",
   "execution_count": 26,
   "id": "ddad7c3e",
   "metadata": {},
   "outputs": [
    {
     "ename": "AssertionError",
     "evalue": "qm should have the same size as the number of instrumental indicators (ones in R)",
     "output_type": "error",
     "traceback": [
      "\u001b[0;31m---------------------------------------------------------------------------\u001b[0m",
      "\u001b[0;31mAssertionError\u001b[0m                            Traceback (most recent call last)",
      "Input \u001b[0;32mIn [26]\u001b[0m, in \u001b[0;36m<cell line: 3>\u001b[0;34m()\u001b[0m\n\u001b[1;32m      1\u001b[0m T \u001b[38;5;241m=\u001b[39m \u001b[38;5;241m69\u001b[39m\n\u001b[0;32m----> 3\u001b[0m \u001b[43mppi\u001b[49m\u001b[38;5;241;43m.\u001b[39;49m\u001b[43mcalibrate\u001b[49m\u001b[43m(\u001b[49m\u001b[43mI0\u001b[49m\u001b[43m,\u001b[49m\u001b[43m \u001b[49m\u001b[43mIF\u001b[49m\u001b[43m,\u001b[49m\u001b[43m \u001b[49m\u001b[43msuccess_rates\u001b[49m\u001b[43m,\u001b[49m\u001b[43m \u001b[49m\u001b[43mA\u001b[49m\u001b[38;5;241;43m=\u001b[39;49m\u001b[43mA\u001b[49m\u001b[43m,\u001b[49m\u001b[43m \u001b[49m\u001b[43mR\u001b[49m\u001b[38;5;241;43m=\u001b[39;49m\u001b[43mR\u001b[49m\u001b[43m,\u001b[49m\u001b[43m \u001b[49m\u001b[43mqm\u001b[49m\u001b[38;5;241;43m=\u001b[39;49m\u001b[43mqm\u001b[49m\u001b[43m,\u001b[49m\u001b[43m \u001b[49m\u001b[43mrl\u001b[49m\u001b[38;5;241;43m=\u001b[39;49m\u001b[43mrl\u001b[49m\u001b[43m,\u001b[49m\u001b[43m  \u001b[49m\u001b[43mBs\u001b[49m\u001b[38;5;241;43m=\u001b[39;49m\u001b[43mBs\u001b[49m\u001b[43m,\u001b[49m\u001b[43m \u001b[49m\u001b[43mB_dict\u001b[49m\u001b[38;5;241;43m=\u001b[39;49m\u001b[43mB_dict\u001b[49m\u001b[43m,\u001b[49m\u001b[43m \u001b[49m\n\u001b[1;32m      4\u001b[0m \u001b[43m              \u001b[49m\u001b[43mT\u001b[49m\u001b[38;5;241;43m=\u001b[39;49m\u001b[43mT\u001b[49m\u001b[43m,\u001b[49m\u001b[43m \u001b[49m\u001b[43mthreshold\u001b[49m\u001b[38;5;241;43m=\u001b[39;49m\u001b[38;5;241;43m.8\u001b[39;49m\u001b[43m,\u001b[49m\u001b[43m \u001b[49m\u001b[43mparallel_processes\u001b[49m\u001b[38;5;241;43m=\u001b[39;49m\u001b[38;5;28;43;01mNone\u001b[39;49;00m\u001b[43m,\u001b[49m\u001b[43m \u001b[49m\u001b[43mverbose\u001b[49m\u001b[38;5;241;43m=\u001b[39;49m\u001b[38;5;28;43;01mTrue\u001b[39;49;00m\u001b[43m)\u001b[49m\n",
      "File \u001b[0;32m~/Documents/GitHub/ppi/tutorials/ppi.py:605\u001b[0m, in \u001b[0;36mcalibrate\u001b[0;34m(I0, IF, success_rates, A, R, qm, rl, Bs, B_dict, T, threshold, parallel_processes, verbose, low_precision_counts, increment)\u001b[0m\n\u001b[1;32m    602\u001b[0m betas \u001b[38;5;241m=\u001b[39m params[\u001b[38;5;241m2\u001b[39m\u001b[38;5;241m*\u001b[39mN::]\n\u001b[1;32m    604\u001b[0m \u001b[38;5;66;03m# compute the errors for the specified parameter vector\u001b[39;00m\n\u001b[0;32m--> 605\u001b[0m errors_all, TF \u001b[38;5;241m=\u001b[39m \u001b[43mcompute_error\u001b[49m\u001b[43m(\u001b[49m\u001b[43mI0\u001b[49m\u001b[38;5;241;43m=\u001b[39;49m\u001b[43mI0\u001b[49m\u001b[43m,\u001b[49m\u001b[43m \u001b[49m\u001b[43mIF\u001b[49m\u001b[38;5;241;43m=\u001b[39;49m\u001b[43mIF\u001b[49m\u001b[43m,\u001b[49m\u001b[43m \u001b[49m\u001b[43msuccess_rates\u001b[49m\u001b[38;5;241;43m=\u001b[39;49m\u001b[43msuccess_rates\u001b[49m\u001b[43m,\u001b[49m\u001b[43m \u001b[49m\u001b[43malphas\u001b[49m\u001b[38;5;241;43m=\u001b[39;49m\u001b[43malphas\u001b[49m\u001b[43m,\u001b[49m\u001b[43m \u001b[49m\u001b[43malphas_prime\u001b[49m\u001b[38;5;241;43m=\u001b[39;49m\u001b[43malphas_prime\u001b[49m\u001b[43m,\u001b[49m\u001b[43m \u001b[49m\u001b[43mbetas\u001b[49m\u001b[38;5;241;43m=\u001b[39;49m\u001b[43mbetas\u001b[49m\u001b[43m,\u001b[49m\u001b[43m \u001b[49m\u001b[43mA\u001b[49m\u001b[38;5;241;43m=\u001b[39;49m\u001b[43mA\u001b[49m\u001b[43m,\u001b[49m\u001b[43m \u001b[49m\n\u001b[1;32m    606\u001b[0m \u001b[43m                                \u001b[49m\u001b[43mR\u001b[49m\u001b[38;5;241;43m=\u001b[39;49m\u001b[43mR\u001b[49m\u001b[43m,\u001b[49m\u001b[43m \u001b[49m\u001b[43mqm\u001b[49m\u001b[38;5;241;43m=\u001b[39;49m\u001b[43mqm\u001b[49m\u001b[43m,\u001b[49m\u001b[43m \u001b[49m\u001b[43mrl\u001b[49m\u001b[38;5;241;43m=\u001b[39;49m\u001b[43mrl\u001b[49m\u001b[43m,\u001b[49m\u001b[43m \u001b[49m\u001b[43mBs\u001b[49m\u001b[38;5;241;43m=\u001b[39;49m\u001b[43mBs\u001b[49m\u001b[43m,\u001b[49m\u001b[43m \u001b[49m\u001b[43mB_dict\u001b[49m\u001b[38;5;241;43m=\u001b[39;49m\u001b[43mB_dict\u001b[49m\u001b[43m,\u001b[49m\u001b[43m \u001b[49m\n\u001b[1;32m    607\u001b[0m \u001b[43m                                \u001b[49m\u001b[43mT\u001b[49m\u001b[38;5;241;43m=\u001b[39;49m\u001b[43mT\u001b[49m\u001b[43m,\u001b[49m\u001b[43m \u001b[49m\u001b[43mparallel_processes\u001b[49m\u001b[38;5;241;43m=\u001b[39;49m\u001b[43mparallel_processes\u001b[49m\u001b[43m,\u001b[49m\u001b[43m \u001b[49m\n\u001b[1;32m    608\u001b[0m \u001b[43m                                \u001b[49m\u001b[43msample_size\u001b[49m\u001b[38;5;241;43m=\u001b[39;49m\u001b[43msample_size\u001b[49m\u001b[43m)\u001b[49m\n\u001b[1;32m    610\u001b[0m \u001b[38;5;66;03m# unpack the error vector\u001b[39;00m\n\u001b[1;32m    611\u001b[0m errors_alpha \u001b[38;5;241m=\u001b[39m errors_all[\u001b[38;5;241m0\u001b[39m:N]\n",
      "File \u001b[0;32m~/Documents/GitHub/ppi/tutorials/ppi.py:728\u001b[0m, in \u001b[0;36mcompute_error\u001b[0;34m(I0, IF, success_rates, alphas, alphas_prime, betas, A, R, qm, rl, Bs, B_dict, T, parallel_processes, sample_size)\u001b[0m\n\u001b[1;32m    678\u001b[0m \u001b[38;5;124;03m\"\"\"Function to evaluate the model and compute the errors.\u001b[39;00m\n\u001b[1;32m    679\u001b[0m \n\u001b[1;32m    680\u001b[0m \u001b[38;5;124;03mParameters\u001b[39;00m\n\u001b[0;32m   (...)\u001b[0m\n\u001b[1;32m    722\u001b[0m \u001b[38;5;124;03m        The number of periods that the model ran in each Monte Carlo simulation.\u001b[39;00m\n\u001b[1;32m    723\u001b[0m \u001b[38;5;124;03m\"\"\"\u001b[39;00m\n\u001b[1;32m    727\u001b[0m \u001b[38;5;28;01mif\u001b[39;00m parallel_processes \u001b[38;5;129;01mis\u001b[39;00m \u001b[38;5;28;01mNone\u001b[39;00m:\n\u001b[0;32m--> 728\u001b[0m     sols \u001b[38;5;241m=\u001b[39m np\u001b[38;5;241m.\u001b[39marray([run_ppi(I0\u001b[38;5;241m=\u001b[39mI0, alphas\u001b[38;5;241m=\u001b[39malphas, alphas_prime\u001b[38;5;241m=\u001b[39malphas_prime, \n\u001b[1;32m    729\u001b[0m                       betas\u001b[38;5;241m=\u001b[39mbetas, A\u001b[38;5;241m=\u001b[39mA, R\u001b[38;5;241m=\u001b[39mR, qm\u001b[38;5;241m=\u001b[39mqm, rl\u001b[38;5;241m=\u001b[39mrl,\n\u001b[1;32m    730\u001b[0m                       Bs\u001b[38;5;241m=\u001b[39mBs, B_dict\u001b[38;5;241m=\u001b[39mB_dict, T\u001b[38;5;241m=\u001b[39mT) \u001b[38;5;28;01mfor\u001b[39;00m itera \u001b[38;5;129;01min\u001b[39;00m \u001b[38;5;28mrange\u001b[39m(sample_size)])\n\u001b[1;32m    731\u001b[0m \u001b[38;5;28;01melse\u001b[39;00m:\n\u001b[1;32m    732\u001b[0m     sols \u001b[38;5;241m=\u001b[39m np\u001b[38;5;241m.\u001b[39marray(Parallel(n_jobs\u001b[38;5;241m=\u001b[39mparallel_processes, verbose\u001b[38;5;241m=\u001b[39m\u001b[38;5;241m0\u001b[39m)(delayed(run_ppi)\\\n\u001b[1;32m    733\u001b[0m             (I0\u001b[38;5;241m=\u001b[39mI0, alphas\u001b[38;5;241m=\u001b[39malphas, alphas_prime\u001b[38;5;241m=\u001b[39malphas_prime, betas\u001b[38;5;241m=\u001b[39mbetas, \n\u001b[1;32m    734\u001b[0m              A\u001b[38;5;241m=\u001b[39mA, R\u001b[38;5;241m=\u001b[39mR, qm\u001b[38;5;241m=\u001b[39mqm, rl\u001b[38;5;241m=\u001b[39mrl, Bs\u001b[38;5;241m=\u001b[39mBs, B_dict\u001b[38;5;241m=\u001b[39mB_dict, T\u001b[38;5;241m=\u001b[39mT) \u001b[38;5;28;01mfor\u001b[39;00m itera \u001b[38;5;129;01min\u001b[39;00m \u001b[38;5;28mrange\u001b[39m(sample_size)))\n",
      "File \u001b[0;32m~/Documents/GitHub/ppi/tutorials/ppi.py:728\u001b[0m, in \u001b[0;36m<listcomp>\u001b[0;34m(.0)\u001b[0m\n\u001b[1;32m    678\u001b[0m \u001b[38;5;124;03m\"\"\"Function to evaluate the model and compute the errors.\u001b[39;00m\n\u001b[1;32m    679\u001b[0m \n\u001b[1;32m    680\u001b[0m \u001b[38;5;124;03mParameters\u001b[39;00m\n\u001b[0;32m   (...)\u001b[0m\n\u001b[1;32m    722\u001b[0m \u001b[38;5;124;03m        The number of periods that the model ran in each Monte Carlo simulation.\u001b[39;00m\n\u001b[1;32m    723\u001b[0m \u001b[38;5;124;03m\"\"\"\u001b[39;00m\n\u001b[1;32m    727\u001b[0m \u001b[38;5;28;01mif\u001b[39;00m parallel_processes \u001b[38;5;129;01mis\u001b[39;00m \u001b[38;5;28;01mNone\u001b[39;00m:\n\u001b[0;32m--> 728\u001b[0m     sols \u001b[38;5;241m=\u001b[39m np\u001b[38;5;241m.\u001b[39marray([\u001b[43mrun_ppi\u001b[49m\u001b[43m(\u001b[49m\u001b[43mI0\u001b[49m\u001b[38;5;241;43m=\u001b[39;49m\u001b[43mI0\u001b[49m\u001b[43m,\u001b[49m\u001b[43m \u001b[49m\u001b[43malphas\u001b[49m\u001b[38;5;241;43m=\u001b[39;49m\u001b[43malphas\u001b[49m\u001b[43m,\u001b[49m\u001b[43m \u001b[49m\u001b[43malphas_prime\u001b[49m\u001b[38;5;241;43m=\u001b[39;49m\u001b[43malphas_prime\u001b[49m\u001b[43m,\u001b[49m\u001b[43m \u001b[49m\n\u001b[1;32m    729\u001b[0m \u001b[43m                      \u001b[49m\u001b[43mbetas\u001b[49m\u001b[38;5;241;43m=\u001b[39;49m\u001b[43mbetas\u001b[49m\u001b[43m,\u001b[49m\u001b[43m \u001b[49m\u001b[43mA\u001b[49m\u001b[38;5;241;43m=\u001b[39;49m\u001b[43mA\u001b[49m\u001b[43m,\u001b[49m\u001b[43m \u001b[49m\u001b[43mR\u001b[49m\u001b[38;5;241;43m=\u001b[39;49m\u001b[43mR\u001b[49m\u001b[43m,\u001b[49m\u001b[43m \u001b[49m\u001b[43mqm\u001b[49m\u001b[38;5;241;43m=\u001b[39;49m\u001b[43mqm\u001b[49m\u001b[43m,\u001b[49m\u001b[43m \u001b[49m\u001b[43mrl\u001b[49m\u001b[38;5;241;43m=\u001b[39;49m\u001b[43mrl\u001b[49m\u001b[43m,\u001b[49m\n\u001b[1;32m    730\u001b[0m \u001b[43m                      \u001b[49m\u001b[43mBs\u001b[49m\u001b[38;5;241;43m=\u001b[39;49m\u001b[43mBs\u001b[49m\u001b[43m,\u001b[49m\u001b[43m \u001b[49m\u001b[43mB_dict\u001b[49m\u001b[38;5;241;43m=\u001b[39;49m\u001b[43mB_dict\u001b[49m\u001b[43m,\u001b[49m\u001b[43m \u001b[49m\u001b[43mT\u001b[49m\u001b[38;5;241;43m=\u001b[39;49m\u001b[43mT\u001b[49m\u001b[43m)\u001b[49m \u001b[38;5;28;01mfor\u001b[39;00m itera \u001b[38;5;129;01min\u001b[39;00m \u001b[38;5;28mrange\u001b[39m(sample_size)])\n\u001b[1;32m    731\u001b[0m \u001b[38;5;28;01melse\u001b[39;00m:\n\u001b[1;32m    732\u001b[0m     sols \u001b[38;5;241m=\u001b[39m np\u001b[38;5;241m.\u001b[39marray(Parallel(n_jobs\u001b[38;5;241m=\u001b[39mparallel_processes, verbose\u001b[38;5;241m=\u001b[39m\u001b[38;5;241m0\u001b[39m)(delayed(run_ppi)\\\n\u001b[1;32m    733\u001b[0m             (I0\u001b[38;5;241m=\u001b[39mI0, alphas\u001b[38;5;241m=\u001b[39malphas, alphas_prime\u001b[38;5;241m=\u001b[39malphas_prime, betas\u001b[38;5;241m=\u001b[39mbetas, \n\u001b[1;32m    734\u001b[0m              A\u001b[38;5;241m=\u001b[39mA, R\u001b[38;5;241m=\u001b[39mR, qm\u001b[38;5;241m=\u001b[39mqm, rl\u001b[38;5;241m=\u001b[39mrl, Bs\u001b[38;5;241m=\u001b[39mBs, B_dict\u001b[38;5;241m=\u001b[39mB_dict, T\u001b[38;5;241m=\u001b[39mT) \u001b[38;5;28;01mfor\u001b[39;00m itera \u001b[38;5;129;01min\u001b[39;00m \u001b[38;5;28mrange\u001b[39m(sample_size)))\n",
      "File \u001b[0;32m~/Documents/GitHub/ppi/tutorials/ppi.py:239\u001b[0m, in \u001b[0;36mrun_ppi\u001b[0;34m(I0, alphas, alphas_prime, betas, A, R, bs, qm, rl, Imax, Imin, Bs, B_dict, G, T, frontier)\u001b[0m\n\u001b[1;32m    237\u001b[0m \u001b[38;5;28;01melif\u001b[39;00m \u001b[38;5;28mtype\u001b[39m(qm) \u001b[38;5;129;01mis\u001b[39;00m np\u001b[38;5;241m.\u001b[39mndarray:\n\u001b[1;32m    238\u001b[0m     \u001b[38;5;28;01massert\u001b[39;00m np\u001b[38;5;241m.\u001b[39msum(np\u001b[38;5;241m.\u001b[39misnan(qm)) \u001b[38;5;241m==\u001b[39m \u001b[38;5;241m0\u001b[39m, \u001b[38;5;124m'\u001b[39m\u001b[38;5;124mqm should not contain missing values\u001b[39m\u001b[38;5;124m'\u001b[39m\n\u001b[0;32m--> 239\u001b[0m     \u001b[38;5;28;01massert\u001b[39;00m \u001b[38;5;28mlen\u001b[39m(qm) \u001b[38;5;241m==\u001b[39m n, \u001b[38;5;124m'\u001b[39m\u001b[38;5;124mqm should have the same size as the number of instrumental indicators (ones in R)\u001b[39m\u001b[38;5;124m'\u001b[39m\n\u001b[1;32m    241\u001b[0m \u001b[38;5;66;03m# Quality of the rule of law\u001b[39;00m\n\u001b[1;32m    242\u001b[0m \u001b[38;5;28;01mif\u001b[39;00m rl \u001b[38;5;129;01mis\u001b[39;00m \u001b[38;5;28;01mNone\u001b[39;00m:\n",
      "\u001b[0;31mAssertionError\u001b[0m: qm should have the same size as the number of instrumental indicators (ones in R)"
     ]
    }
   ],
   "source": [
    "T = 69\n",
    "\n",
    "ppi.calibrate(I0, IF, success_rates, A=A, R=R, qm=qm, rl=rl,  Bs=Bs, B_dict=B_dict, \n",
    "              T=T, threshold=.8, parallel_processes=None, verbose=True)"
   ]
  },
  {
   "cell_type": "code",
   "execution_count": null,
   "id": "34537be3",
   "metadata": {},
   "outputs": [],
   "source": []
  }
 ],
 "metadata": {
  "kernelspec": {
   "display_name": "Python 3 (ipykernel)",
   "language": "python",
   "name": "python3"
  },
  "language_info": {
   "codemirror_mode": {
    "name": "ipython",
    "version": 3
   },
   "file_extension": ".py",
   "mimetype": "text/x-python",
   "name": "python",
   "nbconvert_exporter": "python",
   "pygments_lexer": "ipython3",
   "version": "3.9.12"
  }
 },
 "nbformat": 4,
 "nbformat_minor": 5
}
