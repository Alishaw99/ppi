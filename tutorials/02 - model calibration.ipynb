{
 "cells": [
  {
   "cell_type": "markdown",
   "id": "af4bfe6e",
   "metadata": {},
   "source": [
    "# Model calibration\n",
    "\n",
    "Prepared by Omar A. Guerrero (oguerrero@turing.ac.uk, @guerrero_oa)\n",
    "\n",
    "In this tutorial I will calibrate the free parameters of PPI's model. First, I will load all the data that we have prepared in the previous tutorials. Then, I extract the relevant information and put it in adecquate data structures. Finally, I run the calibration function and save the results with the parameter values."
   ]
  },
  {
   "cell_type": "markdown",
   "id": "0077e294",
   "metadata": {},
   "source": [
    "## Importing Python's libraries to manipulate data"
   ]
  },
  {
   "cell_type": "code",
   "execution_count": 1,
   "id": "fb9d93d1",
   "metadata": {},
   "outputs": [],
   "source": [
    "import pandas as pd\n",
    "import numpy as np"
   ]
  },
  {
   "cell_type": "markdown",
   "id": "5f56449b",
   "metadata": {},
   "source": [
    "## Importing PPI's functions\n",
    "\n",
    "In this example, we will import the PPI source code directly from the repository. This means that we will place a request to GitHub, download the `ppi.py` file, and copy it locally into the folder where these tutorials are saved. Then, we will import ppi."
   ]
  },
  {
   "cell_type": "code",
   "execution_count": 2,
   "id": "88cfa647",
   "metadata": {},
   "outputs": [],
   "source": [
    "import requests\n",
    "url = 'https://raw.githubusercontent.com/oguerrer/ppi/main/source_code/ppi.py'\n",
    "r = requests.get(url)\n",
    "with open('ppi.py', 'w') as f:\n",
    "    f.write(r.text)\n",
    "import ppi"
   ]
  },
  {
   "cell_type": "markdown",
   "id": "4e2963d9",
   "metadata": {},
   "source": [
    "## Load data"
   ]
  },
  {
   "cell_type": "markdown",
   "id": "f642dd32",
   "metadata": {},
   "source": [
    "### Indicators"
   ]
  },
  {
   "cell_type": "code",
   "execution_count": 3,
   "id": "c5fab3a5",
   "metadata": {},
   "outputs": [],
   "source": [
    "df_indis = pd.read_csv('https://raw.githubusercontent.com/oguerrer/ppi/main/tutorials/clean_data/data_indicators.csv')\n",
    "\n",
    "N = len(df_indis)\n",
    "I0 = df_indis.I0.values # initial values\n",
    "IF = df_indis.IF.values # final values\n",
    "success_rates = df_indis.successRates.values # success rates\n",
    "R = df_indis.instrumental # instrumental indicators\n",
    "qm = df_indis.qm.values # quality of monitoring\n",
    "rl = df_indis.rl.values # quality of the rule of law\n",
    "indis_index = dict([(code, i) for i, code in enumerate(df_indis.seriesCode)]) # used to build the network matrix"
   ]
  },
  {
   "cell_type": "markdown",
   "id": "49f8cf95",
   "metadata": {},
   "source": [
    "### Interdependency network"
   ]
  },
  {
   "cell_type": "code",
   "execution_count": 4,
   "id": "59c7faa6",
   "metadata": {},
   "outputs": [],
   "source": [
    "df_net = pd.read_csv('https://raw.githubusercontent.com/oguerrer/ppi/main/tutorials/clean_data/data_network.csv')\n",
    "\n",
    "A = np.zeros((N, N)) # adjacency matrix\n",
    "for index, row in df_net.iterrows():\n",
    "    i = indis_index[row.origin]\n",
    "    j = indis_index[row.destination]\n",
    "    w = row.weight\n",
    "    A[i,j] = w"
   ]
  },
  {
   "cell_type": "markdown",
   "id": "f69236e0",
   "metadata": {},
   "source": [
    "### Budget"
   ]
  },
  {
   "cell_type": "code",
   "execution_count": 5,
   "id": "f1d2ad31",
   "metadata": {},
   "outputs": [],
   "source": [
    "df_exp = pd.read_csv('https://raw.githubusercontent.com/oguerrer/ppi/main/tutorials/clean_data/data_expenditure.csv')\n",
    "\n",
    "Bs = df_exp.values[:,1::] # disbursement schedule (assumes that the expenditure programmes are properly sorted)"
   ]
  },
  {
   "cell_type": "markdown",
   "id": "ed4e8a07",
   "metadata": {},
   "source": [
    "### Budget-indicator mapping"
   ]
  },
  {
   "cell_type": "code",
   "execution_count": 6,
   "id": "007a8c6e",
   "metadata": {},
   "outputs": [],
   "source": [
    "df_rela = pd.read_csv('https://raw.githubusercontent.com/oguerrer/ppi/main/tutorials/clean_data/data_relational_table.csv')\n",
    "\n",
    "B_dict = {}\n",
    "for index, row in df_rela.iterrows():\n",
    "    B_dict[indis_index[row.seriesCode]] = [programme for programme in row.values[1::][row.values[1::].astype(str)!='nan']]"
   ]
  },
  {
   "cell_type": "markdown",
   "id": "b2c01813",
   "metadata": {},
   "source": [
    "## Calibrate\n",
    "\n",
    "Now we run the calibration function."
   ]
  },
  {
   "cell_type": "code",
   "execution_count": 7,
   "id": "bf6ca870",
   "metadata": {},
   "outputs": [
    {
     "ename": "TypeError",
     "evalue": "run_ppi_parallel() missing 2 required positional arguments: 'IF' and 'success_rates'",
     "output_type": "error",
     "traceback": [
      "\u001b[0;31m---------------------------------------------------------------------------\u001b[0m",
      "\u001b[0;31mTypeError\u001b[0m                                 Traceback (most recent call last)",
      "Input \u001b[0;32mIn [7]\u001b[0m, in \u001b[0;36m<cell line: 6>\u001b[0;34m()\u001b[0m\n\u001b[1;32m      3\u001b[0m threshold \u001b[38;5;241m=\u001b[39m \u001b[38;5;241m0.6\u001b[39m \u001b[38;5;66;03m# the quality of the calibration (maximum is near to 1, but cannot be exactly 1)\u001b[39;00m\n\u001b[1;32m      4\u001b[0m low_precision_counts \u001b[38;5;241m=\u001b[39m \u001b[38;5;241m50\u001b[39m \u001b[38;5;66;03m# number of low-quality evaluations to accelerate the calibration\u001b[39;00m\n\u001b[0;32m----> 6\u001b[0m parameters \u001b[38;5;241m=\u001b[39m \u001b[43mppi\u001b[49m\u001b[38;5;241;43m.\u001b[39;49m\u001b[43mcalibrate\u001b[49m\u001b[43m(\u001b[49m\u001b[43mI0\u001b[49m\u001b[43m,\u001b[49m\u001b[43m \u001b[49m\u001b[43mIF\u001b[49m\u001b[43m,\u001b[49m\u001b[43m \u001b[49m\u001b[43msuccess_rates\u001b[49m\u001b[43m,\u001b[49m\u001b[43m \u001b[49m\u001b[43mA\u001b[49m\u001b[38;5;241;43m=\u001b[39;49m\u001b[43mA\u001b[49m\u001b[43m,\u001b[49m\u001b[43m \u001b[49m\u001b[43mR\u001b[49m\u001b[38;5;241;43m=\u001b[39;49m\u001b[43mR\u001b[49m\u001b[43m,\u001b[49m\u001b[43m \u001b[49m\u001b[43mqm\u001b[49m\u001b[38;5;241;43m=\u001b[39;49m\u001b[43mqm\u001b[49m\u001b[43m,\u001b[49m\u001b[43m \u001b[49m\u001b[43mrl\u001b[49m\u001b[38;5;241;43m=\u001b[39;49m\u001b[43mrl\u001b[49m\u001b[43m,\u001b[49m\u001b[43m \u001b[49m\u001b[43mBs\u001b[49m\u001b[38;5;241;43m=\u001b[39;49m\u001b[43mBs\u001b[49m\u001b[43m,\u001b[49m\u001b[43m \u001b[49m\u001b[43mB_dict\u001b[49m\u001b[38;5;241;43m=\u001b[39;49m\u001b[43mB_dict\u001b[49m\u001b[43m,\u001b[49m\n\u001b[1;32m      7\u001b[0m \u001b[43m              \u001b[49m\u001b[43mT\u001b[49m\u001b[38;5;241;43m=\u001b[39;49m\u001b[43mT\u001b[49m\u001b[43m,\u001b[49m\u001b[43m \u001b[49m\u001b[43mthreshold\u001b[49m\u001b[38;5;241;43m=\u001b[39;49m\u001b[43mthreshold\u001b[49m\u001b[43m,\u001b[49m\u001b[43m \u001b[49m\u001b[43mparallel_processes\u001b[49m\u001b[38;5;241;43m=\u001b[39;49m\u001b[43mparallel_processes\u001b[49m\u001b[43m,\u001b[49m\u001b[43m \u001b[49m\u001b[43mverbose\u001b[49m\u001b[38;5;241;43m=\u001b[39;49m\u001b[38;5;28;43;01mTrue\u001b[39;49;00m\u001b[43m,\u001b[49m\n\u001b[1;32m      8\u001b[0m \u001b[43m             \u001b[49m\u001b[43mlow_precision_counts\u001b[49m\u001b[38;5;241;43m=\u001b[39;49m\u001b[43mlow_precision_counts\u001b[49m\u001b[43m)\u001b[49m\n",
      "File \u001b[0;32m~/Documents/GitHub/ppi/tutorials/ppi.py:612\u001b[0m, in \u001b[0;36mcalibrate\u001b[0;34m(I0, IF, success_rates, A, R, bs, qm, rl, Bs, B_dict, T, threshold, parallel_processes, verbose, low_precision_counts, increment)\u001b[0m\n\u001b[1;32m    609\u001b[0m betas \u001b[38;5;241m=\u001b[39m params[\u001b[38;5;241m2\u001b[39m\u001b[38;5;241m*\u001b[39mN::]\n\u001b[1;32m    611\u001b[0m \u001b[38;5;66;03m# compute the errors for the specified parameter vector\u001b[39;00m\n\u001b[0;32m--> 612\u001b[0m errors_all, TF \u001b[38;5;241m=\u001b[39m \u001b[43mcompute_error\u001b[49m\u001b[43m(\u001b[49m\u001b[43mI0\u001b[49m\u001b[38;5;241;43m=\u001b[39;49m\u001b[43mI0\u001b[49m\u001b[43m,\u001b[49m\u001b[43m \u001b[49m\u001b[43mIF\u001b[49m\u001b[38;5;241;43m=\u001b[39;49m\u001b[43mIF\u001b[49m\u001b[43m,\u001b[49m\u001b[43m \u001b[49m\u001b[43msuccess_rates\u001b[49m\u001b[38;5;241;43m=\u001b[39;49m\u001b[43msuccess_rates\u001b[49m\u001b[43m,\u001b[49m\u001b[43m \u001b[49m\u001b[43malphas\u001b[49m\u001b[38;5;241;43m=\u001b[39;49m\u001b[43malphas\u001b[49m\u001b[43m,\u001b[49m\u001b[43m \u001b[49m\u001b[43malphas_prime\u001b[49m\u001b[38;5;241;43m=\u001b[39;49m\u001b[43malphas_prime\u001b[49m\u001b[43m,\u001b[49m\u001b[43m \u001b[49m\u001b[43mbetas\u001b[49m\u001b[38;5;241;43m=\u001b[39;49m\u001b[43mbetas\u001b[49m\u001b[43m,\u001b[49m\u001b[43m \u001b[49m\u001b[43mA\u001b[49m\u001b[38;5;241;43m=\u001b[39;49m\u001b[43mA\u001b[49m\u001b[43m,\u001b[49m\u001b[43m \u001b[49m\n\u001b[1;32m    613\u001b[0m \u001b[43m                                \u001b[49m\u001b[43mR\u001b[49m\u001b[38;5;241;43m=\u001b[39;49m\u001b[43mR\u001b[49m\u001b[43m,\u001b[49m\u001b[43m \u001b[49m\u001b[43mbs\u001b[49m\u001b[38;5;241;43m=\u001b[39;49m\u001b[43mbs\u001b[49m\u001b[43m,\u001b[49m\u001b[43m \u001b[49m\u001b[43mqm\u001b[49m\u001b[38;5;241;43m=\u001b[39;49m\u001b[43mqm\u001b[49m\u001b[43m,\u001b[49m\u001b[43m \u001b[49m\u001b[43mrl\u001b[49m\u001b[38;5;241;43m=\u001b[39;49m\u001b[43mrl\u001b[49m\u001b[43m,\u001b[49m\u001b[43m \u001b[49m\u001b[43mBs\u001b[49m\u001b[38;5;241;43m=\u001b[39;49m\u001b[43mBs\u001b[49m\u001b[43m,\u001b[49m\u001b[43m \u001b[49m\u001b[43mB_dict\u001b[49m\u001b[38;5;241;43m=\u001b[39;49m\u001b[43mB_dict\u001b[49m\u001b[43m,\u001b[49m\u001b[43m \u001b[49m\n\u001b[1;32m    614\u001b[0m \u001b[43m                                \u001b[49m\u001b[43mT\u001b[49m\u001b[38;5;241;43m=\u001b[39;49m\u001b[43mT\u001b[49m\u001b[43m,\u001b[49m\u001b[43m \u001b[49m\u001b[43mparallel_processes\u001b[49m\u001b[38;5;241;43m=\u001b[39;49m\u001b[43mparallel_processes\u001b[49m\u001b[43m,\u001b[49m\u001b[43m \u001b[49m\n\u001b[1;32m    615\u001b[0m \u001b[43m                                \u001b[49m\u001b[43msample_size\u001b[49m\u001b[38;5;241;43m=\u001b[39;49m\u001b[43msample_size\u001b[49m\u001b[43m)\u001b[49m\n\u001b[1;32m    617\u001b[0m \u001b[38;5;66;03m# unpack the error vector\u001b[39;00m\n\u001b[1;32m    618\u001b[0m errors_alpha \u001b[38;5;241m=\u001b[39m errors_all[\u001b[38;5;241m0\u001b[39m:N]\n",
      "File \u001b[0;32m~/Documents/GitHub/ppi/tutorials/ppi.py:738\u001b[0m, in \u001b[0;36mcompute_error\u001b[0;34m(I0, IF, success_rates, alphas, alphas_prime, betas, A, R, bs, qm, rl, Bs, B_dict, T, parallel_processes, sample_size)\u001b[0m\n\u001b[1;32m    734\u001b[0m     sols \u001b[38;5;241m=\u001b[39m np\u001b[38;5;241m.\u001b[39marray([run_ppi(I0\u001b[38;5;241m=\u001b[39mI0, alphas\u001b[38;5;241m=\u001b[39malphas, alphas_prime\u001b[38;5;241m=\u001b[39malphas_prime, \n\u001b[1;32m    735\u001b[0m                       betas\u001b[38;5;241m=\u001b[39mbetas, A\u001b[38;5;241m=\u001b[39mA, R\u001b[38;5;241m=\u001b[39mR, bs\u001b[38;5;241m=\u001b[39mbs, qm\u001b[38;5;241m=\u001b[39mqm, rl\u001b[38;5;241m=\u001b[39mrl,\n\u001b[1;32m    736\u001b[0m                       Bs\u001b[38;5;241m=\u001b[39mBs, B_dict\u001b[38;5;241m=\u001b[39mB_dict, T\u001b[38;5;241m=\u001b[39mT) \u001b[38;5;28;01mfor\u001b[39;00m itera \u001b[38;5;129;01min\u001b[39;00m \u001b[38;5;28mrange\u001b[39m(sample_size)])\n\u001b[1;32m    737\u001b[0m \u001b[38;5;28;01melse\u001b[39;00m:\n\u001b[0;32m--> 738\u001b[0m     sols \u001b[38;5;241m=\u001b[39m \u001b[43mrun_ppi_parallel\u001b[49m\u001b[43m(\u001b[49m\u001b[43mI0\u001b[49m\u001b[38;5;241;43m=\u001b[39;49m\u001b[43mI0\u001b[49m\u001b[43m,\u001b[49m\u001b[43m \u001b[49m\u001b[43malphas\u001b[49m\u001b[38;5;241;43m=\u001b[39;49m\u001b[43malphas\u001b[49m\u001b[43m,\u001b[49m\u001b[43m \u001b[49m\u001b[43malphas_prime\u001b[49m\u001b[38;5;241;43m=\u001b[39;49m\u001b[43malphas_prime\u001b[49m\u001b[43m,\u001b[49m\u001b[43m \u001b[49m\u001b[43mbetas\u001b[49m\u001b[38;5;241;43m=\u001b[39;49m\u001b[43mbetas\u001b[49m\u001b[43m,\u001b[49m\u001b[43m \u001b[49m\n\u001b[1;32m    739\u001b[0m \u001b[43m     \u001b[49m\u001b[43mA\u001b[49m\u001b[38;5;241;43m=\u001b[39;49m\u001b[43mA\u001b[49m\u001b[43m,\u001b[49m\u001b[43m \u001b[49m\u001b[43mR\u001b[49m\u001b[38;5;241;43m=\u001b[39;49m\u001b[43mR\u001b[49m\u001b[43m,\u001b[49m\u001b[43m \u001b[49m\u001b[43mbs\u001b[49m\u001b[38;5;241;43m=\u001b[39;49m\u001b[43mbs\u001b[49m\u001b[43m,\u001b[49m\u001b[43m \u001b[49m\u001b[43mqm\u001b[49m\u001b[38;5;241;43m=\u001b[39;49m\u001b[43mqm\u001b[49m\u001b[43m,\u001b[49m\u001b[43m \u001b[49m\u001b[43mrl\u001b[49m\u001b[38;5;241;43m=\u001b[39;49m\u001b[43mrl\u001b[49m\u001b[43m,\u001b[49m\u001b[43m \u001b[49m\u001b[43mBs\u001b[49m\u001b[38;5;241;43m=\u001b[39;49m\u001b[43mBs\u001b[49m\u001b[43m,\u001b[49m\u001b[43m \u001b[49m\u001b[43mB_dict\u001b[49m\u001b[38;5;241;43m=\u001b[39;49m\u001b[43mB_dict\u001b[49m\u001b[43m,\u001b[49m\u001b[43m \u001b[49m\u001b[43mT\u001b[49m\u001b[38;5;241;43m=\u001b[39;49m\u001b[43mT\u001b[49m\u001b[43m,\u001b[49m\u001b[43m \u001b[49m\n\u001b[1;32m    740\u001b[0m \u001b[43m     \u001b[49m\u001b[43mparallel_processes\u001b[49m\u001b[38;5;241;43m=\u001b[39;49m\u001b[43mparallel_processes\u001b[49m\u001b[43m,\u001b[49m\u001b[43m \u001b[49m\u001b[43msample_size\u001b[49m\u001b[38;5;241;43m=\u001b[39;49m\u001b[43msample_size\u001b[49m\u001b[43m)\u001b[49m\n\u001b[1;32m    742\u001b[0m tsI, tsC, tsF, tsP, tsS, tsG \u001b[38;5;241m=\u001b[39m \u001b[38;5;28mzip\u001b[39m(\u001b[38;5;241m*\u001b[39msols)\n\u001b[1;32m    743\u001b[0m I_hat \u001b[38;5;241m=\u001b[39m np\u001b[38;5;241m.\u001b[39mmean(tsI, axis\u001b[38;5;241m=\u001b[39m\u001b[38;5;241m0\u001b[39m)[:,\u001b[38;5;241m-\u001b[39m\u001b[38;5;241m1\u001b[39m]\n",
      "\u001b[0;31mTypeError\u001b[0m: run_ppi_parallel() missing 2 required positional arguments: 'IF' and 'success_rates'"
     ]
    }
   ],
   "source": [
    "T = Bs.shape[1]\n",
    "parallel_processes = 4 # number of cores to use\n",
    "threshold = 0.6 # the quality of the calibration (maximum is near to 1, but cannot be exactly 1)\n",
    "low_precision_counts = 50 # number of low-quality evaluations to accelerate the calibration\n",
    "\n",
    "parameters = ppi.calibrate(I0, IF, success_rates, A=A, R=R, qm=qm, rl=rl, Bs=Bs, B_dict=B_dict,\n",
    "              T=T, threshold=threshold, parallel_processes=parallel_processes, verbose=True,\n",
    "             low_precision_counts=low_precision_counts)"
   ]
  },
  {
   "cell_type": "markdown",
   "id": "a6042d30",
   "metadata": {},
   "source": [
    "## Calibration outputs\n",
    "\n",
    "The output of the calibration function is a matrix with the following columns:\n",
    "\n",
    "* <strong>alpha</strong>: the parametes related to structural constraints\n",
    "* <strong>alpha_prime</strong>: the parametes related to structural costs\n",
    "* <strong>beta</strong>: the parametes related to the probability of success\n",
    "* <strong>T</strong>: the number of simulation periods\n",
    "* <strong>error_alpha</strong>: the errors associated to the parameters $\\alpha$ and $\\alpha'$\n",
    "* <strong>error_beta</strong>: the errors associated to the parameters $\\beta$\n",
    "* <strong>GoF_alpha</strong>: the goodness-of-fit associated to the parameters $\\alpha$ and $\\alpha'$\n",
    "* <strong>GoF_beta</strong>: the goodness-of-fit associated to the parameters $\\beta$\n",
    "\n",
    "The top row of this matrix contains the column names, so we just need to transform these data into a DataFrame to export it."
   ]
  },
  {
   "cell_type": "code",
   "execution_count": null,
   "id": "50e1f937",
   "metadata": {},
   "outputs": [],
   "source": [
    "df_params = pd.DataFrame(parameters[1::], columns=parameters[0])"
   ]
  },
  {
   "cell_type": "code",
   "execution_count": null,
   "id": "ed29b514",
   "metadata": {},
   "outputs": [],
   "source": [
    "df_params"
   ]
  },
  {
   "cell_type": "markdown",
   "id": "2c7dcf37",
   "metadata": {},
   "source": [
    "## Save parameters data"
   ]
  },
  {
   "cell_type": "code",
   "execution_count": null,
   "id": "a86259d2",
   "metadata": {},
   "outputs": [],
   "source": [
    "df_params.to_csv('clean_data/parameters.csv', index=False)"
   ]
  },
  {
   "cell_type": "code",
   "execution_count": null,
   "id": "19d0d272",
   "metadata": {},
   "outputs": [],
   "source": []
  }
 ],
 "metadata": {
  "kernelspec": {
   "display_name": "Python 3 (ipykernel)",
   "language": "python",
   "name": "python3"
  },
  "language_info": {
   "codemirror_mode": {
    "name": "ipython",
    "version": 3
   },
   "file_extension": ".py",
   "mimetype": "text/x-python",
   "name": "python",
   "nbconvert_exporter": "python",
   "pygments_lexer": "ipython3",
   "version": "3.9.12"
  }
 },
 "nbformat": 4,
 "nbformat_minor": 5
}
