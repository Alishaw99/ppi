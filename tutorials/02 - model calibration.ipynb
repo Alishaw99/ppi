{
 "cells": [
  {
   "cell_type": "markdown",
   "id": "af4bfe6e",
   "metadata": {},
   "source": [
    "# Model calibration\n",
    "\n",
    "Prepared by Omar A. Guerrero (oguerrero@turing.ac.uk, @guerrero_oa)\n",
    "\n",
    "In this tutorial I will calibrate the free parameters of PPI's model. First, I will load all the data that we have prepared in the previous tutorials. Then, I extract the relevant information and put it in adecquate data structures. Finally, I run the calibration function and save the results with the parameter values."
   ]
  },
  {
   "cell_type": "markdown",
   "id": "0077e294",
   "metadata": {},
   "source": [
    "## Importing Python's libraries to manipulate data"
   ]
  },
  {
   "cell_type": "code",
   "execution_count": 1,
   "id": "fb9d93d1",
   "metadata": {},
   "outputs": [],
   "source": [
    "import pandas as pd\n",
    "import numpy as np"
   ]
  },
  {
   "cell_type": "markdown",
   "id": "5f56449b",
   "metadata": {},
   "source": [
    "## Importing PPI's functions\n",
    "\n",
    "In this example, we will import the PPI source code directly from the repository. This means that we will place a request to GitHub, download the `ppi.py` file, and copy it locally into the folder where these tutorials are saved. Then, we will import ppi."
   ]
  },
  {
   "cell_type": "code",
   "execution_count": 2,
   "id": "88cfa647",
   "metadata": {},
   "outputs": [],
   "source": [
    "import requests\n",
    "url = 'https://raw.githubusercontent.com/oguerrer/ppi/main/source_code/ppi.py'\n",
    "r = requests.get(url)\n",
    "with open('ppi.py', 'w') as f:\n",
    "    f.write(r.text)\n",
    "import ppi"
   ]
  },
  {
   "cell_type": "markdown",
   "id": "4e2963d9",
   "metadata": {},
   "source": [
    "## Load data"
   ]
  },
  {
   "cell_type": "markdown",
   "id": "f642dd32",
   "metadata": {},
   "source": [
    "### Indicators"
   ]
  },
  {
   "cell_type": "code",
   "execution_count": 3,
   "id": "9cd058ab",
   "metadata": {},
   "outputs": [],
   "source": [
    "df_indis = pd.read_csv('https://raw.githubusercontent.com/oguerrer/ppi/main/tutorials/clean_data/data_indicators.csv')\n",
    "\n",
    "N = len(df_indis)\n",
    "I0 = df_indis.I0.values # initial values\n",
    "IF = df_indis.IF.values # final values\n",
    "success_rates = df_indis.successRates.values # success rates\n",
    "R = df_indis.instrumental # instrumental indicators\n",
    "qm = df_indis.qm.values # quality of monitoring\n",
    "rl = df_indis.rl.values # quality of the rule of law\n",
    "indis_index = dict([(code, i) for i, code in enumerate(df_indis.seriesCode)]) # used to build the network matrix"
   ]
  },
  {
   "cell_type": "markdown",
   "id": "49f8cf95",
   "metadata": {},
   "source": [
    "### Interdependency network"
   ]
  },
  {
   "cell_type": "code",
   "execution_count": 4,
   "id": "7911ccda",
   "metadata": {},
   "outputs": [],
   "source": [
    "df_net = pd.read_csv('https://raw.githubusercontent.com/oguerrer/ppi/main/tutorials/clean_data/data_network.csv')\n",
    "\n",
    "A = np.zeros((N, N)) # adjacency matrix\n",
    "for index, row in df_net.iterrows():\n",
    "    i = indis_index[row.origin]\n",
    "    j = indis_index[row.destination]\n",
    "    w = row.weight\n",
    "    A[i,j] = w"
   ]
  },
  {
   "cell_type": "markdown",
   "id": "f69236e0",
   "metadata": {},
   "source": [
    "### Budget"
   ]
  },
  {
   "cell_type": "code",
   "execution_count": 5,
   "id": "2ac0689e",
   "metadata": {},
   "outputs": [],
   "source": [
    "df_exp = pd.read_csv('https://raw.githubusercontent.com/oguerrer/ppi/main/tutorials/clean_data/data_expenditure.csv')\n",
    "\n",
    "Bs = df_exp.values[:,1::] # disbursement schedule (assumes that the expenditure programmes are properly sorted)"
   ]
  },
  {
   "cell_type": "markdown",
   "id": "ed4e8a07",
   "metadata": {},
   "source": [
    "### Budget-indicator mapping"
   ]
  },
  {
   "cell_type": "code",
   "execution_count": 6,
   "id": "007a8c6e",
   "metadata": {},
   "outputs": [],
   "source": [
    "df_rela = pd.read_csv('https://raw.githubusercontent.com/oguerrer/ppi/main/tutorials/clean_data/data_relational_table.csv')\n",
    "\n",
    "B_dict = {}\n",
    "for index, row in df_rela.iterrows():\n",
    "    B_dict[indis_index[row.seriesCode]] = [programme for programme in row.values[1::][row.values[1::].astype(str)!='nan']]"
   ]
  },
  {
   "cell_type": "markdown",
   "id": "f982fe63",
   "metadata": {},
   "source": [
    "## Calibrate\n",
    "\n",
    "Now we run the calibration function."
   ]
  },
  {
   "cell_type": "code",
   "execution_count": 7,
   "id": "e2da7648",
   "metadata": {},
   "outputs": [
    {
     "name": "stdout",
     "output_type": "stream",
     "text": [
      "Iteration: 1 .    Worst goodness of fit: -965997.9999980673\n",
      "Iteration: 2 .    Worst goodness of fit: -269999.99999945983\n",
      "Iteration: 3 .    Worst goodness of fit: -236249.99999952735\n",
      "Iteration: 4 .    Worst goodness of fit: -60187.49999987957\n",
      "Iteration: 5 .    Worst goodness of fit: -16415.96874996715\n",
      "Iteration: 6 .    Worst goodness of fit: -17402.34374996518\n",
      "Iteration: 7 .    Worst goodness of fit: -3227.980468743537\n",
      "Iteration: 8 .    Worst goodness of fit: -8463.867187483065\n",
      "Iteration: 9 .    Worst goodness of fit: -1575.0874023405943\n",
      "Iteration: 10 .    Worst goodness of fit: -3744.9645996018826\n",
      "Iteration: 11 .    Worst goodness of fit: -1000.9830932597118\n",
      "Iteration: 12 .    Worst goodness of fit: -1287.5633239720332\n",
      "Iteration: 13 .    Worst goodness of fit: -631.3532333361351\n",
      "Iteration: 14 .    Worst goodness of fit: -482.8362464895126\n",
      "Iteration: 15 .    Worst goodness of fit: -206.56857299762953\n",
      "Iteration: 16 .    Worst goodness of fit: -183.80105495416106\n",
      "Iteration: 17 .    Worst goodness of fit: -65.36113131032818\n",
      "Iteration: 18 .    Worst goodness of fit: -65.84575027214227\n",
      "Iteration: 19 .    Worst goodness of fit: -24.616934686845934\n",
      "Iteration: 20 .    Worst goodness of fit: -18.532865680717105\n",
      "Iteration: 21 .    Worst goodness of fit: -1.0491334480426513\n",
      "Iteration: 22 .    Worst goodness of fit: -9.83699213245778\n",
      "Iteration: 23 .    Worst goodness of fit: -0.08199611964791464\n",
      "Iteration: 24 .    Worst goodness of fit: -3.3099313150093765\n",
      "Iteration: 25 .    Worst goodness of fit: -0.10369203778191705\n",
      "Iteration: 26 .    Worst goodness of fit: 0.20868866178239887\n",
      "Iteration: 27 .    Worst goodness of fit: -0.21644321391054477\n",
      "Iteration: 28 .    Worst goodness of fit: 0.2427569509713049\n",
      "Iteration: 29 .    Worst goodness of fit: 0.15134695975869505\n",
      "Iteration: 30 .    Worst goodness of fit: 0.1447000693806887\n",
      "Iteration: 31 .    Worst goodness of fit: -0.057718204283780716\n",
      "Iteration: 32 .    Worst goodness of fit: -0.18122497936759574\n",
      "Iteration: 33 .    Worst goodness of fit: 0.14838045868323924\n",
      "Iteration: 34 .    Worst goodness of fit: 0.31580512676301875\n",
      "Iteration: 35 .    Worst goodness of fit: 0.22931719184240695\n",
      "Iteration: 36 .    Worst goodness of fit: -1.0725468183074258\n",
      "Iteration: 37 .    Worst goodness of fit: 0.41910651149362443\n",
      "Iteration: 38 .    Worst goodness of fit: 0.2745139689625201\n",
      "Iteration: 39 .    Worst goodness of fit: 0.014361261715609253\n",
      "Iteration: 40 .    Worst goodness of fit: 0.31928332036126283\n",
      "Iteration: 41 .    Worst goodness of fit: 0.14910059694769418\n",
      "Iteration: 42 .    Worst goodness of fit: 0.1789136990723148\n",
      "Iteration: 43 .    Worst goodness of fit: 0.3107520175811306\n",
      "Iteration: 44 .    Worst goodness of fit: 0.383743523466061\n",
      "Iteration: 45 .    Worst goodness of fit: 0.24575139026133042\n",
      "Iteration: 46 .    Worst goodness of fit: -0.09409924825531757\n",
      "Iteration: 47 .    Worst goodness of fit: 0.21212248197823258\n",
      "Iteration: 48 .    Worst goodness of fit: 0.11655834173640045\n",
      "Iteration: 49 .    Worst goodness of fit: 0.3147085216679215\n",
      "Iteration: 50 .    Worst goodness of fit: 0.32486108718149964\n",
      "Iteration: 51 .    Worst goodness of fit: 0.3961126977343945\n",
      "Iteration: 52 .    Worst goodness of fit: 0.49418793546925754\n",
      "Iteration: 53 .    Worst goodness of fit: 0.5997287088633934\n",
      "Iteration: 54 .    Worst goodness of fit: 0.8395724670599318\n"
     ]
    }
   ],
   "source": [
    "T = Bs.shape[1]\n",
    "parallel_processes = 4 # number of cores to use\n",
    "threshold = 0.6 # the quality of the calibration (maximum is near to 1, but cannot be exactly 1)\n",
    "low_precision_counts = 50 # number of low-quality evaluations to accelerate the calibration\n",
    "\n",
    "parameters = ppi.calibrate(I0, IF, success_rates, A=A, R=R, qm=qm, rl=rl, Bs=Bs, B_dict=B_dict,\n",
    "              T=T, threshold=threshold, parallel_processes=parallel_processes, verbose=True,\n",
    "             low_precision_counts=low_precision_counts)"
   ]
  },
  {
   "cell_type": "markdown",
   "id": "2800fa41",
   "metadata": {},
   "source": [
    "## Calibration outputs\n",
    "\n",
    "The output of the calibration function is a matrix with the following columns:\n",
    "\n",
    "* <strong>alpha</strong>: the parametes related to structural constraints\n",
    "* <strong>alpha_prime</strong>: the parametes related to structural costs\n",
    "* <strong>beta</strong>: the parametes related to the probability of success\n",
    "* <strong>T</strong>: the number of simulation periods\n",
    "* <strong>error_alpha</strong>: the errors associated to the parameters $\\alpha$ and $\\alpha'$\n",
    "* <strong>error_beta</strong>: the errors associated to the parameters $\\beta$\n",
    "* <strong>GoF_alpha</strong>: the goodness-of-fit associated to the parameters $\\alpha$ and $\\alpha'$\n",
    "* <strong>GoF_beta</strong>: the goodness-of-fit associated to the parameters $\\beta$\n",
    "\n",
    "The top row of this matrix contains the column names, so we just need to transform these data into a DataFrame to export it."
   ]
  },
  {
   "cell_type": "code",
   "execution_count": 8,
   "id": "9b3d411b",
   "metadata": {},
   "outputs": [],
   "source": [
    "df_params = pd.DataFrame(parameters[1::], columns=parameters[0])"
   ]
  },
  {
   "cell_type": "code",
   "execution_count": 9,
   "id": "07ce5110",
   "metadata": {},
   "outputs": [
    {
     "data": {
      "text/html": [
       "<div>\n",
       "<style scoped>\n",
       "    .dataframe tbody tr th:only-of-type {\n",
       "        vertical-align: middle;\n",
       "    }\n",
       "\n",
       "    .dataframe tbody tr th {\n",
       "        vertical-align: top;\n",
       "    }\n",
       "\n",
       "    .dataframe thead th {\n",
       "        text-align: right;\n",
       "    }\n",
       "</style>\n",
       "<table border=\"1\" class=\"dataframe\">\n",
       "  <thead>\n",
       "    <tr style=\"text-align: right;\">\n",
       "      <th></th>\n",
       "      <th>alpha</th>\n",
       "      <th>alpha_prime</th>\n",
       "      <th>beta</th>\n",
       "      <th>T</th>\n",
       "      <th>error_alpha</th>\n",
       "      <th>error_beta</th>\n",
       "      <th>GoF_alpha</th>\n",
       "      <th>GoF_beta</th>\n",
       "    </tr>\n",
       "  </thead>\n",
       "  <tbody>\n",
       "    <tr>\n",
       "      <th>0</th>\n",
       "      <td>0.0006927081130471711</td>\n",
       "      <td>0.00018191353363091413</td>\n",
       "      <td>4.143207584946271</td>\n",
       "      <td>69</td>\n",
       "      <td>-0.0002241874167605573</td>\n",
       "      <td>0.0007829769440198531</td>\n",
       "      <td>0.9940745469451424</td>\n",
       "      <td>0.9991387253615782</td>\n",
       "    </tr>\n",
       "    <tr>\n",
       "      <th>1</th>\n",
       "      <td>0.014563867786969744</td>\n",
       "      <td>0.006657225500956942</td>\n",
       "      <td>0.025122096282494927</td>\n",
       "      <td>nan</td>\n",
       "      <td>0.006532238588222106</td>\n",
       "      <td>0.0008031937510539836</td>\n",
       "      <td>0.9829458960908758</td>\n",
       "      <td>0.9839361249789204</td>\n",
       "    </tr>\n",
       "    <tr>\n",
       "      <th>2</th>\n",
       "      <td>5.252598760706702e-06</td>\n",
       "      <td>5.234211704712402e-06</td>\n",
       "      <td>0.00590958996842958</td>\n",
       "      <td>nan</td>\n",
       "      <td>2.4599076484834192e-06</td>\n",
       "      <td>0.000773366185148304</td>\n",
       "      <td>0.9923658038495332</td>\n",
       "      <td>0.9845326762970339</td>\n",
       "    </tr>\n",
       "    <tr>\n",
       "      <th>3</th>\n",
       "      <td>3.534082102685635e-09</td>\n",
       "      <td>0.00048082418259542264</td>\n",
       "      <td>0.04791433060344491</td>\n",
       "      <td>nan</td>\n",
       "      <td>-0.00029976490707564387</td>\n",
       "      <td>-0.0017937274235654277</td>\n",
       "      <td>0.9750425088833811</td>\n",
       "      <td>0.9973691997787707</td>\n",
       "    </tr>\n",
       "    <tr>\n",
       "      <th>4</th>\n",
       "      <td>1.3144887390311789e-06</td>\n",
       "      <td>0.0029487564461750265</td>\n",
       "      <td>0.0537795670835138</td>\n",
       "      <td>nan</td>\n",
       "      <td>0.0007503636519112789</td>\n",
       "      <td>-0.0026160655667832877</td>\n",
       "      <td>0.9921487752796768</td>\n",
       "      <td>0.9952038797942306</td>\n",
       "    </tr>\n",
       "    <tr>\n",
       "      <th>...</th>\n",
       "      <td>...</td>\n",
       "      <td>...</td>\n",
       "      <td>...</td>\n",
       "      <td>...</td>\n",
       "      <td>...</td>\n",
       "      <td>...</td>\n",
       "      <td>...</td>\n",
       "      <td>...</td>\n",
       "    </tr>\n",
       "    <tr>\n",
       "      <th>67</th>\n",
       "      <td>3.4132496452318075e-05</td>\n",
       "      <td>9.986712977963036e-05</td>\n",
       "      <td>0.06579449401214994</td>\n",
       "      <td>nan</td>\n",
       "      <td>-8.253528285018241e-05</td>\n",
       "      <td>-0.002374972261336039</td>\n",
       "      <td>0.9838166112058465</td>\n",
       "      <td>0.9869376525626518</td>\n",
       "    </tr>\n",
       "    <tr>\n",
       "      <th>68</th>\n",
       "      <td>0.001713093889404322</td>\n",
       "      <td>4.7474336656132376e-06</td>\n",
       "      <td>0.07658674790463728</td>\n",
       "      <td>nan</td>\n",
       "      <td>0.0005537636003064561</td>\n",
       "      <td>0.001632970514790305</td>\n",
       "      <td>0.9788266858706355</td>\n",
       "      <td>0.9928149297349227</td>\n",
       "    </tr>\n",
       "    <tr>\n",
       "      <th>69</th>\n",
       "      <td>0.0013096639444771482</td>\n",
       "      <td>3.7772276695202344e-05</td>\n",
       "      <td>0.10387403564512203</td>\n",
       "      <td>nan</td>\n",
       "      <td>-6.598234502580569e-05</td>\n",
       "      <td>0.007439652357244975</td>\n",
       "      <td>0.9988929136740636</td>\n",
       "      <td>0.9897704780087881</td>\n",
       "    </tr>\n",
       "    <tr>\n",
       "      <th>70</th>\n",
       "      <td>0.007740722068310642</td>\n",
       "      <td>6.996563442378672e-05</td>\n",
       "      <td>0.06606339267755316</td>\n",
       "      <td>nan</td>\n",
       "      <td>0.004641927480750652</td>\n",
       "      <td>6.122691706544892e-05</td>\n",
       "      <td>0.9844768894858411</td>\n",
       "      <td>0.9998963852172739</td>\n",
       "    </tr>\n",
       "    <tr>\n",
       "      <th>71</th>\n",
       "      <td>5.412832137200854e-11</td>\n",
       "      <td>0.004060515307886026</td>\n",
       "      <td>0.09577286234139233</td>\n",
       "      <td>nan</td>\n",
       "      <td>-0.0011891875384072437</td>\n",
       "      <td>-0.005733057608014458</td>\n",
       "      <td>0.9834497930264346</td>\n",
       "      <td>0.9933617227696675</td>\n",
       "    </tr>\n",
       "  </tbody>\n",
       "</table>\n",
       "<p>72 rows × 8 columns</p>\n",
       "</div>"
      ],
      "text/plain": [
       "                     alpha             alpha_prime                  beta    T  \\\n",
       "0    0.0006927081130471711  0.00018191353363091413     4.143207584946271   69   \n",
       "1     0.014563867786969744    0.006657225500956942  0.025122096282494927  nan   \n",
       "2    5.252598760706702e-06   5.234211704712402e-06   0.00590958996842958  nan   \n",
       "3    3.534082102685635e-09  0.00048082418259542264   0.04791433060344491  nan   \n",
       "4   1.3144887390311789e-06   0.0029487564461750265    0.0537795670835138  nan   \n",
       "..                     ...                     ...                   ...  ...   \n",
       "67  3.4132496452318075e-05   9.986712977963036e-05   0.06579449401214994  nan   \n",
       "68    0.001713093889404322  4.7474336656132376e-06   0.07658674790463728  nan   \n",
       "69   0.0013096639444771482  3.7772276695202344e-05   0.10387403564512203  nan   \n",
       "70    0.007740722068310642   6.996563442378672e-05   0.06606339267755316  nan   \n",
       "71   5.412832137200854e-11    0.004060515307886026   0.09577286234139233  nan   \n",
       "\n",
       "                error_alpha              error_beta           GoF_alpha  \\\n",
       "0    -0.0002241874167605573   0.0007829769440198531  0.9940745469451424   \n",
       "1      0.006532238588222106   0.0008031937510539836  0.9829458960908758   \n",
       "2    2.4599076484834192e-06    0.000773366185148304  0.9923658038495332   \n",
       "3   -0.00029976490707564387  -0.0017937274235654277  0.9750425088833811   \n",
       "4     0.0007503636519112789  -0.0026160655667832877  0.9921487752796768   \n",
       "..                      ...                     ...                 ...   \n",
       "67   -8.253528285018241e-05   -0.002374972261336039  0.9838166112058465   \n",
       "68    0.0005537636003064561    0.001632970514790305  0.9788266858706355   \n",
       "69   -6.598234502580569e-05    0.007439652357244975  0.9988929136740636   \n",
       "70     0.004641927480750652   6.122691706544892e-05  0.9844768894858411   \n",
       "71   -0.0011891875384072437   -0.005733057608014458  0.9834497930264346   \n",
       "\n",
       "              GoF_beta  \n",
       "0   0.9991387253615782  \n",
       "1   0.9839361249789204  \n",
       "2   0.9845326762970339  \n",
       "3   0.9973691997787707  \n",
       "4   0.9952038797942306  \n",
       "..                 ...  \n",
       "67  0.9869376525626518  \n",
       "68  0.9928149297349227  \n",
       "69  0.9897704780087881  \n",
       "70  0.9998963852172739  \n",
       "71  0.9933617227696675  \n",
       "\n",
       "[72 rows x 8 columns]"
      ]
     },
     "execution_count": 9,
     "metadata": {},
     "output_type": "execute_result"
    }
   ],
   "source": [
    "df_params"
   ]
  },
  {
   "cell_type": "markdown",
   "id": "eab2dfd0",
   "metadata": {},
   "source": [
    "## Save parameters data"
   ]
  },
  {
   "cell_type": "code",
   "execution_count": 10,
   "id": "c160bebd",
   "metadata": {},
   "outputs": [],
   "source": [
    "df_params.to_csv('clean_data/parameters.csv', index=False)"
   ]
  },
  {
   "cell_type": "code",
   "execution_count": null,
   "id": "66046ebc",
   "metadata": {},
   "outputs": [],
   "source": []
  }
 ],
 "metadata": {
  "kernelspec": {
   "display_name": "Python 3 (ipykernel)",
   "language": "python",
   "name": "python3"
  },
  "language_info": {
   "codemirror_mode": {
    "name": "ipython",
    "version": 3
   },
   "file_extension": ".py",
   "mimetype": "text/x-python",
   "name": "python",
   "nbconvert_exporter": "python",
   "pygments_lexer": "ipython3",
   "version": "3.9.12"
  }
 },
 "nbformat": 4,
 "nbformat_minor": 5
}
