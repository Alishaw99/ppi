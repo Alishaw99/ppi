{
 "cells": [
  {
   "cell_type": "markdown",
   "id": "af4bfe6e",
   "metadata": {},
   "source": [
    "# Model calibration\n",
    "\n",
    "Prepared by Omar A. Guerrero (oguerrero@turing.ac.uk, @guerrero_oa)\n",
    "\n",
    "In this tutorial, we will calibrate the free parameters of PPI's model. First, we will load all the data that we have prepared in the previous tutorials. Then, we extract the relevant information and put it in adecquate data structures. Finally, we run the calibration function and save the results with the parameter values."
   ]
  },
  {
   "cell_type": "markdown",
   "id": "0077e294",
   "metadata": {},
   "source": [
    "## Importing Python's libraries to manipulate and visualise data"
   ]
  },
  {
   "cell_type": "code",
   "execution_count": 1,
   "id": "fb9d93d1",
   "metadata": {},
   "outputs": [],
   "source": [
    "import pandas as pd\n",
    "import numpy as np"
   ]
  },
  {
   "cell_type": "markdown",
   "id": "5f56449b",
   "metadata": {},
   "source": [
    "## Importing PPI's functions\n",
    "\n",
    "In this example, we will import the PPI source code directly from the repository. This means that we will place a request to GitHub, download the `ppi.py` file, and copy it locally into the folder where these tutorials are saved. Then, we will import ppi."
   ]
  },
  {
   "cell_type": "code",
   "execution_count": 2,
   "id": "88cfa647",
   "metadata": {},
   "outputs": [],
   "source": [
    "import requests\n",
    "url = 'https://raw.githubusercontent.com/oguerrer/ppi/main/source_code/ppi.py'\n",
    "r = requests.get(url)\n",
    "with open('ppi.py', 'w') as f:\n",
    "    f.write(r.text)\n",
    "import ppi"
   ]
  },
  {
   "cell_type": "markdown",
   "id": "4e2963d9",
   "metadata": {},
   "source": [
    "## Load data"
   ]
  },
  {
   "cell_type": "markdown",
   "id": "f642dd32",
   "metadata": {},
   "source": [
    "### Indicators"
   ]
  },
  {
   "cell_type": "code",
   "execution_count": 3,
   "id": "be65dea6",
   "metadata": {},
   "outputs": [],
   "source": [
    "df_indis = pd.read_csv('https://raw.githubusercontent.com/oguerrer/ppi/main/tutorials/clean_data/data_indicators.csv')\n",
    "\n",
    "N = len(df_indis)\n",
    "I0 = df_indis.I0.values\n",
    "IF = df_indis.IF.values\n",
    "successRates = df_indis.successRates.values\n",
    "indis_index = dict([(code, i) for i, code in enumerate(df_indis.seriesCode)])\n",
    "index_indis = dict([(i, code) for i, code in enumerate(df_indis.seriesCode)])"
   ]
  },
  {
   "cell_type": "markdown",
   "id": "49f8cf95",
   "metadata": {},
   "source": [
    "### Interdependency network"
   ]
  },
  {
   "cell_type": "code",
   "execution_count": 4,
   "id": "3a26d574",
   "metadata": {},
   "outputs": [
    {
     "data": {
      "text/html": [
       "<div>\n",
       "<style scoped>\n",
       "    .dataframe tbody tr th:only-of-type {\n",
       "        vertical-align: middle;\n",
       "    }\n",
       "\n",
       "    .dataframe tbody tr th {\n",
       "        vertical-align: top;\n",
       "    }\n",
       "\n",
       "    .dataframe thead th {\n",
       "        text-align: right;\n",
       "    }\n",
       "</style>\n",
       "<table border=\"1\" class=\"dataframe\">\n",
       "  <thead>\n",
       "    <tr style=\"text-align: right;\">\n",
       "      <th></th>\n",
       "      <th>origin</th>\n",
       "      <th>destination</th>\n",
       "    </tr>\n",
       "  </thead>\n",
       "  <tbody>\n",
       "    <tr>\n",
       "      <th>0</th>\n",
       "      <td>sdg5_familypl</td>\n",
       "      <td>sdg2_obesity</td>\n",
       "    </tr>\n",
       "    <tr>\n",
       "      <th>1</th>\n",
       "      <td>sdg5_familypl</td>\n",
       "      <td>sdg2_snmi</td>\n",
       "    </tr>\n",
       "    <tr>\n",
       "      <th>2</th>\n",
       "      <td>sdg5_familypl</td>\n",
       "      <td>sdg3_hiv</td>\n",
       "    </tr>\n",
       "    <tr>\n",
       "      <th>3</th>\n",
       "      <td>sdg5_familypl</td>\n",
       "      <td>sdg7_cleanfuel</td>\n",
       "    </tr>\n",
       "    <tr>\n",
       "      <th>4</th>\n",
       "      <td>sdg5_familypl</td>\n",
       "      <td>sdg15_cpfa</td>\n",
       "    </tr>\n",
       "    <tr>\n",
       "      <th>...</th>\n",
       "      <td>...</td>\n",
       "      <td>...</td>\n",
       "    </tr>\n",
       "    <tr>\n",
       "      <th>210</th>\n",
       "      <td>sdg17_govrev</td>\n",
       "      <td>sdg14_cleanwat</td>\n",
       "    </tr>\n",
       "    <tr>\n",
       "      <th>211</th>\n",
       "      <td>sdg17_statperf</td>\n",
       "      <td>sdg3_fertility</td>\n",
       "    </tr>\n",
       "    <tr>\n",
       "      <th>212</th>\n",
       "      <td>sdg17_statperf</td>\n",
       "      <td>sdg9_intuse</td>\n",
       "    </tr>\n",
       "    <tr>\n",
       "      <th>213</th>\n",
       "      <td>sdg17_statperf</td>\n",
       "      <td>sdg11_transport</td>\n",
       "    </tr>\n",
       "    <tr>\n",
       "      <th>214</th>\n",
       "      <td>sdg17_statperf</td>\n",
       "      <td>sdg14_trawl</td>\n",
       "    </tr>\n",
       "  </tbody>\n",
       "</table>\n",
       "<p>215 rows × 2 columns</p>\n",
       "</div>"
      ],
      "text/plain": [
       "             origin      destination\n",
       "0     sdg5_familypl     sdg2_obesity\n",
       "1     sdg5_familypl        sdg2_snmi\n",
       "2     sdg5_familypl         sdg3_hiv\n",
       "3     sdg5_familypl   sdg7_cleanfuel\n",
       "4     sdg5_familypl       sdg15_cpfa\n",
       "..              ...              ...\n",
       "210    sdg17_govrev   sdg14_cleanwat\n",
       "211  sdg17_statperf   sdg3_fertility\n",
       "212  sdg17_statperf      sdg9_intuse\n",
       "213  sdg17_statperf  sdg11_transport\n",
       "214  sdg17_statperf      sdg14_trawl\n",
       "\n",
       "[215 rows x 2 columns]"
      ]
     },
     "execution_count": 4,
     "metadata": {},
     "output_type": "execute_result"
    }
   ],
   "source": [
    "df_net = pd.read_csv('https://raw.githubusercontent.com/oguerrer/ppi/main/tutorials/clean_data/data_network.csv')\n",
    "\n",
    "A = np.zeros((N, N))\n",
    "df_net\n",
    "    "
   ]
  },
  {
   "cell_type": "markdown",
   "id": "f69236e0",
   "metadata": {},
   "source": [
    "### Budget"
   ]
  },
  {
   "cell_type": "code",
   "execution_count": 5,
   "id": "d26a2e4b",
   "metadata": {},
   "outputs": [],
   "source": [
    "df_exp = pd.read_csv('https://raw.githubusercontent.com/oguerrer/ppi/main/tutorials/clean_data/data_expenditure.csv')\n"
   ]
  },
  {
   "cell_type": "markdown",
   "id": "ed4e8a07",
   "metadata": {},
   "source": [
    "### Budget-indicator mapping"
   ]
  },
  {
   "cell_type": "code",
   "execution_count": null,
   "id": "007a8c6e",
   "metadata": {},
   "outputs": [],
   "source": [
    "df_rela = pd.read_csv('https://raw.githubusercontent.com/oguerrer/ppi/main/tutorials/clean_data/data_relational_table.csv')\n"
   ]
  }
 ],
 "metadata": {
  "kernelspec": {
   "display_name": "Python 3 (ipykernel)",
   "language": "python",
   "name": "python3"
  },
  "language_info": {
   "codemirror_mode": {
    "name": "ipython",
    "version": 3
   },
   "file_extension": ".py",
   "mimetype": "text/x-python",
   "name": "python",
   "nbconvert_exporter": "python",
   "pygments_lexer": "ipython3",
   "version": "3.9.12"
  }
 },
 "nbformat": 4,
 "nbformat_minor": 5
}
