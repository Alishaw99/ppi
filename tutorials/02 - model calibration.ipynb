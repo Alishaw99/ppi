{
 "cells": [
  {
   "cell_type": "markdown",
   "id": "af4bfe6e",
   "metadata": {},
   "source": [
    "# Model calibration\n",
    "\n",
    "Prepared by Omar A. Guerrero (oguerrero@turing.ac.uk, @guerrero_oa)\n",
    "\n",
    "In this tutorial I will calibrate the free parameters of PPI's model. First, I will load all the data that we have prepared in the previous tutorials. Then, I extract the relevant information and put it in adecquate data structures. Finally, I run the calibration function and save the results with the parameter values."
   ]
  },
  {
   "cell_type": "markdown",
   "id": "0077e294",
   "metadata": {},
   "source": [
    "## Importing Python's libraries to manipulate data"
   ]
  },
  {
   "cell_type": "code",
   "execution_count": 1,
   "id": "fb9d93d1",
   "metadata": {},
   "outputs": [],
   "source": [
    "import pandas as pd\n",
    "import numpy as np"
   ]
  },
  {
   "cell_type": "markdown",
   "id": "5f56449b",
   "metadata": {},
   "source": [
    "## Importing PPI's functions\n",
    "\n",
    "In this example, we will import the PPI source code directly from the repository. This means that we will place a request to GitHub, download the `ppi.py` file, and copy it locally into the folder where these tutorials are saved. Then, we will import ppi."
   ]
  },
  {
   "cell_type": "code",
   "execution_count": 2,
   "id": "88cfa647",
   "metadata": {},
   "outputs": [],
   "source": [
    "import requests\n",
    "url = 'https://raw.githubusercontent.com/oguerrer/ppi/main/source_code/ppi.py'\n",
    "r = requests.get(url)\n",
    "with open('ppi.py', 'w') as f:\n",
    "    f.write(r.text)\n",
    "import ppi"
   ]
  },
  {
   "cell_type": "markdown",
   "id": "4e2963d9",
   "metadata": {},
   "source": [
    "## Load data"
   ]
  },
  {
   "cell_type": "markdown",
   "id": "f642dd32",
   "metadata": {},
   "source": [
    "### Indicators"
   ]
  },
  {
   "cell_type": "code",
   "execution_count": 3,
   "id": "051cd94a",
   "metadata": {},
   "outputs": [],
   "source": [
    "df_indis = pd.read_csv('https://raw.githubusercontent.com/oguerrer/ppi/main/tutorials/clean_data/data_indicators.csv')\n",
    "\n",
    "N = len(df_indis)\n",
    "I0 = df_indis.I0.values # initial values\n",
    "IF = df_indis.IF.values # final values\n",
    "success_rates = df_indis.successRates.values # success rates\n",
    "R = df_indis.instrumental # instrumental indicators\n",
    "qm = df_indis.qm.values # quality of monitoring\n",
    "rl = df_indis.rl.values # quality of the rule of law\n",
    "indis_index = dict([(code, i) for i, code in enumerate(df_indis.seriesCode)]) # used to build the network matrix"
   ]
  },
  {
   "cell_type": "markdown",
   "id": "49f8cf95",
   "metadata": {},
   "source": [
    "### Interdependency network"
   ]
  },
  {
   "cell_type": "code",
   "execution_count": 4,
   "id": "3c03630d",
   "metadata": {},
   "outputs": [],
   "source": [
    "df_net = pd.read_csv('https://raw.githubusercontent.com/oguerrer/ppi/main/tutorials/clean_data/data_network.csv')\n",
    "\n",
    "A = np.zeros((N, N)) # adjacency matrix\n",
    "for index, row in df_net.iterrows():\n",
    "    i = indis_index[row.origin]\n",
    "    j = indis_index[row.destination]\n",
    "    w = row.weight\n",
    "    A[i,j] = w"
   ]
  },
  {
   "cell_type": "markdown",
   "id": "f69236e0",
   "metadata": {},
   "source": [
    "### Budget"
   ]
  },
  {
   "cell_type": "code",
   "execution_count": 5,
   "id": "eb591c9c",
   "metadata": {},
   "outputs": [],
   "source": [
    "df_exp = pd.read_csv('https://raw.githubusercontent.com/oguerrer/ppi/main/tutorials/clean_data/data_expenditure.csv')\n",
    "\n",
    "Bs = df_exp.values[:,1::] # disbursement schedule (assumes that the expenditure programmes are properly sorted)"
   ]
  },
  {
   "cell_type": "markdown",
   "id": "ed4e8a07",
   "metadata": {},
   "source": [
    "### Budget-indicator mapping"
   ]
  },
  {
   "cell_type": "code",
   "execution_count": 6,
   "id": "007a8c6e",
   "metadata": {},
   "outputs": [],
   "source": [
    "df_rela = pd.read_csv('https://raw.githubusercontent.com/oguerrer/ppi/main/tutorials/clean_data/data_relational_table.csv')\n",
    "\n",
    "B_dict = {}\n",
    "for index, row in df_rela.iterrows():\n",
    "    B_dict[indis_index[row.seriesCode]] = [programme for programme in row.values[1::][row.values[1::].astype(str)!='nan']]"
   ]
  },
  {
   "cell_type": "markdown",
   "id": "62565f1f",
   "metadata": {},
   "source": [
    "## Calibrate\n",
    "\n",
    "Now we run the calibration function."
   ]
  },
  {
   "cell_type": "code",
   "execution_count": 13,
   "id": "5a6b4f1f",
   "metadata": {},
   "outputs": [
    {
     "name": "stdout",
     "output_type": "stream",
     "text": [
      "Iteration: 1 .    Worst goodness of fit: -1019997.9999979594\n",
      "Iteration: 2 .    Worst goodness of fit: -545624.9999989084\n",
      "Iteration: 3 .    Worst goodness of fit: -275624.99999944854\n",
      "Iteration: 4 .    Worst goodness of fit: -68062.49999986381\n",
      "Iteration: 5 .    Worst goodness of fit: -30724.56249993852\n",
      "Iteration: 6 .    Worst goodness of fit: -25523.43749994893\n",
      "Iteration: 7 .    Worst goodness of fit: -10544.874999978898\n",
      "Iteration: 8 .    Worst goodness of fit: -9294.433593731403\n",
      "Iteration: 9 .    Worst goodness of fit: -2306.77685546413\n",
      "Iteration: 10 .    Worst goodness of fit: -3225.860595696671\n",
      "Iteration: 11 .    Worst goodness of fit: -863.7913207990488\n",
      "Iteration: 12 .    Worst goodness of fit: -1326.496124264924\n",
      "Iteration: 13 .    Worst goodness of fit: -502.73594665426344\n",
      "Iteration: 14 .    Worst goodness of fit: -541.2354469288488\n",
      "Iteration: 15 .    Worst goodness of fit: -216.2148694987699\n",
      "Iteration: 16 .    Worst goodness of fit: -156.42642974822218\n",
      "Iteration: 17 .    Worst goodness of fit: -83.44793724996636\n",
      "Iteration: 18 .    Worst goodness of fit: -68.92539560781039\n",
      "Iteration: 19 .    Worst goodness of fit: -28.686466023264522\n",
      "Iteration: 20 .    Worst goodness of fit: -23.15233368421929\n",
      "Iteration: 21 .    Worst goodness of fit: -11.03349900988117\n",
      "Iteration: 22 .    Worst goodness of fit: -10.558784008004997\n",
      "Iteration: 23 .    Worst goodness of fit: -2.8875621287054405\n",
      "Iteration: 24 .    Worst goodness of fit: -4.121947174999995\n",
      "Iteration: 25 .    Worst goodness of fit: 0.35308066214373346\n",
      "Iteration: 26 .    Worst goodness of fit: -0.4297381912196043\n",
      "Iteration: 27 .    Worst goodness of fit: -0.6871634611613675\n",
      "Iteration: 28 .    Worst goodness of fit: 0.10582554037597747\n",
      "Iteration: 29 .    Worst goodness of fit: 0.014767296773830929\n",
      "Iteration: 30 .    Worst goodness of fit: 0.20074424339155084\n",
      "Iteration: 31 .    Worst goodness of fit: -0.3425192506515058\n",
      "Iteration: 32 .    Worst goodness of fit: 0.27499276343534995\n",
      "Iteration: 33 .    Worst goodness of fit: 0.06914037238066084\n",
      "Iteration: 34 .    Worst goodness of fit: 0.4597034171913378\n",
      "Iteration: 35 .    Worst goodness of fit: -0.6550010602257705\n",
      "Iteration: 36 .    Worst goodness of fit: -0.04313614241285135\n",
      "Iteration: 37 .    Worst goodness of fit: 0.263021845423012\n",
      "Iteration: 38 .    Worst goodness of fit: -0.9122014657813229\n",
      "Iteration: 39 .    Worst goodness of fit: 0.2449519763301793\n",
      "Iteration: 40 .    Worst goodness of fit: 0.29575859074219024\n",
      "Iteration: 41 .    Worst goodness of fit: 0.20090306669495994\n",
      "Iteration: 42 .    Worst goodness of fit: -0.002042722494643323\n",
      "Iteration: 43 .    Worst goodness of fit: -0.033274815805041325\n",
      "Iteration: 44 .    Worst goodness of fit: 0.027466102543825976\n",
      "Iteration: 45 .    Worst goodness of fit: 0.0641006159909181\n",
      "Iteration: 46 .    Worst goodness of fit: 0.08128762797406619\n",
      "Iteration: 47 .    Worst goodness of fit: 0.17014915905509387\n",
      "Iteration: 48 .    Worst goodness of fit: 0.1669013969658366\n",
      "Iteration: 49 .    Worst goodness of fit: 0.10530756999351809\n",
      "Iteration: 50 .    Worst goodness of fit: 0.13867330488583396\n",
      "Iteration: 51 .    Worst goodness of fit: 0.37980230434671225\n",
      "Iteration: 52 .    Worst goodness of fit: 0.6587872621125505\n"
     ]
    }
   ],
   "source": [
    "T = Bs.shape[1]\n",
    "parallel_processes = 4 # number of cores to use\n",
    "threshold = 0.6 # the quality of the calibration (maximum is near to 1, but cannot be exactly 1)\n",
    "low_precision_counts = 50 # number of low-quality evaluations to accelerate the calibration\n",
    "\n",
    "parameters = ppi.calibrate(I0, IF, success_rates, A=A, R=R, qm=qm, rl=rl,  Bs=Bs, B_dict=B_dict,\n",
    "              T=T, threshold=threshold, parallel_processes=parallel_processes, verbose=True,\n",
    "             low_precision_counts=low_precision_counts)"
   ]
  },
  {
   "cell_type": "markdown",
   "id": "357497f7",
   "metadata": {},
   "source": [
    "## Calibration outputs\n",
    "\n",
    "The output of the calibration function is a matrix with the following columns:\n",
    "\n",
    "* <strong>alpha</strong>: the parametes related to structural constraints\n",
    "* <strong>alpha_prime</strong>: the parametes related to structural costs\n",
    "* <strong>beta</strong>: the parametes related to the probability of success\n",
    "* <strong>T</strong>: the number of simulation periods\n",
    "* <strong>error_alpha</strong>: the errors associated to the parameters $\\alpha$ and $\\alpha'$\n",
    "* <strong>error_beta</strong>: the errors associated to the parameters $\\beta$\n",
    "* <strong>GoF_alpha</strong>: the goodness-of-fit associated to the parameters $\\alpha$ and $\\alpha'$\n",
    "* <strong>GoF_beta</strong>: the goodness-of-fit associated to the parameters $\\beta$\n",
    "\n",
    "The top row of this matrix contains the column names, so we just need to transform these data into a DataFrame to export it."
   ]
  },
  {
   "cell_type": "code",
   "execution_count": 20,
   "id": "e4f7fd51",
   "metadata": {},
   "outputs": [],
   "source": [
    "df_params = pd.DataFrame(parameters[1::], columns=parameters[0])"
   ]
  },
  {
   "cell_type": "code",
   "execution_count": 21,
   "id": "46ced7cd",
   "metadata": {},
   "outputs": [
    {
     "data": {
      "text/html": [
       "<div>\n",
       "<style scoped>\n",
       "    .dataframe tbody tr th:only-of-type {\n",
       "        vertical-align: middle;\n",
       "    }\n",
       "\n",
       "    .dataframe tbody tr th {\n",
       "        vertical-align: top;\n",
       "    }\n",
       "\n",
       "    .dataframe thead th {\n",
       "        text-align: right;\n",
       "    }\n",
       "</style>\n",
       "<table border=\"1\" class=\"dataframe\">\n",
       "  <thead>\n",
       "    <tr style=\"text-align: right;\">\n",
       "      <th></th>\n",
       "      <th>alpha</th>\n",
       "      <th>alpha_prime</th>\n",
       "      <th>beta</th>\n",
       "      <th>T</th>\n",
       "      <th>error_alpha</th>\n",
       "      <th>error_beta</th>\n",
       "      <th>GoF_alpha</th>\n",
       "      <th>GoF_beta</th>\n",
       "    </tr>\n",
       "  </thead>\n",
       "  <tbody>\n",
       "    <tr>\n",
       "      <th>0</th>\n",
       "      <td>0.0007026226058790586</td>\n",
       "      <td>8.861145096001833e-05</td>\n",
       "      <td>4.134876768431874</td>\n",
       "      <td>69</td>\n",
       "      <td>0.0042895201770180025</td>\n",
       "      <td>0.05210047645482996</td>\n",
       "      <td>0.886624544748952</td>\n",
       "      <td>0.9426894758996871</td>\n",
       "    </tr>\n",
       "    <tr>\n",
       "      <th>1</th>\n",
       "      <td>0.016291730092297226</td>\n",
       "      <td>0.006356722788614017</td>\n",
       "      <td>0.024479285618837592</td>\n",
       "      <td>nan</td>\n",
       "      <td>0.04857246690193226</td>\n",
       "      <td>0.007472748402465444</td>\n",
       "      <td>0.8731889709047655</td>\n",
       "      <td>0.8505450319506911</td>\n",
       "    </tr>\n",
       "    <tr>\n",
       "      <th>2</th>\n",
       "      <td>1.446297432106394e-05</td>\n",
       "      <td>5.678341825017476e-06</td>\n",
       "      <td>0.005854489261002293</td>\n",
       "      <td>nan</td>\n",
       "      <td>8.700235713857578e-06</td>\n",
       "      <td>0.0014508973076415646</td>\n",
       "      <td>0.9729992684742313</td>\n",
       "      <td>0.9709820538471687</td>\n",
       "    </tr>\n",
       "    <tr>\n",
       "      <th>3</th>\n",
       "      <td>1.4527105326803212e-08</td>\n",
       "      <td>0.0004460217006854485</td>\n",
       "      <td>0.047712796134339125</td>\n",
       "      <td>nan</td>\n",
       "      <td>-0.003647995610418945</td>\n",
       "      <td>-0.005547506423796977</td>\n",
       "      <td>0.6962792645453963</td>\n",
       "      <td>0.9918636572450977</td>\n",
       "    </tr>\n",
       "    <tr>\n",
       "      <th>4</th>\n",
       "      <td>1.9182464608048347e-06</td>\n",
       "      <td>0.0025139459088615295</td>\n",
       "      <td>0.055390666954093365</td>\n",
       "      <td>nan</td>\n",
       "      <td>0.023911058066205415</td>\n",
       "      <td>0.057420918350209016</td>\n",
       "      <td>0.749813187645352</td>\n",
       "      <td>0.8947283163579501</td>\n",
       "    </tr>\n",
       "    <tr>\n",
       "      <th>...</th>\n",
       "      <td>...</td>\n",
       "      <td>...</td>\n",
       "      <td>...</td>\n",
       "      <td>...</td>\n",
       "      <td>...</td>\n",
       "      <td>...</td>\n",
       "      <td>...</td>\n",
       "      <td>...</td>\n",
       "    </tr>\n",
       "    <tr>\n",
       "      <th>67</th>\n",
       "      <td>2.9830933286704836e-05</td>\n",
       "      <td>9.787571450231805e-05</td>\n",
       "      <td>0.06663435029855717</td>\n",
       "      <td>nan</td>\n",
       "      <td>-0.00010967818250207095</td>\n",
       "      <td>0.003208741343924487</td>\n",
       "      <td>0.9784944740192018</td>\n",
       "      <td>0.9823519226084153</td>\n",
       "    </tr>\n",
       "    <tr>\n",
       "      <th>68</th>\n",
       "      <td>0.0016963162690569206</td>\n",
       "      <td>1.1829465893078853e-06</td>\n",
       "      <td>0.07550369232667124</td>\n",
       "      <td>nan</td>\n",
       "      <td>0.0009446392504857126</td>\n",
       "      <td>-5.780109726960525e-08</td>\n",
       "      <td>0.9638814404226052</td>\n",
       "      <td>0.999999745675172</td>\n",
       "    </tr>\n",
       "    <tr>\n",
       "      <th>69</th>\n",
       "      <td>0.0013051266428194411</td>\n",
       "      <td>3.15093167722607e-06</td>\n",
       "      <td>0.10097501790123342</td>\n",
       "      <td>nan</td>\n",
       "      <td>0.0031828775825624156</td>\n",
       "      <td>0.015042114093675063</td>\n",
       "      <td>0.9465960137153957</td>\n",
       "      <td>0.9793170931211967</td>\n",
       "    </tr>\n",
       "    <tr>\n",
       "      <th>70</th>\n",
       "      <td>0.007644604693804947</td>\n",
       "      <td>0.00010887955185435057</td>\n",
       "      <td>0.0648284768622511</td>\n",
       "      <td>nan</td>\n",
       "      <td>0.02966921082314844</td>\n",
       "      <td>-0.006054842840727659</td>\n",
       "      <td>0.9007829311454182</td>\n",
       "      <td>0.9897533428849224</td>\n",
       "    </tr>\n",
       "    <tr>\n",
       "      <th>71</th>\n",
       "      <td>3.8529997297902834e-10</td>\n",
       "      <td>0.003833054125932913</td>\n",
       "      <td>0.09887083627649686</td>\n",
       "      <td>nan</td>\n",
       "      <td>-0.011616984686862009</td>\n",
       "      <td>0.005064056119855276</td>\n",
       "      <td>0.8383236497467708</td>\n",
       "      <td>0.9941363560717466</td>\n",
       "    </tr>\n",
       "  </tbody>\n",
       "</table>\n",
       "<p>72 rows × 8 columns</p>\n",
       "</div>"
      ],
      "text/plain": [
       "                     alpha             alpha_prime                  beta    T  \\\n",
       "0    0.0007026226058790586   8.861145096001833e-05     4.134876768431874   69   \n",
       "1     0.016291730092297226    0.006356722788614017  0.024479285618837592  nan   \n",
       "2    1.446297432106394e-05   5.678341825017476e-06  0.005854489261002293  nan   \n",
       "3   1.4527105326803212e-08   0.0004460217006854485  0.047712796134339125  nan   \n",
       "4   1.9182464608048347e-06   0.0025139459088615295  0.055390666954093365  nan   \n",
       "..                     ...                     ...                   ...  ...   \n",
       "67  2.9830933286704836e-05   9.787571450231805e-05   0.06663435029855717  nan   \n",
       "68   0.0016963162690569206  1.1829465893078853e-06   0.07550369232667124  nan   \n",
       "69   0.0013051266428194411    3.15093167722607e-06   0.10097501790123342  nan   \n",
       "70    0.007644604693804947  0.00010887955185435057    0.0648284768622511  nan   \n",
       "71  3.8529997297902834e-10    0.003833054125932913   0.09887083627649686  nan   \n",
       "\n",
       "                error_alpha              error_beta           GoF_alpha  \\\n",
       "0     0.0042895201770180025     0.05210047645482996   0.886624544748952   \n",
       "1       0.04857246690193226    0.007472748402465444  0.8731889709047655   \n",
       "2     8.700235713857578e-06   0.0014508973076415646  0.9729992684742313   \n",
       "3     -0.003647995610418945   -0.005547506423796977  0.6962792645453963   \n",
       "4      0.023911058066205415    0.057420918350209016   0.749813187645352   \n",
       "..                      ...                     ...                 ...   \n",
       "67  -0.00010967818250207095    0.003208741343924487  0.9784944740192018   \n",
       "68    0.0009446392504857126  -5.780109726960525e-08  0.9638814404226052   \n",
       "69    0.0031828775825624156    0.015042114093675063  0.9465960137153957   \n",
       "70      0.02966921082314844   -0.006054842840727659  0.9007829311454182   \n",
       "71    -0.011616984686862009    0.005064056119855276  0.8383236497467708   \n",
       "\n",
       "              GoF_beta  \n",
       "0   0.9426894758996871  \n",
       "1   0.8505450319506911  \n",
       "2   0.9709820538471687  \n",
       "3   0.9918636572450977  \n",
       "4   0.8947283163579501  \n",
       "..                 ...  \n",
       "67  0.9823519226084153  \n",
       "68   0.999999745675172  \n",
       "69  0.9793170931211967  \n",
       "70  0.9897533428849224  \n",
       "71  0.9941363560717466  \n",
       "\n",
       "[72 rows x 8 columns]"
      ]
     },
     "execution_count": 21,
     "metadata": {},
     "output_type": "execute_result"
    }
   ],
   "source": [
    "df_params"
   ]
  },
  {
   "cell_type": "markdown",
   "id": "9c7f0f9e",
   "metadata": {},
   "source": [
    "## Save parameters data"
   ]
  },
  {
   "cell_type": "code",
   "execution_count": 22,
   "id": "b3f0bd7a",
   "metadata": {},
   "outputs": [],
   "source": [
    "df_params.to_csv('clean_data/parameters.csv', index=False)"
   ]
  },
  {
   "cell_type": "code",
   "execution_count": null,
   "id": "d095cbb3",
   "metadata": {},
   "outputs": [],
   "source": []
  }
 ],
 "metadata": {
  "kernelspec": {
   "display_name": "Python 3 (ipykernel)",
   "language": "python",
   "name": "python3"
  },
  "language_info": {
   "codemirror_mode": {
    "name": "ipython",
    "version": 3
   },
   "file_extension": ".py",
   "mimetype": "text/x-python",
   "name": "python",
   "nbconvert_exporter": "python",
   "pygments_lexer": "ipython3",
   "version": "3.9.12"
  }
 },
 "nbformat": 4,
 "nbformat_minor": 5
}
