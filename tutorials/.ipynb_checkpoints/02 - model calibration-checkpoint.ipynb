{
 "cells": [
  {
   "cell_type": "markdown",
   "id": "af4bfe6e",
   "metadata": {},
   "source": [
    "# Model calibration\n",
    "\n",
    "Prepared by Omar A. Guerrero (oguerrero@turing.ac.uk, @guerrero_oa)\n",
    "\n",
    "In this tutorial, we will calibrate the free parameters of PPI's model. First, we will load all the data that we have prepared in the previous tutorials. Then, we extract the relevant information and put it in adecquate data structures. Finally, we run the calibration function and save the results with the parameter values."
   ]
  },
  {
   "cell_type": "markdown",
   "id": "0077e294",
   "metadata": {},
   "source": [
    "## Importing Python's libraries to manipulate and visualise data"
   ]
  },
  {
   "cell_type": "code",
   "execution_count": 1,
   "id": "fb9d93d1",
   "metadata": {},
   "outputs": [],
   "source": [
    "import pandas as pd\n",
    "import numpy as np"
   ]
  },
  {
   "cell_type": "markdown",
   "id": "5f56449b",
   "metadata": {},
   "source": [
    "## Importing PPI's functions\n",
    "\n",
    "In this example, we will import the PPI source code directly from the repository. This means that we will place a request to GitHub, download the `ppi.py` file, and copy it locally into the folder where these tutorials are saved. Then, we will import ppi."
   ]
  },
  {
   "cell_type": "code",
   "execution_count": 2,
   "id": "88cfa647",
   "metadata": {},
   "outputs": [],
   "source": [
    "import requests\n",
    "url = 'https://raw.githubusercontent.com/oguerrer/ppi/main/source_code/ppi.py'\n",
    "r = requests.get(url)\n",
    "with open('ppi.py', 'w') as f:\n",
    "    f.write(r.text)\n",
    "import ppi"
   ]
  },
  {
   "cell_type": "markdown",
   "id": "4e2963d9",
   "metadata": {},
   "source": [
    "## Load data"
   ]
  },
  {
   "cell_type": "markdown",
   "id": "f642dd32",
   "metadata": {},
   "source": [
    "### Indicators"
   ]
  },
  {
   "cell_type": "code",
   "execution_count": 3,
   "id": "0bc47e5b",
   "metadata": {},
   "outputs": [],
   "source": [
    "df_indis = pd.read_csv('https://raw.githubusercontent.com/oguerrer/ppi/main/tutorials/clean_data/data_indicators.csv')\n",
    "\n",
    "N = len(df_indis)\n",
    "I0 = df_indis.I0.values # initial values\n",
    "IF = df_indis.IF.values # final values\n",
    "success_rates = df_indis.successRates.values # success rates\n",
    "R = df_indis.instrumental # instrumental indicators\n",
    "qm = df_indis.qm.values # quality of monitoring\n",
    "rl = df_indis.rl.values # quality of the rule of law\n",
    "indis_index = dict([(code, i) for i, code in enumerate(df_indis.seriesCode)]) # used to build the network matrix"
   ]
  },
  {
   "cell_type": "markdown",
   "id": "49f8cf95",
   "metadata": {},
   "source": [
    "### Interdependency network"
   ]
  },
  {
   "cell_type": "code",
   "execution_count": 4,
   "id": "c313beeb",
   "metadata": {},
   "outputs": [],
   "source": [
    "df_net = pd.read_csv('https://raw.githubusercontent.com/oguerrer/ppi/main/tutorials/clean_data/data_network.csv')\n",
    "\n",
    "A = np.zeros((N, N)) # adjacency matrix\n",
    "for index, row in df_net.iterrows():\n",
    "    i = indis_index[row.origin]\n",
    "    j = indis_index[row.destination]\n",
    "    w = row.weight\n",
    "    A[i,j] = w"
   ]
  },
  {
   "cell_type": "markdown",
   "id": "f69236e0",
   "metadata": {},
   "source": [
    "### Budget"
   ]
  },
  {
   "cell_type": "code",
   "execution_count": 5,
   "id": "3f2e4277",
   "metadata": {},
   "outputs": [],
   "source": [
    "df_exp = pd.read_csv('https://raw.githubusercontent.com/oguerrer/ppi/main/tutorials/clean_data/data_expenditure.csv')\n",
    "\n",
    "Bs = df_exp.values[:,1::] # disbursement schedule (assumes that the expenditure programmes are properly sorted)"
   ]
  },
  {
   "cell_type": "markdown",
   "id": "ed4e8a07",
   "metadata": {},
   "source": [
    "### Budget-indicator mapping"
   ]
  },
  {
   "cell_type": "code",
   "execution_count": 6,
   "id": "007a8c6e",
   "metadata": {},
   "outputs": [],
   "source": [
    "df_rela = pd.read_csv('https://raw.githubusercontent.com/oguerrer/ppi/main/tutorials/clean_data/data_relational_table.csv')\n",
    "\n",
    "B_dict = {}\n",
    "for index, row in df_rela.iterrows():\n",
    "    B_dict[indis_index[row.seriesCode]] = [programme for programme in row.values[1::][row.values[1::].astype(str)!='nan']]"
   ]
  },
  {
   "cell_type": "markdown",
   "id": "137cba65",
   "metadata": {},
   "source": [
    "## Calibrate"
   ]
  },
  {
   "cell_type": "code",
   "execution_count": null,
   "id": "2f92e85e",
   "metadata": {},
   "outputs": [
    {
     "name": "stdout",
     "output_type": "stream",
     "text": [
      "Iteration: 1 .    Worst goodness of fit: -986997.9999980254\n",
      "Iteration: 2 .    Worst goodness of fit: -469499.99999906064\n",
      "Iteration: 3 .    Worst goodness of fit: -265499.9999994688\n",
      "Iteration: 4 .    Worst goodness of fit: -67078.12499986577\n",
      "Iteration: 5 .    Worst goodness of fit: -21619.09374995674\n",
      "Iteration: 6 .    Worst goodness of fit: -22570.31249995484\n",
      "Iteration: 7 .    Worst goodness of fit: -11032.667968727921\n",
      "Iteration: 8 .    Worst goodness of fit: -8879.150390607234\n",
      "Iteration: 9 .    Worst goodness of fit: -1758.0097656214784\n",
      "Iteration: 10 .    Worst goodness of fit: -3173.95019530615\n",
      "Iteration: 11 .    Worst goodness of fit: -1069.5789794900434\n",
      "Iteration: 12 .    Worst goodness of fit: -1131.8321228004697\n",
      "Iteration: 13 .    Worst goodness of fit: -554.1828613270121\n",
      "Iteration: 14 .    Worst goodness of fit: -497.43604659934664\n",
      "Iteration: 15 .    Worst goodness of fit: -158.33709049192774\n",
      "Iteration: 16 .    Worst goodness of fit: -208.43821763950606\n",
      "Iteration: 17 .    Worst goodness of fit: -50.89168655861763\n",
      "Iteration: 18 .    Worst goodness of fit: -62.76610493647414\n",
      "Iteration: 19 .    Worst goodness of fit: -8.338809341171563\n",
      "Iteration: 20 .    Worst goodness of fit: -17.377998679841557\n",
      "Iteration: 21 .    Worst goodness of fit: -2.117805799357523\n",
      "Iteration: 22 .    Worst goodness of fit: -11.424934258661656\n",
      "Iteration: 23 .    Worst goodness of fit: -2.124525003126952\n",
      "Iteration: 24 .    Worst goodness of fit: -3.7971408310037447\n",
      "Iteration: 25 .    Worst goodness of fit: -0.30626844322318947\n",
      "Iteration: 26 .    Worst goodness of fit: -0.5251145647694011\n",
      "Iteration: 27 .    Worst goodness of fit: 0.19515287191161335\n",
      "Iteration: 28 .    Worst goodness of fit: -1.1087744095948944\n",
      "Iteration: 29 .    Worst goodness of fit: 0.22823219891974778\n",
      "Iteration: 30 .    Worst goodness of fit: 0.20646472869997856\n",
      "Iteration: 31 .    Worst goodness of fit: -0.3912499221046941\n",
      "Iteration: 32 .    Worst goodness of fit: 0.15830551266742976\n",
      "Iteration: 33 .    Worst goodness of fit: -0.09854021658409917\n",
      "Iteration: 34 .    Worst goodness of fit: -0.02653667276530025\n",
      "Iteration: 35 .    Worst goodness of fit: 0.3649640297244332\n",
      "Iteration: 36 .    Worst goodness of fit: -0.15404502607798665\n",
      "Iteration: 37 .    Worst goodness of fit: 0.06757528941097324\n",
      "Iteration: 38 .    Worst goodness of fit: 0.06837203345763387\n",
      "Iteration: 39 .    Worst goodness of fit: 0.16635954309659629\n",
      "Iteration: 40 .    Worst goodness of fit: 0.34451785905830234\n",
      "Iteration: 41 .    Worst goodness of fit: 0.1904852150529862\n",
      "Iteration: 42 .    Worst goodness of fit: 0.3255199966041237\n",
      "Iteration: 43 .    Worst goodness of fit: 0.06242042589379426\n",
      "Iteration: 44 .    Worst goodness of fit: 0.1582040799431439\n",
      "Iteration: 45 .    Worst goodness of fit: -0.1972651812058055\n",
      "Iteration: 46 .    Worst goodness of fit: 0.3235828916253529\n",
      "Iteration: 47 .    Worst goodness of fit: 0.027987852086132636\n",
      "Iteration: 48 .    Worst goodness of fit: 0.29209659708118274\n",
      "Iteration: 49 .    Worst goodness of fit: 0.46350485786801054\n",
      "Iteration: 50 .    Worst goodness of fit: -0.18286545337013704\n",
      "Iteration: 51 .    Worst goodness of fit: 0.2078330922054229\n",
      "Iteration: 52 .    Worst goodness of fit: 0.29519351785796133\n",
      "Iteration: 53 .    Worst goodness of fit: 0.30185185045982554\n",
      "Iteration: 54 .    Worst goodness of fit: 0.38342440725824023\n",
      "Iteration: 55 .    Worst goodness of fit: 0.19770153833296755\n",
      "Iteration: 56 .    Worst goodness of fit: 0.05548904256325016\n",
      "Iteration: 57 .    Worst goodness of fit: -1.0211115122073315\n",
      "Iteration: 58 .    Worst goodness of fit: 0.24243477746463615\n",
      "Iteration: 59 .    Worst goodness of fit: -0.07201979966528338\n",
      "Iteration: 60 .    Worst goodness of fit: 0.09344331268010886\n",
      "Iteration: 61 .    Worst goodness of fit: 0.13226803879495974\n",
      "Iteration: 62 .    Worst goodness of fit: 0.2725285292326791\n",
      "Iteration: 63 .    Worst goodness of fit: 0.3279268032329139\n",
      "Iteration: 64 .    Worst goodness of fit: 0.3270666421992895\n",
      "Iteration: 65 .    Worst goodness of fit: 0.22928869395739038\n",
      "Iteration: 66 .    Worst goodness of fit: 0.24566535120442856\n",
      "Iteration: 67 .    Worst goodness of fit: 0.47975979464407703\n",
      "Iteration: 68 .    Worst goodness of fit: 0.25510804938304155\n",
      "Iteration: 69 .    Worst goodness of fit: 0.17065761739349572\n",
      "Iteration: 70 .    Worst goodness of fit: 0.2994841661199513\n",
      "Iteration: 71 .    Worst goodness of fit: 0.1334160552035395\n",
      "Iteration: 72 .    Worst goodness of fit: 0.03194043875445152\n",
      "Iteration: 73 .    Worst goodness of fit: 0.3932815265708768\n",
      "Iteration: 74 .    Worst goodness of fit: 0.17145257267189018\n",
      "Iteration: 75 .    Worst goodness of fit: -0.12180563672363043\n",
      "Iteration: 76 .    Worst goodness of fit: 0.1354791762190991\n",
      "Iteration: 77 .    Worst goodness of fit: 0.20127877510261183\n",
      "Iteration: 78 .    Worst goodness of fit: -0.15681309676944077\n",
      "Iteration: 79 .    Worst goodness of fit: -0.06323345409916281\n",
      "Iteration: 80 .    Worst goodness of fit: 0.30637228252006277\n",
      "Iteration: 81 .    Worst goodness of fit: 0.16705906759488276\n",
      "Iteration: 82 .    Worst goodness of fit: 0.2427930149229287\n",
      "Iteration: 83 .    Worst goodness of fit: 0.23701139002366178\n",
      "Iteration: 84 .    Worst goodness of fit: 0.17940483993476464\n",
      "Iteration: 85 .    Worst goodness of fit: 0.33110418199150804\n",
      "Iteration: 86 .    Worst goodness of fit: 0.3457816785024408\n",
      "Iteration: 87 .    Worst goodness of fit: -0.23576293031660756\n",
      "Iteration: 88 .    Worst goodness of fit: 0.1377583756657118\n",
      "Iteration: 89 .    Worst goodness of fit: 0.17176952303767767\n",
      "Iteration: 90 .    Worst goodness of fit: 0.0930985487037661\n",
      "Iteration: 91 .    Worst goodness of fit: -0.283649709601844\n",
      "Iteration: 92 .    Worst goodness of fit: 0.2050094505639387\n",
      "Iteration: 93 .    Worst goodness of fit: 0.21465889305172214\n",
      "Iteration: 94 .    Worst goodness of fit: -0.5141499149927546\n",
      "Iteration: 95 .    Worst goodness of fit: 0.31115716740821564\n",
      "Iteration: 96 .    Worst goodness of fit: -0.03363953358660887\n",
      "Iteration: 97 .    Worst goodness of fit: 0.27388532428135814\n",
      "Iteration: 98 .    Worst goodness of fit: 0.1817894967475545\n",
      "Iteration: 99 .    Worst goodness of fit: 0.280263839712695\n",
      "Iteration: 100 .    Worst goodness of fit: 0.19924965932911742\n",
      "Iteration: 101 .    Worst goodness of fit: 0.29543560274903047\n",
      "Iteration: 102 .    Worst goodness of fit: 0.37934312101862333\n",
      "Iteration: 103 .    Worst goodness of fit: 0.47740144695616105\n"
     ]
    }
   ],
   "source": [
    "T = Bs.shape[1]\n",
    "parallel_processes = 4 # number of cores to use\n",
    "threshold = 0.7 # the quality of the calibration (maximum is near to 1, but cannot be exactly 1)\n",
    "low_precision_counts = 50 # number of low-quality evaluations to accelerate the calibration\n",
    "\n",
    "ppi.calibrate(I0, IF, success_rates, A=A, R=R, qm=qm, rl=rl,  Bs=Bs, B_dict=B_dict,\n",
    "              T=T, threshold=threshold, parallel_processes=parallel_processes, verbose=True,\n",
    "             low_precision_counts=low_precision_counts)"
   ]
  },
  {
   "cell_type": "code",
   "execution_count": null,
   "id": "5f4fd748",
   "metadata": {},
   "outputs": [],
   "source": [
    "sum(I0==IF)"
   ]
  },
  {
   "cell_type": "code",
   "execution_count": null,
   "id": "3d7921ae",
   "metadata": {},
   "outputs": [],
   "source": [
    "res = ppi.run_ppi(I0, np.ones(N)*.5, np.ones(N)*.5, np.ones(N)*.5, Bs=Bs, B_dict=B_dict, R=R)\n",
    "tsI, tsC, tsF, tsP, tsS, tsG = res\n",
    "np.isnan(tsG).sum()"
   ]
  },
  {
   "cell_type": "code",
   "execution_count": null,
   "id": "c49c8c32",
   "metadata": {},
   "outputs": [],
   "source": []
  }
 ],
 "metadata": {
  "kernelspec": {
   "display_name": "Python 3 (ipykernel)",
   "language": "python",
   "name": "python3"
  },
  "language_info": {
   "codemirror_mode": {
    "name": "ipython",
    "version": 3
   },
   "file_extension": ".py",
   "mimetype": "text/x-python",
   "name": "python",
   "nbconvert_exporter": "python",
   "pygments_lexer": "ipython3",
   "version": "3.9.12"
  }
 },
 "nbformat": 4,
 "nbformat_minor": 5
}
