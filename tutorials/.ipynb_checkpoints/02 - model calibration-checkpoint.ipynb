{
 "cells": [
  {
   "cell_type": "markdown",
   "id": "af4bfe6e",
   "metadata": {},
   "source": [
    "# Model calibration\n",
    "\n",
    "Prepared by Omar A. Guerrero (oguerrero@turing.ac.uk, @guerrero_oa)\n",
    "\n",
    "In this tutorial, we will calibrate the free parameters of PPI's model. First, we will load all the data that we have prepared in the previous tutorials. Then, we extract the relevant information and put it in adecquate data structures. Finally, we run the calibration function and save the results with the parameter values."
   ]
  },
  {
   "cell_type": "markdown",
   "id": "0077e294",
   "metadata": {},
   "source": [
    "## Importing Python's libraries to manipulate and visualise data"
   ]
  },
  {
   "cell_type": "code",
   "execution_count": 2,
   "id": "fb9d93d1",
   "metadata": {},
   "outputs": [],
   "source": [
    "import matplotlib.pyplot as plt\n",
    "import pandas as pd"
   ]
  },
  {
   "cell_type": "markdown",
   "id": "5f56449b",
   "metadata": {},
   "source": [
    "## Importing PPI's functions\n",
    "\n",
    "In this example, we will import the PPI source code directly from the repository. This means that we will place a request to GitHub, download the `ppi.py` file, and copy it locally into the folder where these tutorials are saved. Then, we will import ppi."
   ]
  },
  {
   "cell_type": "code",
   "execution_count": 4,
   "id": "88cfa647",
   "metadata": {},
   "outputs": [],
   "source": [
    "import requests\n",
    "url = 'https://raw.githubusercontent.com/oguerrer/ppi/main/source_code/ppi.py'\n",
    "r = requests.get(url)\n",
    "with open('ppi.py', 'w') as f:\n",
    "    f.write(r.text)\n",
    "import ppi"
   ]
  },
  {
   "cell_type": "markdown",
   "id": "4e2963d9",
   "metadata": {},
   "source": [
    "## Load data"
   ]
  },
  {
   "cell_type": "markdown",
   "id": "f642dd32",
   "metadata": {},
   "source": [
    "### Indicators"
   ]
  },
  {
   "cell_type": "code",
   "execution_count": null,
   "id": "0499ac39",
   "metadata": {},
   "outputs": [],
   "source": [
    "df_indis = pd.read_csv('https://raw.githubusercontent.com/oguerrer/ppi/main/tutorials/clean_data/data_indicators.csv')\n"
   ]
  },
  {
   "cell_type": "markdown",
   "id": "49f8cf95",
   "metadata": {},
   "source": [
    "### Interdependency network"
   ]
  },
  {
   "cell_type": "code",
   "execution_count": null,
   "id": "c3363ec2",
   "metadata": {},
   "outputs": [],
   "source": [
    "df_net = pd.read_csv('https://raw.githubusercontent.com/oguerrer/ppi/main/tutorials/clean_data/data_network.csv')\n"
   ]
  },
  {
   "cell_type": "markdown",
   "id": "f69236e0",
   "metadata": {},
   "source": [
    "### Budget"
   ]
  },
  {
   "cell_type": "code",
   "execution_count": null,
   "id": "855c8066",
   "metadata": {},
   "outputs": [],
   "source": [
    "df_exp = pd.read_csv('https://raw.githubusercontent.com/oguerrer/ppi/main/tutorials/clean_data/data_expenditure.csv')\n"
   ]
  },
  {
   "cell_type": "markdown",
   "id": "ed4e8a07",
   "metadata": {},
   "source": [
    "### Budget-indicator mapping"
   ]
  },
  {
   "cell_type": "code",
   "execution_count": null,
   "id": "007a8c6e",
   "metadata": {},
   "outputs": [],
   "source": [
    "df_rela = pd.read_csv('https://raw.githubusercontent.com/oguerrer/ppi/main/tutorials/clean_data/data_relational_table.csv')\n"
   ]
  }
 ],
 "metadata": {
  "kernelspec": {
   "display_name": "Python 3 (ipykernel)",
   "language": "python",
   "name": "python3"
  },
  "language_info": {
   "codemirror_mode": {
    "name": "ipython",
    "version": 3
   },
   "file_extension": ".py",
   "mimetype": "text/x-python",
   "name": "python",
   "nbconvert_exporter": "python",
   "pygments_lexer": "ipython3",
   "version": "3.9.12"
  }
 },
 "nbformat": 4,
 "nbformat_minor": 5
}
