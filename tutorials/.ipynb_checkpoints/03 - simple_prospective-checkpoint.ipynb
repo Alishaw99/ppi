{
 "cells": [
  {
   "cell_type": "markdown",
   "id": "e9e78a98",
   "metadata": {},
   "source": [
    "# Simple prospective simulation\n",
    "\n",
    "Prepared by Omar A. Guerrero (oguerrero@turing.ac.uk, @guerrero_oa)\n",
    "\n",
    "In this tutorial I will demonstrate how to perform a simple prospective analysis by simulating the indicators forward 10 years and measuring the development gaps that would remain open. I will also show how to implement some intuitive visualisations."
   ]
  },
  {
   "cell_type": "markdown",
   "id": "c1d8ee16",
   "metadata": {},
   "source": [
    "## Importing Python's libraries to manipulate and visualise data"
   ]
  },
  {
   "cell_type": "code",
   "execution_count": 4,
   "id": "b9d2ceea",
   "metadata": {},
   "outputs": [],
   "source": [
    "import pandas as pd\n",
    "import numpy as np\n",
    "import matplotlib.pyplot as plt"
   ]
  },
  {
   "cell_type": "markdown",
   "id": "a9190ff1",
   "metadata": {},
   "source": [
    "## Importing PPI's functions"
   ]
  },
  {
   "cell_type": "code",
   "execution_count": 3,
   "id": "74960229",
   "metadata": {},
   "outputs": [],
   "source": [
    "import requests\n",
    "url = 'https://raw.githubusercontent.com/oguerrer/ppi/main/source_code/ppi.py'\n",
    "r = requests.get(url)\n",
    "with open('ppi.py', 'w') as f:\n",
    "    f.write(r.text)\n",
    "import ppi"
   ]
  },
  {
   "cell_type": "markdown",
   "id": "454a4ca7",
   "metadata": {},
   "source": [
    "## Load data\n",
    "\n",
    "Since we are now performing prospective simulations, the initial conditions are the most updated values, i.e. `IF`."
   ]
  },
  {
   "cell_type": "code",
   "execution_count": 9,
   "id": "a776dde3",
   "metadata": {},
   "outputs": [],
   "source": [
    "# INDICATORS\n",
    "df_indis = pd.read_csv('https://raw.githubusercontent.com/oguerrer/ppi/main/tutorials/clean_data/data_indicators.csv')\n",
    "N = len(df_indis)\n",
    "I0 = df_indis.IF.values # initial values\n",
    "R = df_indis.instrumental # instrumental indicators\n",
    "qm = df_indis.qm.values # quality of monitoring\n",
    "rl = df_indis.rl.values # quality of the rule of law\n",
    "indis_index = dict([(code, i) for i, code in enumerate(df_indis.seriesCode)]) # used to build the network matrix\n",
    "\n",
    "# PARAMETERS\n",
    "df_params = pd.read_csv('https://raw.githubusercontent.com/oguerrer/ppi/main/tutorials/clean_data/parameters.csv')\n",
    "alphas = df_params.apha.values\n",
    "alphas_prime = df_params.alpha_prime\n",
    "betas = df_params.beta\n",
    "\n",
    "# NETWORK\n",
    "df_net = pd.read_csv('https://raw.githubusercontent.com/oguerrer/ppi/main/tutorials/clean_data/data_network.csv')\n",
    "A = np.zeros((N, N)) # adjacency matrix\n",
    "for index, row in df_net.iterrows():\n",
    "    i = indis_index[row.origin]\n",
    "    j = indis_index[row.destination]\n",
    "    w = row.weight\n",
    "    A[i,j] = w\n",
    "\n",
    "# DISBURSEMENT SCHEDULE\n",
    "df_exp = pd.read_csv('https://raw.githubusercontent.com/oguerrer/ppi/main/tutorials/clean_data/data_expenditure.csv')\n",
    "Bs = df_exp.values[:,1::] # disbursement schedule (assumes that the expenditure programmes are properly sorted)\n",
    "\n",
    "# RELATIONAL TABLE\n",
    "df_rela = pd.read_csv('https://raw.githubusercontent.com/oguerrer/ppi/main/tutorials/clean_data/data_relational_table.csv')\n",
    "B_dict = {}\n",
    "for index, row in df_rela.iterrows():\n",
    "    B_dict[indis_index[row.seriesCode]] = [programme for programme in row.values[1::][row.values[1::].astype(str)!='nan']]"
   ]
  },
  {
   "cell_type": "markdown",
   "id": "5c8d555e",
   "metadata": {},
   "source": [
    "## Simulate"
   ]
  },
  {
   "cell_type": "code",
   "execution_count": null,
   "id": "bf2121a1",
   "metadata": {},
   "outputs": [],
   "source": [
    "ppi.run_ppi(I0, alphas, alphas_prime, betas, A=None, R=None, bs=None, qm=None, rl=None,\n",
    "            Imax=None, Imin=None, Bs=None, B_dict=None, G=None, T=None, frontier=None)"
   ]
  }
 ],
 "metadata": {
  "kernelspec": {
   "display_name": "Python 3 (ipykernel)",
   "language": "python",
   "name": "python3"
  },
  "language_info": {
   "codemirror_mode": {
    "name": "ipython",
    "version": 3
   },
   "file_extension": ".py",
   "mimetype": "text/x-python",
   "name": "python",
   "nbconvert_exporter": "python",
   "pygments_lexer": "ipython3",
   "version": "3.9.12"
  }
 },
 "nbformat": 4,
 "nbformat_minor": 5
}
