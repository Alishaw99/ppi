{
 "cells": [
  {
   "cell_type": "markdown",
   "id": "d2caef1a",
   "metadata": {},
   "source": [
    "# Data preparation – interdependency networks\n",
    "\n",
    "Prepared by Omar A. Guerrero (oguerrero@turing.ac.uk, @guerrero_oa)\n",
    "\n",
    "In the literature related to the Sustainable Development GOals (SDGs), much attention has been given to interdependency networks between SDGs, targets, or development indicators. On of the features of PPI is its ability to take into account such networks as an exogenous variable meant to preserve certain structure in the co-movenent of the indicators. This network is considered exogenous because it is a stylised fact of the system under study, not a causal account of the relationship between the indicators. While many studies attempt at making causal claims from such objects, we have shown (in the book and in multiple publications) that such statements cannot be causal (see https://doi.org/10.1016/j.im.2020.103342 for an example). Thus, the aim in this tutorial is to simply show how to prepare the data for the network input of PPI.\n",
    "\n",
    "In the book, as in most of PPI's studies, we have employed a method called `sparsebn` (see http://doi.org/10.18637/jss.v091.i11). However, for the sake of simplicity in these tutorials, let us employ a simple correlation approach to construct the network. First, we will lead the clean indicator data. Then, we will estimate pairwise correlations. Next, we will filter out edges using an arbitrary threshold criterion. Finally, we will structure the data and export it."
   ]
  },
  {
   "cell_type": "markdown",
   "id": "ea506c8c",
   "metadata": {},
   "source": [
    "## Import the necessary python libraries to manipulate data"
   ]
  },
  {
   "cell_type": "code",
   "execution_count": 1,
   "id": "e4b16daf",
   "metadata": {},
   "outputs": [],
   "source": [
    "import pandas as pd\n",
    "import numpy as np"
   ]
  },
  {
   "cell_type": "code",
   "execution_count": null,
   "id": "28670222",
   "metadata": {},
   "outputs": [],
   "source": []
  }
 ],
 "metadata": {
  "kernelspec": {
   "display_name": "Python 3 (ipykernel)",
   "language": "python",
   "name": "python3"
  },
  "language_info": {
   "codemirror_mode": {
    "name": "ipython",
    "version": 3
   },
   "file_extension": ".py",
   "mimetype": "text/x-python",
   "name": "python",
   "nbconvert_exporter": "python",
   "pygments_lexer": "ipython3",
   "version": "3.9.12"
  }
 },
 "nbformat": 4,
 "nbformat_minor": 5
}
