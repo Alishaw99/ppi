{
 "cells": [
  {
   "cell_type": "markdown",
   "id": "a1e43a5e",
   "metadata": {},
   "source": [
    "# Simple prospective simulation\n",
    "\n",
    "Prepared by Omar A. Guerrero (oguerrero@turing.ac.uk, @guerrero_oa)\n",
    "\n",
    "In this tutorial I will demonstrate how to perform a simple prospective analysis by simulating the indicators forward 10 years and measuring the development gaps that would remain open. I will also show how to implement some intuitive visualisations."
   ]
  },
  {
   "cell_type": "markdown",
   "id": "e73d9bc5",
   "metadata": {},
   "source": [
    "## Importing Python's libraries to manipulate and visualise data"
   ]
  },
  {
   "cell_type": "code",
   "execution_count": 1,
   "id": "f7866c73",
   "metadata": {},
   "outputs": [],
   "source": [
    "import pandas as pd\n",
    "import numpy as np\n",
    "import matplotlib.pyplot as plt"
   ]
  },
  {
   "cell_type": "markdown",
   "id": "9f2ba6b6",
   "metadata": {},
   "source": [
    "## Importing PPI's functions"
   ]
  },
  {
   "cell_type": "code",
   "execution_count": 2,
   "id": "c01e5adb",
   "metadata": {},
   "outputs": [],
   "source": [
    "import requests\n",
    "url = 'https://raw.githubusercontent.com/oguerrer/ppi/main/source_code/ppi.py'\n",
    "r = requests.get(url)\n",
    "with open('ppi.py', 'w') as f:\n",
    "    f.write(r.text)\n",
    "import ppi"
   ]
  },
  {
   "cell_type": "markdown",
   "id": "f4e3d0c4",
   "metadata": {},
   "source": [
    "## Load data\n",
    "\n",
    "Since we are now performing prospective simulations, the initial conditions are the most updated values, i.e. `IF`."
   ]
  },
  {
   "cell_type": "code",
   "execution_count": 4,
   "id": "0b8e52e5",
   "metadata": {},
   "outputs": [],
   "source": [
    "# INDICATORS\n",
    "df_indis = pd.read_csv('https://raw.githubusercontent.com/oguerrer/ppi/main/tutorials/clean_data/data_indicators.csv')\n",
    "N = len(df_indis)\n",
    "I0 = df_indis.IF.values # initial values\n",
    "R = df_indis.instrumental # instrumental indicators\n",
    "qm = df_indis.qm.values # quality of monitoring\n",
    "rl = df_indis.rl.values # quality of the rule of law\n",
    "indis_index = dict([(code, i) for i, code in enumerate(df_indis.seriesCode)]) # used to build the network matrix\n",
    "Imax = df_indis.maxVals.values\n",
    "Imin = df_indis.minVals.values\n",
    "\n",
    "# PARAMETERS\n",
    "df_params = pd.read_csv('https://raw.githubusercontent.com/oguerrer/ppi/main/tutorials/clean_data/parameters.csv')\n",
    "alphas = df_params.alpha.values\n",
    "alphas_prime = df_params.alpha_prime.values\n",
    "betas = df_params.beta.values\n",
    "\n",
    "# NETWORK\n",
    "df_net = pd.read_csv('https://raw.githubusercontent.com/oguerrer/ppi/main/tutorials/clean_data/data_network.csv')\n",
    "A = np.zeros((N, N)) # adjacency matrix\n",
    "for index, row in df_net.iterrows():\n",
    "    i = indis_index[row.origin]\n",
    "    j = indis_index[row.destination]\n",
    "    w = row.weight\n",
    "    A[i,j] = w\n",
    "\n",
    "# DISBURSEMENT SCHEDULE\n",
    "df_exp = pd.read_csv('https://raw.githubusercontent.com/oguerrer/ppi/main/tutorials/clean_data/data_expenditure.csv')\n",
    "Bs = df_exp.values[:,1::] # disbursement schedule (assumes that the expenditure programmes are properly sorted)\n",
    "\n",
    "# RELATIONAL TABLE\n",
    "df_rela = pd.read_csv('https://raw.githubusercontent.com/oguerrer/ppi/main/tutorials/clean_data/data_relational_table.csv')\n",
    "B_dict = {}\n",
    "for index, row in df_rela.iterrows():\n",
    "    B_dict[indis_index[row.seriesCode]] = [programme for programme in row.values[1::][row.values[1::].astype(str)!='nan']]"
   ]
  },
  {
   "cell_type": "markdown",
   "id": "02d16fa0",
   "metadata": {},
   "source": [
    "## Simulate"
   ]
  },
  {
   "cell_type": "code",
   "execution_count": 10,
   "id": "337bd9f7",
   "metadata": {},
   "outputs": [],
   "source": [
    "T = 30\n",
    "sample_size = 100\n",
    "\n",
    "outputs = []\n",
    "for sample in range(sample_size):\n",
    "    output = ppi.run_ppi(I0, alphas, alphas_prime, betas, A=A, R=R, qm=qm, rl=rl,\n",
    "                Imax=Imax, Imin=Imin, Bs=Bs, B_dict=B_dict, T=T, G=Imax)\n",
    "    outputs.append(output)"
   ]
  },
  {
   "cell_type": "code",
   "execution_count": 15,
   "id": "6bc6ba09",
   "metadata": {},
   "outputs": [
    {
     "data": {
      "text/plain": [
       "100"
      ]
     },
     "execution_count": 15,
     "metadata": {},
     "output_type": "execute_result"
    }
   ],
   "source": [
    "tsI, tsC, tsF, tsP, tsS, tsG = zip(*outputs)\n",
    "len(tsI)"
   ]
  },
  {
   "cell_type": "code",
   "execution_count": null,
   "id": "263b8855",
   "metadata": {},
   "outputs": [],
   "source": []
  }
 ],
 "metadata": {
  "kernelspec": {
   "display_name": "Python 3 (ipykernel)",
   "language": "python",
   "name": "python3"
  },
  "language_info": {
   "codemirror_mode": {
    "name": "ipython",
    "version": 3
   },
   "file_extension": ".py",
   "mimetype": "text/x-python",
   "name": "python",
   "nbconvert_exporter": "python",
   "pygments_lexer": "ipython3",
   "version": "3.9.12"
  }
 },
 "nbformat": 4,
 "nbformat_minor": 5
}
